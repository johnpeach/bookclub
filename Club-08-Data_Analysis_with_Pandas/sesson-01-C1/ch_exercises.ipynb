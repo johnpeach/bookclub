{
 "cells": [
  {
   "cell_type": "markdown",
   "metadata": {},
   "source": [
    "# Coding exercises\n",
    "Exercises 1-3 are thought exercises that don't require coding. \n",
    "\n",
    "## Exercise 4: Generate the data by running this cell\n",
    "This will give you a list of numbers to work with in the remaining exercises."
   ]
  },
  {
   "cell_type": "code",
   "execution_count": 1,
   "metadata": {},
   "outputs": [],
   "source": [
    "import random \n",
    "random.seed(0)\n",
    "salaries = [round(random.random()*1000000, -3) for _ in range(100)]"
   ]
  },
  {
   "cell_type": "code",
   "execution_count": 2,
   "metadata": {},
   "outputs": [],
   "source": [
    "from random import seed, random\n",
    "seed(0)\n",
    "salaries = [round(random()*1000000, -3) for _ in range(100)]"
   ]
  },
  {
   "cell_type": "markdown",
   "metadata": {},
   "source": [
    "## Exercise 5: Calculating statistics and verifying\n",
    "### mean"
   ]
  },
  {
   "cell_type": "code",
   "execution_count": 3,
   "metadata": {},
   "outputs": [
    {
     "data": {
      "text/plain": [
       "100"
      ]
     },
     "execution_count": 3,
     "metadata": {},
     "output_type": "execute_result"
    }
   ],
   "source": [
    "len(salaries) "
   ]
  },
  {
   "cell_type": "code",
   "execution_count": 4,
   "metadata": {},
   "outputs": [
    {
     "data": {
      "text/plain": [
       "585690.0"
      ]
     },
     "execution_count": 4,
     "metadata": {},
     "output_type": "execute_result"
    }
   ],
   "source": [
    "sum(salaries) / len(salaries)"
   ]
  },
  {
   "cell_type": "code",
   "execution_count": 5,
   "metadata": {},
   "outputs": [
    {
     "data": {
      "text/plain": [
       "585690.0"
      ]
     },
     "execution_count": 5,
     "metadata": {},
     "output_type": "execute_result"
    }
   ],
   "source": [
    "from statistics import mean\n",
    "mean(salaries)"
   ]
  },
  {
   "cell_type": "markdown",
   "metadata": {},
   "source": [
    "### median"
   ]
  },
  {
   "cell_type": "code",
   "execution_count": 6,
   "metadata": {},
   "outputs": [
    {
     "data": {
      "text/plain": [
       "[1000.0,\n",
       " 14000.0,\n",
       " 80000.0,\n",
       " 82000.0,\n",
       " 90000.0,\n",
       " 101000.0,\n",
       " 109000.0,\n",
       " 187000.0,\n",
       " 189000.0,\n",
       " 191000.0,\n",
       " 239000.0,\n",
       " 244000.0,\n",
       " 251000.0,\n",
       " 259000.0,\n",
       " 260000.0,\n",
       " 276000.0,\n",
       " 282000.0,\n",
       " 290000.0,\n",
       " 303000.0,\n",
       " 310000.0,\n",
       " 320000.0,\n",
       " 325000.0,\n",
       " 385000.0,\n",
       " 391000.0,\n",
       " 399000.0,\n",
       " 405000.0,\n",
       " 421000.0,\n",
       " 434000.0,\n",
       " 445000.0,\n",
       " 448000.0,\n",
       " 451000.0,\n",
       " 472000.0,\n",
       " 477000.0,\n",
       " 477000.0,\n",
       " 477000.0,\n",
       " 486000.0,\n",
       " 494000.0,\n",
       " 505000.0,\n",
       " 508000.0,\n",
       " 511000.0,\n",
       " 540000.0,\n",
       " 541000.0,\n",
       " 547000.0,\n",
       " 549000.0,\n",
       " 551000.0,\n",
       " 568000.0,\n",
       " 576000.0,\n",
       " 580000.0,\n",
       " 583000.0,\n",
       " 588000.0,\n",
       " 590000.0,\n",
       " 596000.0,\n",
       " 603000.0,\n",
       " 611000.0,\n",
       " 613000.0,\n",
       " 613000.0,\n",
       " 618000.0,\n",
       " 657000.0,\n",
       " 660000.0,\n",
       " 668000.0,\n",
       " 684000.0,\n",
       " 705000.0,\n",
       " 707000.0,\n",
       " 720000.0,\n",
       " 730000.0,\n",
       " 756000.0,\n",
       " 758000.0,\n",
       " 758000.0,\n",
       " 784000.0,\n",
       " 793000.0,\n",
       " 803000.0,\n",
       " 805000.0,\n",
       " 810000.0,\n",
       " 812000.0,\n",
       " 814000.0,\n",
       " 825000.0,\n",
       " 842000.0,\n",
       " 844000.0,\n",
       " 849000.0,\n",
       " 865000.0,\n",
       " 868000.0,\n",
       " 870000.0,\n",
       " 877000.0,\n",
       " 895000.0,\n",
       " 898000.0,\n",
       " 899000.0,\n",
       " 902000.0,\n",
       " 908000.0,\n",
       " 910000.0,\n",
       " 913000.0,\n",
       " 917000.0,\n",
       " 923000.0,\n",
       " 923000.0,\n",
       " 933000.0,\n",
       " 950000.0,\n",
       " 964000.0,\n",
       " 967000.0,\n",
       " 968000.0,\n",
       " 983000.0,\n",
       " 996000.0]"
      ]
     },
     "execution_count": 6,
     "metadata": {},
     "output_type": "execute_result"
    }
   ],
   "source": [
    "sorted(salaries)"
   ]
  },
  {
   "cell_type": "code",
   "execution_count": 7,
   "metadata": {},
   "outputs": [
    {
     "data": {
      "text/plain": [
       "1000.0"
      ]
     },
     "execution_count": 7,
     "metadata": {},
     "output_type": "execute_result"
    }
   ],
   "source": [
    "sorted(salaries)[0]"
   ]
  },
  {
   "cell_type": "code",
   "execution_count": 8,
   "metadata": {},
   "outputs": [
    {
     "data": {
      "text/plain": [
       "996000.0"
      ]
     },
     "execution_count": 8,
     "metadata": {},
     "output_type": "execute_result"
    }
   ],
   "source": [
    "sorted(salaries)[99]"
   ]
  },
  {
   "cell_type": "code",
   "execution_count": 9,
   "metadata": {},
   "outputs": [
    {
     "data": {
      "text/plain": [
       "588000.0"
      ]
     },
     "execution_count": 9,
     "metadata": {},
     "output_type": "execute_result"
    }
   ],
   "source": [
    "sorted(salaries)[49]"
   ]
  },
  {
   "cell_type": "code",
   "execution_count": 10,
   "metadata": {},
   "outputs": [
    {
     "data": {
      "text/plain": [
       "590000.0"
      ]
     },
     "execution_count": 10,
     "metadata": {},
     "output_type": "execute_result"
    }
   ],
   "source": [
    "sorted(salaries)[50]"
   ]
  },
  {
   "cell_type": "code",
   "execution_count": 11,
   "metadata": {},
   "outputs": [
    {
     "data": {
      "text/plain": [
       "589000.0"
      ]
     },
     "execution_count": 11,
     "metadata": {},
     "output_type": "execute_result"
    }
   ],
   "source": [
    "(sorted(salaries)[49] + sorted(salaries)[50])/2"
   ]
  },
  {
   "cell_type": "code",
   "execution_count": 12,
   "metadata": {},
   "outputs": [
    {
     "data": {
      "text/plain": [
       "589000.0"
      ]
     },
     "execution_count": 12,
     "metadata": {},
     "output_type": "execute_result"
    }
   ],
   "source": [
    "from statistics import median\n",
    "median(salaries)"
   ]
  },
  {
   "cell_type": "markdown",
   "metadata": {},
   "source": [
    "### mode"
   ]
  },
  {
   "cell_type": "code",
   "execution_count": 13,
   "metadata": {},
   "outputs": [
    {
     "data": {
      "text/plain": [
       "Counter({1000.0: 1,\n",
       "         14000.0: 1,\n",
       "         80000.0: 1,\n",
       "         82000.0: 1,\n",
       "         90000.0: 1,\n",
       "         101000.0: 1,\n",
       "         109000.0: 1,\n",
       "         187000.0: 1,\n",
       "         189000.0: 1,\n",
       "         191000.0: 1,\n",
       "         239000.0: 1,\n",
       "         244000.0: 1,\n",
       "         251000.0: 1,\n",
       "         259000.0: 1,\n",
       "         260000.0: 1,\n",
       "         276000.0: 1,\n",
       "         282000.0: 1,\n",
       "         290000.0: 1,\n",
       "         303000.0: 1,\n",
       "         310000.0: 1,\n",
       "         320000.0: 1,\n",
       "         325000.0: 1,\n",
       "         385000.0: 1,\n",
       "         391000.0: 1,\n",
       "         399000.0: 1,\n",
       "         405000.0: 1,\n",
       "         421000.0: 1,\n",
       "         434000.0: 1,\n",
       "         445000.0: 1,\n",
       "         448000.0: 1,\n",
       "         451000.0: 1,\n",
       "         472000.0: 1,\n",
       "         477000.0: 3,\n",
       "         486000.0: 1,\n",
       "         494000.0: 1,\n",
       "         505000.0: 1,\n",
       "         508000.0: 1,\n",
       "         511000.0: 1,\n",
       "         540000.0: 1,\n",
       "         541000.0: 1,\n",
       "         547000.0: 1,\n",
       "         549000.0: 1,\n",
       "         551000.0: 1,\n",
       "         568000.0: 1,\n",
       "         576000.0: 1,\n",
       "         580000.0: 1,\n",
       "         583000.0: 1,\n",
       "         588000.0: 1,\n",
       "         590000.0: 1,\n",
       "         596000.0: 1,\n",
       "         603000.0: 1,\n",
       "         611000.0: 1,\n",
       "         613000.0: 2,\n",
       "         618000.0: 1,\n",
       "         657000.0: 1,\n",
       "         660000.0: 1,\n",
       "         668000.0: 1,\n",
       "         684000.0: 1,\n",
       "         705000.0: 1,\n",
       "         707000.0: 1,\n",
       "         720000.0: 1,\n",
       "         730000.0: 1,\n",
       "         756000.0: 1,\n",
       "         758000.0: 2,\n",
       "         784000.0: 1,\n",
       "         793000.0: 1,\n",
       "         803000.0: 1,\n",
       "         805000.0: 1,\n",
       "         810000.0: 1,\n",
       "         812000.0: 1,\n",
       "         814000.0: 1,\n",
       "         825000.0: 1,\n",
       "         842000.0: 1,\n",
       "         844000.0: 1,\n",
       "         849000.0: 1,\n",
       "         865000.0: 1,\n",
       "         868000.0: 1,\n",
       "         870000.0: 1,\n",
       "         877000.0: 1,\n",
       "         895000.0: 1,\n",
       "         898000.0: 1,\n",
       "         899000.0: 1,\n",
       "         902000.0: 1,\n",
       "         908000.0: 1,\n",
       "         910000.0: 1,\n",
       "         913000.0: 1,\n",
       "         917000.0: 1,\n",
       "         923000.0: 2,\n",
       "         933000.0: 1,\n",
       "         950000.0: 1,\n",
       "         964000.0: 1,\n",
       "         967000.0: 1,\n",
       "         968000.0: 1,\n",
       "         983000.0: 1,\n",
       "         996000.0: 1})"
      ]
     },
     "execution_count": 13,
     "metadata": {},
     "output_type": "execute_result"
    }
   ],
   "source": [
    "from collections import Counter\n",
    "Counter(sorted(salaries))"
   ]
  },
  {
   "cell_type": "code",
   "execution_count": 14,
   "metadata": {},
   "outputs": [
    {
     "data": {
      "text/plain": [
       "477000.0"
      ]
     },
     "execution_count": 14,
     "metadata": {},
     "output_type": "execute_result"
    }
   ],
   "source": [
    "Counter(salaries).most_common(1)[0][0]"
   ]
  },
  {
   "cell_type": "code",
   "execution_count": 15,
   "metadata": {},
   "outputs": [
    {
     "data": {
      "text/plain": [
       "477000.0"
      ]
     },
     "execution_count": 15,
     "metadata": {},
     "output_type": "execute_result"
    }
   ],
   "source": [
    "from statistics import mode\n",
    "mode(salaries)"
   ]
  },
  {
   "cell_type": "markdown",
   "metadata": {},
   "source": [
    "### sample variance\n",
    "Remember to use Bessel's correction."
   ]
  },
  {
   "cell_type": "code",
   "execution_count": 16,
   "metadata": {},
   "outputs": [],
   "source": [
    "#my pseudo code\n",
    "#sum((salaries - mean(salaries))^2) / (len(salaries) - 1)"
   ]
  },
  {
   "cell_type": "code",
   "execution_count": 17,
   "metadata": {},
   "outputs": [
    {
     "data": {
      "text/plain": [
       "70664054444.44444"
      ]
     },
     "execution_count": 17,
     "metadata": {},
     "output_type": "execute_result"
    }
   ],
   "source": [
    "sum([(x - sum(salaries)/len(salaries))**2 for x in salaries]) / (len(salaries) - 1) "
   ]
  },
  {
   "cell_type": "code",
   "execution_count": 18,
   "metadata": {},
   "outputs": [
    {
     "data": {
      "text/plain": [
       "70664054444.44444"
      ]
     },
     "execution_count": 18,
     "metadata": {},
     "output_type": "execute_result"
    }
   ],
   "source": [
    "from statistics import variance\n",
    "var1 = variance(salaries)\n",
    "var1"
   ]
  },
  {
   "cell_type": "markdown",
   "metadata": {},
   "source": [
    "### sample standard deviation\n",
    "Remember to use Bessel's correction."
   ]
  },
  {
   "cell_type": "code",
   "execution_count": 19,
   "metadata": {},
   "outputs": [],
   "source": [
    "#sqrt(var1)"
   ]
  },
  {
   "cell_type": "code",
   "execution_count": 20,
   "metadata": {},
   "outputs": [
    {
     "data": {
      "text/plain": [
       "265827.11382484"
      ]
     },
     "execution_count": 20,
     "metadata": {},
     "output_type": "execute_result"
    }
   ],
   "source": [
    "from math import sqrt\n",
    "sqrt(var1)"
   ]
  },
  {
   "cell_type": "code",
   "execution_count": 25,
   "metadata": {},
   "outputs": [
    {
     "data": {
      "text/plain": [
       "265827.11382484"
      ]
     },
     "execution_count": 25,
     "metadata": {},
     "output_type": "execute_result"
    }
   ],
   "source": [
    "sqrt(sum([(x - sum(salaries)/len(salaries))**2 for x in salaries]) / (len(salaries) - 1))"
   ]
  },
  {
   "cell_type": "code",
   "execution_count": 26,
   "metadata": {},
   "outputs": [
    {
     "data": {
      "text/plain": [
       "265827.11382484"
      ]
     },
     "execution_count": 26,
     "metadata": {},
     "output_type": "execute_result"
    }
   ],
   "source": [
    "from statistics import stdev\n",
    "stdev(salaries)"
   ]
  },
  {
   "cell_type": "markdown",
   "metadata": {},
   "source": [
    "## Exercise 6: Calculating more statistics\n",
    "### range"
   ]
  },
  {
   "cell_type": "code",
   "execution_count": 27,
   "metadata": {},
   "outputs": [
    {
     "data": {
      "text/plain": [
       "995000.0"
      ]
     },
     "execution_count": 27,
     "metadata": {},
     "output_type": "execute_result"
    }
   ],
   "source": [
    "max(salaries) - min(salaries)"
   ]
  },
  {
   "cell_type": "markdown",
   "metadata": {},
   "source": [
    "### coefficient of variation"
   ]
  },
  {
   "cell_type": "code",
   "execution_count": 28,
   "metadata": {},
   "outputs": [
    {
     "data": {
      "text/plain": [
       "0.45386998894439035"
      ]
     },
     "execution_count": 28,
     "metadata": {},
     "output_type": "execute_result"
    }
   ],
   "source": [
    "stdev(salaries) / mean(salaries)"
   ]
  },
  {
   "cell_type": "markdown",
   "metadata": {},
   "source": [
    "### interquartile range"
   ]
  },
  {
   "cell_type": "code",
   "execution_count": 29,
   "metadata": {},
   "outputs": [],
   "source": [
    "#IQR = Q3 - Q1"
   ]
  },
  {
   "cell_type": "code",
   "execution_count": 30,
   "metadata": {},
   "outputs": [
    {
     "data": {
      "text/plain": [
       "array([403500., 589000., 816750.])"
      ]
     },
     "execution_count": 30,
     "metadata": {},
     "output_type": "execute_result"
    }
   ],
   "source": [
    "from numpy import percentile\n",
    "quartiles = percentile(salaries, [25, 50, 75])\n",
    "quartiles"
   ]
  },
  {
   "cell_type": "code",
   "execution_count": 31,
   "metadata": {},
   "outputs": [
    {
     "data": {
      "text/plain": [
       "403500.0"
      ]
     },
     "execution_count": 31,
     "metadata": {},
     "output_type": "execute_result"
    }
   ],
   "source": [
    "quartiles[0]"
   ]
  },
  {
   "cell_type": "code",
   "execution_count": 32,
   "metadata": {},
   "outputs": [
    {
     "data": {
      "text/plain": [
       "816750.0"
      ]
     },
     "execution_count": 32,
     "metadata": {},
     "output_type": "execute_result"
    }
   ],
   "source": [
    "quartiles[2]"
   ]
  },
  {
   "cell_type": "code",
   "execution_count": 33,
   "metadata": {},
   "outputs": [
    {
     "data": {
      "text/plain": [
       "413250.0"
      ]
     },
     "execution_count": 33,
     "metadata": {},
     "output_type": "execute_result"
    }
   ],
   "source": [
    "quartiles[2] - quartiles[0]"
   ]
  },
  {
   "cell_type": "markdown",
   "metadata": {},
   "source": [
    "### quartile coefficent of dispersion"
   ]
  },
  {
   "cell_type": "code",
   "execution_count": 34,
   "metadata": {},
   "outputs": [],
   "source": [
    "#QCD = (Q3 - Q1) / (Q3 + Q1)"
   ]
  },
  {
   "cell_type": "code",
   "execution_count": 35,
   "metadata": {},
   "outputs": [
    {
     "data": {
      "text/plain": [
       "1220250.0"
      ]
     },
     "execution_count": 35,
     "metadata": {},
     "output_type": "execute_result"
    }
   ],
   "source": [
    "quartiles[2] + quartiles[0]"
   ]
  },
  {
   "cell_type": "code",
   "execution_count": 36,
   "metadata": {},
   "outputs": [
    {
     "data": {
      "text/plain": [
       "0.338660110633067"
      ]
     },
     "execution_count": 36,
     "metadata": {},
     "output_type": "execute_result"
    }
   ],
   "source": [
    "(quartiles[2] - quartiles[0]) / (quartiles[2] + quartiles[0]) "
   ]
  },
  {
   "cell_type": "markdown",
   "metadata": {},
   "source": [
    "## Exercise 7: Scaling data\n",
    "### min-max scaling"
   ]
  },
  {
   "cell_type": "code",
   "execution_count": 38,
   "metadata": {},
   "outputs": [],
   "source": [
    "#x = (x - min) / (max - min)"
   ]
  },
  {
   "cell_type": "code",
   "execution_count": 42,
   "metadata": {},
   "outputs": [
    {
     "data": {
      "text/plain": [
       "[0.8472361809045226,\n",
       " 0.7608040201005025,\n",
       " 0.4221105527638191,\n",
       " 0.2592964824120603,\n",
       " 0.5125628140703518]"
      ]
     },
     "execution_count": 42,
     "metadata": {},
     "output_type": "execute_result"
    }
   ],
   "source": [
    "#my solution:\n",
    "scaled1 = [(x - min(salaries))/(max(salaries) - min(salaries)) for x in salaries]\n",
    "scaled1[:5]"
   ]
  },
  {
   "cell_type": "code",
   "execution_count": 44,
   "metadata": {},
   "outputs": [
    {
     "data": {
      "text/plain": [
       "[0.8472361809045226,\n",
       " 0.7608040201005025,\n",
       " 0.4221105527638191,\n",
       " 0.2592964824120603,\n",
       " 0.5125628140703518]"
      ]
     },
     "execution_count": 44,
     "metadata": {},
     "output_type": "execute_result"
    }
   ],
   "source": [
    "#from solution:\n",
    "min_salary, max_salary = min(salaries), max(salaries) #interesting to line 2 up like this\n",
    "salary_range = max_salary - min_salary\n",
    "min_max_scaled = [(x - min_salary) / salary_range for x in salaries]\n",
    "min_max_scaled[:5]"
   ]
  },
  {
   "cell_type": "markdown",
   "metadata": {},
   "source": [
    "### standardizing"
   ]
  },
  {
   "cell_type": "code",
   "execution_count": null,
   "metadata": {},
   "outputs": [],
   "source": [
    "#x = (x - mean) / stdev #zscore"
   ]
  },
  {
   "cell_type": "code",
   "execution_count": 50,
   "metadata": {},
   "outputs": [
    {
     "data": {
      "text/plain": [
       "[0.9717217942267801,\n",
       " 0.6482032533127501,\n",
       " -0.6195380058503674,\n",
       " -1.228956652688424,\n",
       " -0.28097209094033604]"
      ]
     },
     "execution_count": 50,
     "metadata": {},
     "output_type": "execute_result"
    }
   ],
   "source": [
    "#my solution:\n",
    "scaled2 = [(x - mean(salaries)) / stdev(salaries) for x in salaries]\n",
    "scaled2[:5]"
   ]
  },
  {
   "cell_type": "code",
   "execution_count": 49,
   "metadata": {},
   "outputs": [
    {
     "data": {
      "text/plain": [
       "[0.9717217942267801,\n",
       " 0.6482032533127501,\n",
       " -0.6195380058503674,\n",
       " -1.228956652688424,\n",
       " -0.28097209094033604]"
      ]
     },
     "execution_count": 49,
     "metadata": {},
     "output_type": "execute_result"
    }
   ],
   "source": [
    "#from solution:\n",
    "from statistics import mean, stdev\n",
    "mean_salary, std_salary = mean(salaries), stdev(salaries)\n",
    "standardized = [(x - mean_salary) / std_salary for x in salaries]\n",
    "standardized[:5]"
   ]
  },
  {
   "cell_type": "markdown",
   "metadata": {},
   "source": [
    "## Exercise 8: Calculating covariance and correlation\n",
    "### covariance"
   ]
  },
  {
   "cell_type": "code",
   "execution_count": 57,
   "metadata": {},
   "outputs": [
    {
     "data": {
      "text/plain": [
       "array([[0.07137603, 0.26716293],\n",
       "       [0.26716293, 1.        ]])"
      ]
     },
     "execution_count": 57,
     "metadata": {},
     "output_type": "execute_result"
    }
   ],
   "source": [
    "import numpy as np\n",
    "cov1 = np.cov(scaled1, scaled2)\n",
    "cov1"
   ]
  },
  {
   "cell_type": "code",
   "execution_count": 64,
   "metadata": {},
   "outputs": [
    {
     "data": {
      "text/plain": [
       "0.267162928467176"
      ]
     },
     "execution_count": 64,
     "metadata": {},
     "output_type": "execute_result"
    }
   ],
   "source": [
    "#covariance is the 2nd or 3rd element\n",
    "cov1[0,1] #grabs 1st row, 2nd column"
   ]
  },
  {
   "cell_type": "markdown",
   "metadata": {},
   "source": [
    "### Pearson correlation coefficient ($\\rho$)"
   ]
  },
  {
   "cell_type": "code",
   "execution_count": null,
   "metadata": {},
   "outputs": [],
   "source": [
    "#rho = cov(x,y) / stdev(x) * stdev(y)"
   ]
  },
  {
   "cell_type": "code",
   "execution_count": 66,
   "metadata": {},
   "outputs": [
    {
     "data": {
      "text/plain": [
       "1.0000000000000004"
      ]
     },
     "execution_count": 66,
     "metadata": {},
     "output_type": "execute_result"
    }
   ],
   "source": [
    "cov1[0,1] / (stdev(scaled1) * stdev(scaled2))"
   ]
  }
 ],
 "metadata": {
  "kernelspec": {
   "display_name": "Python 3",
   "language": "python",
   "name": "python3"
  },
  "language_info": {
   "codemirror_mode": {
    "name": "ipython",
    "version": 3
   },
   "file_extension": ".py",
   "mimetype": "text/x-python",
   "name": "python",
   "nbconvert_exporter": "python",
   "pygments_lexer": "ipython3",
   "version": "3.8.5"
  }
 },
 "nbformat": 4,
 "nbformat_minor": 4
}
