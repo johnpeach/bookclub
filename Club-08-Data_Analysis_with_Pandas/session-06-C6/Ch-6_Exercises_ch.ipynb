{
 "cells": [
  {
   "cell_type": "markdown",
   "id": "5eb2805d",
   "metadata": {},
   "source": [
    "# Chapter 6 Exercises #"
   ]
  },
  {
   "cell_type": "markdown",
   "id": "17ccdc52",
   "metadata": {},
   "source": [
    "Be sure to add titles, axis labels, and legends (where\n",
    "needed) to the plots"
   ]
  },
  {
   "cell_type": "markdown",
   "id": "09be8af3",
   "metadata": {},
   "source": [
    "1. Using seaborn, create a heatmap to visualize the correlation coefficients\n",
    "between earthquake magnitude and whether there was a tsunami with the\n",
    "magType of mb ."
   ]
  },
  {
   "cell_type": "code",
   "execution_count": 166,
   "id": "d5b48721",
   "metadata": {},
   "outputs": [
    {
     "data": {
      "text/html": [
       "<div>\n",
       "<style scoped>\n",
       "    .dataframe tbody tr th:only-of-type {\n",
       "        vertical-align: middle;\n",
       "    }\n",
       "\n",
       "    .dataframe tbody tr th {\n",
       "        vertical-align: top;\n",
       "    }\n",
       "\n",
       "    .dataframe thead th {\n",
       "        text-align: right;\n",
       "    }\n",
       "</style>\n",
       "<table border=\"1\" class=\"dataframe\">\n",
       "  <thead>\n",
       "    <tr style=\"text-align: right;\">\n",
       "      <th></th>\n",
       "      <th>mag</th>\n",
       "      <th>magType</th>\n",
       "      <th>time</th>\n",
       "      <th>place</th>\n",
       "      <th>tsunami</th>\n",
       "      <th>parsed_place</th>\n",
       "    </tr>\n",
       "  </thead>\n",
       "  <tbody>\n",
       "    <tr>\n",
       "      <th>0</th>\n",
       "      <td>1.35</td>\n",
       "      <td>ml</td>\n",
       "      <td>1539475168010</td>\n",
       "      <td>9km NE of Aguanga, CA</td>\n",
       "      <td>0</td>\n",
       "      <td>California</td>\n",
       "    </tr>\n",
       "    <tr>\n",
       "      <th>1</th>\n",
       "      <td>1.29</td>\n",
       "      <td>ml</td>\n",
       "      <td>1539475129610</td>\n",
       "      <td>9km NE of Aguanga, CA</td>\n",
       "      <td>0</td>\n",
       "      <td>California</td>\n",
       "    </tr>\n",
       "    <tr>\n",
       "      <th>2</th>\n",
       "      <td>3.42</td>\n",
       "      <td>ml</td>\n",
       "      <td>1539475062610</td>\n",
       "      <td>8km NE of Aguanga, CA</td>\n",
       "      <td>0</td>\n",
       "      <td>California</td>\n",
       "    </tr>\n",
       "    <tr>\n",
       "      <th>3</th>\n",
       "      <td>0.44</td>\n",
       "      <td>ml</td>\n",
       "      <td>1539474978070</td>\n",
       "      <td>9km NE of Aguanga, CA</td>\n",
       "      <td>0</td>\n",
       "      <td>California</td>\n",
       "    </tr>\n",
       "    <tr>\n",
       "      <th>4</th>\n",
       "      <td>2.16</td>\n",
       "      <td>md</td>\n",
       "      <td>1539474716050</td>\n",
       "      <td>10km NW of Avenal, CA</td>\n",
       "      <td>0</td>\n",
       "      <td>California</td>\n",
       "    </tr>\n",
       "  </tbody>\n",
       "</table>\n",
       "</div>"
      ],
      "text/plain": [
       "    mag magType           time                  place  tsunami parsed_place\n",
       "0  1.35      ml  1539475168010  9km NE of Aguanga, CA        0   California\n",
       "1  1.29      ml  1539475129610  9km NE of Aguanga, CA        0   California\n",
       "2  3.42      ml  1539475062610  8km NE of Aguanga, CA        0   California\n",
       "3  0.44      ml  1539474978070  9km NE of Aguanga, CA        0   California\n",
       "4  2.16      md  1539474716050  10km NW of Avenal, CA        0   California"
      ]
     },
     "execution_count": 166,
     "metadata": {},
     "output_type": "execute_result"
    }
   ],
   "source": [
    "import pandas as pd\n",
    "import seaborn as sns\n",
    "import matplotlib.pyplot as plt\n",
    "import numpy as np\n",
    "%matplotlib inline\n",
    "earthquakes = pd.read_csv('earthquakes.csv')\n",
    "fb = pd.read_csv('fb_stock_prices_2018.csv', index_col = 'date', parse_dates = True)\n",
    "earthquakes.head()"
   ]
  },
  {
   "cell_type": "code",
   "execution_count": 167,
   "id": "2ffe74a6",
   "metadata": {},
   "outputs": [
    {
     "data": {
      "text/plain": [
       "pandas.core.series.Series"
      ]
     },
     "execution_count": 167,
     "metadata": {},
     "output_type": "execute_result"
    }
   ],
   "source": [
    "type(earthquakes.query('magType == \"mb\"')['mag']) # series if [ ], dataframe if [[ ]]"
   ]
  },
  {
   "cell_type": "code",
   "execution_count": 192,
   "id": "ffd8d5b8",
   "metadata": {},
   "outputs": [
    {
     "data": {
      "text/plain": [
       "Text(0.5, 1.0, 'Correlation between earthquake magnitude and \\n whether there was a tsunami with `mb` magtype')"
      ]
     },
     "execution_count": 192,
     "metadata": {},
     "output_type": "execute_result"
    },
    {
     "data": {
      "image/png": "[encoded data removed]",
      "text/plain": [
       "<Figure size 432x288 with 2 Axes>"
      ]
     },
     "metadata": {
      "needs_background": "light"
     },
     "output_type": "display_data"
    }
   ],
   "source": [
    "sns.heatmap(\n",
    "    earthquakes.query('magType == \"mb\"')[['mag', 'tsunami']].corr(),\n",
    "    annot=True, center=0)\n",
    "plt.title('Correlation between earthquake magnitude and \\n whether there was a tsunami with `mb` magtype')"
   ]
  },
  {
   "cell_type": "markdown",
   "id": "83fe2e8f",
   "metadata": {},
   "source": [
    "2. Create a box plot of Facebook volume traded and closing prices, and draw\n",
    "reference lines for the bounds of a Tukey fence with a multiplier of 1.5. The\n",
    "bounds will be at Q1 - 1.5 * IQR and Q3 + 1.5 * IQR . Be sure to use\n",
    "the quantile() method on the data to make this easier. (Pick whichever\n",
    "orientation you prefer for the plot, but make sure to use subplots.)"
   ]
  },
  {
   "cell_type": "code",
   "execution_count": 169,
   "id": "dcd304ba",
   "metadata": {},
   "outputs": [
    {
     "data": {
      "text/plain": [
       "pandas.core.frame.DataFrame"
      ]
     },
     "execution_count": 169,
     "metadata": {},
     "output_type": "execute_result"
    }
   ],
   "source": [
    "subset = fb[['volume', 'close']]\n",
    "type(subset)"
   ]
  },
  {
   "cell_type": "code",
   "execution_count": 170,
   "id": "8976ea13",
   "metadata": {},
   "outputs": [
    {
     "data": {
      "text/html": [
       "<div>\n",
       "<style scoped>\n",
       "    .dataframe tbody tr th:only-of-type {\n",
       "        vertical-align: middle;\n",
       "    }\n",
       "\n",
       "    .dataframe tbody tr th {\n",
       "        vertical-align: top;\n",
       "    }\n",
       "\n",
       "    .dataframe thead th {\n",
       "        text-align: right;\n",
       "    }\n",
       "</style>\n",
       "<table border=\"1\" class=\"dataframe\">\n",
       "  <thead>\n",
       "    <tr style=\"text-align: right;\">\n",
       "      <th></th>\n",
       "      <th>volume</th>\n",
       "      <th>close</th>\n",
       "    </tr>\n",
       "  </thead>\n",
       "  <tbody>\n",
       "    <tr>\n",
       "      <th>0.25</th>\n",
       "      <td>17828394.0</td>\n",
       "      <td>157.9150</td>\n",
       "    </tr>\n",
       "    <tr>\n",
       "      <th>0.75</th>\n",
       "      <td>30313840.0</td>\n",
       "      <td>185.2700</td>\n",
       "    </tr>\n",
       "    <tr>\n",
       "      <th>iqr</th>\n",
       "      <td>12485446.0</td>\n",
       "      <td>27.3550</td>\n",
       "    </tr>\n",
       "    <tr>\n",
       "      <th>lower</th>\n",
       "      <td>-899775.0</td>\n",
       "      <td>116.8825</td>\n",
       "    </tr>\n",
       "    <tr>\n",
       "      <th>upper</th>\n",
       "      <td>49042009.0</td>\n",
       "      <td>226.3025</td>\n",
       "    </tr>\n",
       "  </tbody>\n",
       "</table>\n",
       "</div>"
      ],
      "text/plain": [
       "           volume     close\n",
       "0.25   17828394.0  157.9150\n",
       "0.75   30313840.0  185.2700\n",
       "iqr    12485446.0   27.3550\n",
       "lower   -899775.0  116.8825\n",
       "upper  49042009.0  226.3025"
      ]
     },
     "execution_count": 170,
     "metadata": {},
     "output_type": "execute_result"
    }
   ],
   "source": [
    "quantiles = subset.quantile([0.25, 0.75])\n",
    "quantiles.loc['iqr',:] = quantiles.loc[0.75,:] - quantiles.loc[0.25,:] # add a row with \"iqr\" values\n",
    "quantiles.loc['lower',:] = quantiles.loc[0.25,:] - 1.5 * quantiles.loc['iqr',:]\n",
    "quantiles.loc['upper',:] = quantiles.loc[0.75,:] + 1.5 * quantiles.loc['iqr',:]\n",
    "quantiles"
   ]
  },
  {
   "cell_type": "code",
   "execution_count": 171,
   "id": "20b0d448",
   "metadata": {},
   "outputs": [
    {
     "data": {
      "text/plain": [
       "volume   -899775.0000\n",
       "close        116.8825\n",
       "Name: lower, dtype: float64"
      ]
     },
     "execution_count": 171,
     "metadata": {},
     "output_type": "execute_result"
    }
   ],
   "source": [
    "quantiles.loc['lower']"
   ]
  },
  {
   "cell_type": "code",
   "execution_count": 172,
   "id": "99dc9045",
   "metadata": {},
   "outputs": [
    {
     "data": {
      "text/plain": [
       "-899775.0"
      ]
     },
     "execution_count": 172,
     "metadata": {},
     "output_type": "execute_result"
    }
   ],
   "source": [
    "quantiles.loc['lower'].iloc[0]"
   ]
  },
  {
   "cell_type": "code",
   "execution_count": 177,
   "id": "3fa1a711",
   "metadata": {},
   "outputs": [
    {
     "data": {
      "image/png": "[encoded data removed]",
      "text/plain": [
       "<Figure size 720x360 with 2 Axes>"
      ]
     },
     "metadata": {
      "needs_background": "light"
     },
     "output_type": "display_data"
    }
   ],
   "source": [
    "axes = subset.plot(kind = 'box', subplots = True, layout = (1,2), figsize = (10,5), title = ['Volume traded', 'Closing price'])\n",
    "plt.suptitle('Facebook stock')\n",
    "# following is a solution courtesy of John Peach\n",
    "for j, lower, upper in zip(axes, quantiles.loc['lower'], quantiles.loc['upper']):\n",
    "    j.axhline(y = lower, color = 'r', linestyle = '--')\n",
    "    j.axhline(y = upper, color = 'r', linestyle = '--')"
   ]
  },
  {
   "cell_type": "code",
   "execution_count": 180,
   "id": "bd659fe2",
   "metadata": {},
   "outputs": [],
   "source": [
    "# learning moment provided by John Peach on how for iteration using for loop and zip works"
   ]
  },
  {
   "cell_type": "code",
   "execution_count": 183,
   "id": "c6c58982",
   "metadata": {},
   "outputs": [
    {
     "data": {
      "text/plain": [
       "range(0, 5)"
      ]
     },
     "execution_count": 183,
     "metadata": {},
     "output_type": "execute_result"
    }
   ],
   "source": [
    "i = range(5)\n",
    "i"
   ]
  },
  {
   "cell_type": "code",
   "execution_count": 182,
   "id": "71cb1f4b",
   "metadata": {},
   "outputs": [
    {
     "name": "stdout",
     "output_type": "stream",
     "text": [
      "0 a\n",
      "1 b\n",
      "2 c\n",
      "3 d\n",
      "4 e\n"
     ]
    }
   ],
   "source": [
    "a = ['a', 'b', 'c', 'd', 'e']\n",
    "for i, j in zip(range(5), a):\n",
    "    print(str(i) + ' ' + j)"
   ]
  },
  {
   "cell_type": "markdown",
   "id": "ad72b9f0",
   "metadata": {},
   "source": [
    "3. Fill in the area between the bounds in the plot from exercise #2."
   ]
  },
  {
   "cell_type": "code",
   "execution_count": 146,
   "id": "750cf36a",
   "metadata": {},
   "outputs": [
    {
     "data": {
      "image/png": "[encoded data removed]",
      "text/plain": [
       "<Figure size 720x360 with 2 Axes>"
      ]
     },
     "metadata": {
      "needs_background": "light"
     },
     "output_type": "display_data"
    }
   ],
   "source": [
    "axes = subset.plot(kind = 'box', subplots = True, layout = (1,2), figsize = (10,5))\n",
    "plt.suptitle('Boxplot of Facebook volumne traded and closing prices')\n",
    "for j, lower, upper in zip(axes, quantiles.loc['lower'], quantiles.loc['upper']):\n",
    "    j.axhline(y = lower, color = 'r', linestyle = '--')\n",
    "    j.axhline(y = upper, color = 'r', linestyle = '--')\n",
    "    j.axhspan(lower, upper, alpha = 0.2) # used axhspan instead of fill_between function"
   ]
  },
  {
   "cell_type": "markdown",
   "id": "c8ed7f9b",
   "metadata": {},
   "source": [
    "4. Use axvspan() to shade a rectangle from '2018-07-25' to\n",
    "'2018-07-31' , which marks the large decline in Facebook price on a line\n",
    "plot of the closing price."
   ]
  },
  {
   "cell_type": "code",
   "execution_count": 184,
   "id": "b6888c38",
   "metadata": {},
   "outputs": [
    {
     "data": {
      "text/plain": [
       "<matplotlib.legend.Legend at 0x7f1d144e1a50>"
      ]
     },
     "execution_count": 184,
     "metadata": {},
     "output_type": "execute_result"
    },
    {
     "data": {
      "image/png": "[encoded data removed]",
      "text/plain": [
       "<Figure size 432x288 with 1 Axes>"
      ]
     },
     "metadata": {
      "needs_background": "light"
     },
     "output_type": "display_data"
    }
   ],
   "source": [
    "ax = fb.close.plot(title = 'FB Closing Price')\n",
    "ax.axvspan('2018-07-25', '2018-07-31', alpha = 0.5, label = 'large decline')\n",
    "plt.ylabel('Price ($)')\n",
    "plt.legend()"
   ]
  },
  {
   "cell_type": "markdown",
   "id": "39893b3e",
   "metadata": {},
   "source": [
    "5. Using the Facebook stock price data, annotate the following three events on\n",
    "a line plot of the closing price:\n",
    "\n",
    "    * Disappointing user growth announced after close on July 25, 2018\n",
    "\n",
    "    * Cambridge Analytica story breaks on March 19, 2018 (when it affected the market)\n",
    "\n",
    "    * FTC launches investigation on March 20, 2018"
   ]
  },
  {
   "cell_type": "code",
   "execution_count": 191,
   "id": "478ad4a3",
   "metadata": {},
   "outputs": [
    {
     "data": {
      "text/plain": [
       "Text(0, 0.5, 'Price ($)')"
      ]
     },
     "execution_count": 191,
     "metadata": {},
     "output_type": "execute_result"
    },
    {
     "data": {
      "image/png": "[encoded data removed]",
      "text/plain": [
       "<Figure size 432x288 with 1 Axes>"
      ]
     },
     "metadata": {
      "needs_background": "light"
     },
     "output_type": "display_data"
    }
   ],
   "source": [
    "ax = fb.close.plot(title = 'FB Closing Price')\n",
    "plt.annotate(\n",
    "    'Disappointing',\n",
    "    xy = ('2018-07-26', fb.close['2018-07-26']),\n",
    "    xytext = ('2018-08-25', (fb.close['2018-07-26'] + 10)),\n",
    "    color = 'red',\n",
    "    arrowprops = {'arrowstyle' : '->', 'color': 'red'})\n",
    "plt.annotate(\n",
    "    'Story',\n",
    "    xy = ('2018-03-19', fb.close['2018-03-19']),\n",
    "    xytext = ('2018-04-19', (fb.close['2018-03-19'] + 20)),\n",
    "    color = 'green',\n",
    "    arrowprops = {'arrowstyle' : '->', 'color': 'green'})\n",
    "plt.annotate(\n",
    "    'Investigation',\n",
    "    xy = ('2018-03-20', fb.close['2018-03-20']),\n",
    "    xytext = ('2017-12-22', (fb.close['2018-03-20'] - 20)),\n",
    "    color = 'blue',\n",
    "    arrowprops = {'arrowstyle' : '->', 'color': 'blue'})\n",
    "plt.ylabel('Price ($)')"
   ]
  },
  {
   "cell_type": "markdown",
   "id": "237c104c",
   "metadata": {},
   "source": [
    "6. Modify the reg_resid_plots() function to use a matplotlib colormap\n",
    "instead of cycling between two colors. Remember, for this use case, we\n",
    "should pick a qualitative colormap or make our own."
   ]
  },
  {
   "cell_type": "markdown",
   "id": "5cd2b4ac",
   "metadata": {},
   "source": [
    "Meh."
   ]
  }
 ],
 "metadata": {
  "kernelspec": {
   "display_name": "Python 3",
   "language": "python",
   "name": "python3"
  },
  "language_info": {
   "codemirror_mode": {
    "name": "ipython",
    "version": 3
   },
   "file_extension": ".py",
   "mimetype": "text/x-python",
   "name": "python",
   "nbconvert_exporter": "python",
   "pygments_lexer": "ipython3",
   "version": "3.7.10"
  }
 },
 "nbformat": 4,
 "nbformat_minor": 5
}
