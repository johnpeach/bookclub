{
 "cells": [
  {
   "cell_type": "code",
   "execution_count": 1,
   "id": "61d3dd96",
   "metadata": {},
   "outputs": [],
   "source": [
    "import numpy as np\n",
    "import pandas as pd\n",
    "import matplotlib.pyplot as plt\n",
    "import seaborn as sns\n",
    "import dc_stat_think as dcst"
   ]
  },
  {
   "cell_type": "code",
   "execution_count": 2,
   "id": "828e4ae0",
   "metadata": {},
   "outputs": [
    {
     "data": {
      "text/html": [
       "<div>\n",
       "<style scoped>\n",
       "    .dataframe tbody tr th:only-of-type {\n",
       "        vertical-align: middle;\n",
       "    }\n",
       "\n",
       "    .dataframe tbody tr th {\n",
       "        vertical-align: top;\n",
       "    }\n",
       "\n",
       "    .dataframe thead th {\n",
       "        text-align: right;\n",
       "    }\n",
       "</style>\n",
       "<table border=\"1\" class=\"dataframe\">\n",
       "  <thead>\n",
       "    <tr style=\"text-align: right;\">\n",
       "      <th></th>\n",
       "      <th>user_id</th>\n",
       "      <th>subscription_signup_date</th>\n",
       "      <th>subscription_monthly_cost</th>\n",
       "      <th>country</th>\n",
       "      <th>source</th>\n",
       "      <th>billing_cycles</th>\n",
       "      <th>is_active</th>\n",
       "    </tr>\n",
       "  </thead>\n",
       "  <tbody>\n",
       "    <tr>\n",
       "      <th>0</th>\n",
       "      <td>1459</td>\n",
       "      <td>January, 2015</td>\n",
       "      <td>29</td>\n",
       "      <td>Spain</td>\n",
       "      <td>ads</td>\n",
       "      <td>4</td>\n",
       "      <td>0</td>\n",
       "    </tr>\n",
       "    <tr>\n",
       "      <th>1</th>\n",
       "      <td>12474</td>\n",
       "      <td>January, 2015</td>\n",
       "      <td>49</td>\n",
       "      <td>France</td>\n",
       "      <td>ads</td>\n",
       "      <td>5</td>\n",
       "      <td>0</td>\n",
       "    </tr>\n",
       "    <tr>\n",
       "      <th>2</th>\n",
       "      <td>12294</td>\n",
       "      <td>January, 2015</td>\n",
       "      <td>49</td>\n",
       "      <td>Germany</td>\n",
       "      <td>ads</td>\n",
       "      <td>2</td>\n",
       "      <td>0</td>\n",
       "    </tr>\n",
       "    <tr>\n",
       "      <th>3</th>\n",
       "      <td>3878</td>\n",
       "      <td>January, 2015</td>\n",
       "      <td>49</td>\n",
       "      <td>China</td>\n",
       "      <td>ads</td>\n",
       "      <td>1</td>\n",
       "      <td>0</td>\n",
       "    </tr>\n",
       "    <tr>\n",
       "      <th>4</th>\n",
       "      <td>9567</td>\n",
       "      <td>January, 2015</td>\n",
       "      <td>49</td>\n",
       "      <td>UK</td>\n",
       "      <td>ads</td>\n",
       "      <td>5</td>\n",
       "      <td>0</td>\n",
       "    </tr>\n",
       "  </tbody>\n",
       "</table>\n",
       "</div>"
      ],
      "text/plain": [
       "   user_id subscription_signup_date  subscription_monthly_cost  country  \\\n",
       "0     1459            January, 2015                         29    Spain   \n",
       "1    12474            January, 2015                         49   France   \n",
       "2    12294            January, 2015                         49  Germany   \n",
       "3     3878            January, 2015                         49    China   \n",
       "4     9567            January, 2015                         49       UK   \n",
       "\n",
       "  source  billing_cycles  is_active  \n",
       "0    ads               4          0  \n",
       "1    ads               5          0  \n",
       "2    ads               2          0  \n",
       "3    ads               1          0  \n",
       "4    ads               5          0  "
      ]
     },
     "metadata": {},
     "output_type": "display_data"
    },
    {
     "data": {
      "text/html": [
       "<div>\n",
       "<style scoped>\n",
       "    .dataframe tbody tr th:only-of-type {\n",
       "        vertical-align: middle;\n",
       "    }\n",
       "\n",
       "    .dataframe tbody tr th {\n",
       "        vertical-align: top;\n",
       "    }\n",
       "\n",
       "    .dataframe thead th {\n",
       "        text-align: right;\n",
       "    }\n",
       "</style>\n",
       "<table border=\"1\" class=\"dataframe\">\n",
       "  <thead>\n",
       "    <tr style=\"text-align: right;\">\n",
       "      <th></th>\n",
       "      <th>user_id</th>\n",
       "      <th>subscription_signup_date</th>\n",
       "      <th>subscription_monthly_cost</th>\n",
       "      <th>country</th>\n",
       "      <th>source</th>\n",
       "      <th>billing_cycles</th>\n",
       "      <th>is_active</th>\n",
       "    </tr>\n",
       "  </thead>\n",
       "  <tbody>\n",
       "    <tr>\n",
       "      <th>499995</th>\n",
       "      <td>496962</td>\n",
       "      <td>January, 2015</td>\n",
       "      <td>29</td>\n",
       "      <td>Spain</td>\n",
       "      <td>ads</td>\n",
       "      <td>2</td>\n",
       "      <td>0</td>\n",
       "    </tr>\n",
       "    <tr>\n",
       "      <th>499996</th>\n",
       "      <td>480669</td>\n",
       "      <td>January, 2015</td>\n",
       "      <td>29</td>\n",
       "      <td>Italy</td>\n",
       "      <td>seo</td>\n",
       "      <td>1</td>\n",
       "      <td>0</td>\n",
       "    </tr>\n",
       "    <tr>\n",
       "      <th>499997</th>\n",
       "      <td>491164</td>\n",
       "      <td>January, 2015</td>\n",
       "      <td>29</td>\n",
       "      <td>UK</td>\n",
       "      <td>ads</td>\n",
       "      <td>2</td>\n",
       "      <td>0</td>\n",
       "    </tr>\n",
       "    <tr>\n",
       "      <th>499998</th>\n",
       "      <td>493323</td>\n",
       "      <td>January, 2015</td>\n",
       "      <td>49</td>\n",
       "      <td>Germany</td>\n",
       "      <td>ads</td>\n",
       "      <td>1</td>\n",
       "      <td>0</td>\n",
       "    </tr>\n",
       "    <tr>\n",
       "      <th>499999</th>\n",
       "      <td>482977</td>\n",
       "      <td>January, 2015</td>\n",
       "      <td>49</td>\n",
       "      <td>France</td>\n",
       "      <td>ads</td>\n",
       "      <td>5</td>\n",
       "      <td>0</td>\n",
       "    </tr>\n",
       "  </tbody>\n",
       "</table>\n",
       "</div>"
      ],
      "text/plain": [
       "        user_id subscription_signup_date  subscription_monthly_cost  country  \\\n",
       "499995   496962            January, 2015                         29    Spain   \n",
       "499996   480669            January, 2015                         29    Italy   \n",
       "499997   491164            January, 2015                         29       UK   \n",
       "499998   493323            January, 2015                         49  Germany   \n",
       "499999   482977            January, 2015                         49   France   \n",
       "\n",
       "       source  billing_cycles  is_active  \n",
       "499995    ads               2          0  \n",
       "499996    seo               1          0  \n",
       "499997    ads               2          0  \n",
       "499998    ads               1          0  \n",
       "499999    ads               5          0  "
      ]
     },
     "metadata": {},
     "output_type": "display_data"
    }
   ],
   "source": [
    "subscription = pd.read_csv('subscription.csv')\n",
    "display(subscription.head())\n",
    "display(subscription.tail())"
   ]
  },
  {
   "cell_type": "code",
   "execution_count": 3,
   "id": "6404e82d",
   "metadata": {},
   "outputs": [
    {
     "name": "stdout",
     "output_type": "stream",
     "text": [
      "<class 'pandas.core.frame.DataFrame'>\n",
      "RangeIndex: 500000 entries, 0 to 499999\n",
      "Data columns (total 7 columns):\n",
      " #   Column                     Non-Null Count   Dtype \n",
      "---  ------                     --------------   ----- \n",
      " 0   user_id                    500000 non-null  int64 \n",
      " 1   subscription_signup_date   500000 non-null  object\n",
      " 2   subscription_monthly_cost  500000 non-null  int64 \n",
      " 3   country                    500000 non-null  object\n",
      " 4   source                     500000 non-null  object\n",
      " 5   billing_cycles             500000 non-null  int64 \n",
      " 6   is_active                  500000 non-null  int64 \n",
      "dtypes: int64(4), object(3)\n",
      "memory usage: 26.7+ MB\n"
     ]
    }
   ],
   "source": [
    "subscription.info()"
   ]
  },
  {
   "cell_type": "markdown",
   "id": "fc951e9f",
   "metadata": {},
   "source": [
    "Thoughts:\n",
    "* No missing data\n",
    "* `subscription_signup_date` is not necessary since we know for a fact that it's all January, 2015. For larger datast, use pandas profiling\n",
    "* ~~Users could switch subscription (either upgrade or downgrade). I think these users should be handled separately. Let's now check that.~~"
   ]
  },
  {
   "cell_type": "code",
   "execution_count": 8,
   "id": "de50db2b",
   "metadata": {},
   "outputs": [
    {
     "data": {
      "text/plain": [
       "False"
      ]
     },
     "execution_count": 8,
     "metadata": {},
     "output_type": "execute_result"
    }
   ],
   "source": [
    "# check if there's any repeated user_id\n",
    "np.any(subscription['user_id'].value_counts() > 1)"
   ]
  },
  {
   "cell_type": "markdown",
   "id": "46e3cdac",
   "metadata": {},
   "source": [
    "Thoughts:\n",
    "* So we don't have any users who switched their subscription.\n",
    "* ~~Next, regarding `is_active`. I feel this one is redundant. Ideally, `is_active` = 0 if users didn't have their eighth subscription. Let's check that~~"
   ]
  },
  {
   "cell_type": "code",
   "execution_count": 17,
   "id": "d13ac880",
   "metadata": {},
   "outputs": [
    {
     "data": {
      "image/png": "[encoded data removed]",
      "text/plain": [
       "<Figure size 432x288 with 1 Axes>"
      ]
     },
     "metadata": {
      "needs_background": "light"
     },
     "output_type": "display_data"
    }
   ],
   "source": [
    "# distribution of billing cycles for active/inactive users\n",
    "_ = sns.countplot(x='is_active', hue='billing_cycles', data=subscription)\n",
    "\n",
    "# control legend\n",
    "# Credit: https://stackoverflow.com/a/34579525/5158984. No idea how it works\n",
    "_ = plt.legend(bbox_to_anchor=(1.05, 1), loc=2, borderaxespad=0.)\n",
    "_ = plt.title('Distribution of billing cycles for active (0) and inactice (1) users')\n",
    "\n",
    "# show the plot with tight layout\n",
    "plt.tight_layout()\n",
    "plt.show()"
   ]
  },
  {
   "cell_type": "markdown",
   "id": "6d707155",
   "metadata": {},
   "source": [
    "Thoughts:\n",
    "* It's clear that users with 8 billing cycles or more are still active users.\n",
    "* How can I write this sentence more coherently? Ask both book club."
   ]
  },
  {
   "cell_type": "markdown",
   "id": "9ceacf81",
   "metadata": {},
   "source": [
    "# Compute the retention rate for each subscription price point"
   ]
  },
  {
   "cell_type": "code",
   "execution_count": 18,
   "id": "6f505a8f",
   "metadata": {},
   "outputs": [
    {
     "data": {
      "image/png": "[encoded data removed]",
      "text/plain": [
       "<Figure size 432x288 with 1 Axes>"
      ]
     },
     "metadata": {
      "needs_background": "light"
     },
     "output_type": "display_data"
    }
   ],
   "source": [
    "# quickly check the distribution of each subscription type\n",
    "sns.countplot(y='subscription_monthly_cost', data=subscription)\n",
    "\n",
    "_ = plt.title('Subscription type count')\n",
    "plt.show()"
   ]
  },
  {
   "cell_type": "markdown",
   "id": "86da2abf",
   "metadata": {},
   "source": [
    "Let's write a helper function to help us calculate the retention rate"
   ]
  },
  {
   "cell_type": "code",
   "execution_count": 21,
   "id": "5f17c7bb",
   "metadata": {},
   "outputs": [
    {
     "data": {
      "text/html": [
       "<div>\n",
       "<style scoped>\n",
       "    .dataframe tbody tr th:only-of-type {\n",
       "        vertical-align: middle;\n",
       "    }\n",
       "\n",
       "    .dataframe tbody tr th {\n",
       "        vertical-align: top;\n",
       "    }\n",
       "\n",
       "    .dataframe thead th {\n",
       "        text-align: right;\n",
       "    }\n",
       "</style>\n",
       "<table border=\"1\" class=\"dataframe\">\n",
       "  <thead>\n",
       "    <tr style=\"text-align: right;\">\n",
       "      <th></th>\n",
       "      <th>user_name</th>\n",
       "      <th>billing_cycles</th>\n",
       "    </tr>\n",
       "  </thead>\n",
       "  <tbody>\n",
       "    <tr>\n",
       "      <th>0</th>\n",
       "      <td>Huy</td>\n",
       "      <td>1</td>\n",
       "    </tr>\n",
       "    <tr>\n",
       "      <th>1</th>\n",
       "      <td>Garrett</td>\n",
       "      <td>1</td>\n",
       "    </tr>\n",
       "    <tr>\n",
       "      <th>2</th>\n",
       "      <td>Earl</td>\n",
       "      <td>1</td>\n",
       "    </tr>\n",
       "    <tr>\n",
       "      <th>3</th>\n",
       "      <td>Josh</td>\n",
       "      <td>2</td>\n",
       "    </tr>\n",
       "    <tr>\n",
       "      <th>4</th>\n",
       "      <td>Ted</td>\n",
       "      <td>2</td>\n",
       "    </tr>\n",
       "    <tr>\n",
       "      <th>5</th>\n",
       "      <td>Xi</td>\n",
       "      <td>3</td>\n",
       "    </tr>\n",
       "    <tr>\n",
       "      <th>6</th>\n",
       "      <td>Kayla</td>\n",
       "      <td>3</td>\n",
       "    </tr>\n",
       "    <tr>\n",
       "      <th>7</th>\n",
       "      <td>Aurora</td>\n",
       "      <td>3</td>\n",
       "    </tr>\n",
       "  </tbody>\n",
       "</table>\n",
       "</div>"
      ],
      "text/plain": [
       "  user_name  billing_cycles\n",
       "0       Huy               1\n",
       "1   Garrett               1\n",
       "2      Earl               1\n",
       "3      Josh               2\n",
       "4       Ted               2\n",
       "5        Xi               3\n",
       "6     Kayla               3\n",
       "7    Aurora               3"
      ]
     },
     "execution_count": 21,
     "metadata": {},
     "output_type": "execute_result"
    }
   ],
   "source": [
    "# start with a toy data to test\n",
    "toy_df = pd.DataFrame({'user_name': ['Huy', 'Garrett', 'Earl', 'Josh', 'Ted', 'Xi', 'Kayla', 'Aurora'], \n",
    "                       'billing_cycles': [1, 1, 1, 2, 2, 3, 3, 3]})\n",
    "toy_df"
   ]
  },
  {
   "cell_type": "markdown",
   "id": "9998258f",
   "metadata": {},
   "source": [
    "We expect the following subscription's survival rate:\n",
    "* Month 1: 100%\n",
    "* Month 2: $\\frac{5}{8} = $ 62.5%. Explanation: the first three people stopped the subscription, and the rest still \"survive\" at month 2.\n",
    "* Month 3: $\\frac{3}{8} = $ 37.5%. Similar explanation as the above.\n",
    "\n",
    "Now, we'll write a function to that gives this same results."
   ]
  },
  {
   "cell_type": "code",
   "execution_count": 39,
   "id": "383332ca",
   "metadata": {},
   "outputs": [],
   "source": [
    "def calculate_survival_rate(df):\n",
    "    \"\"\"\n",
    "    Calculate the survival rate of the users based on their billing cycles.\n",
    "    \"\"\"\n",
    "    survival_rate = []\n",
    "    billing_cycle_range = sorted(df['billing_cycles'].unique())\n",
    "    number_of_participants = df.shape[0]\n",
    "    \n",
    "    for cycle in billing_cycle_range:\n",
    "        number_of_survivors = np.sum(df['billing_cycles'] >= cycle)\n",
    "        ratio = number_of_survivors / number_of_participants * 100\n",
    "        survival_rate.append(ratio)\n",
    "    \n",
    "    return survival_rate"
   ]
  },
  {
   "cell_type": "code",
   "execution_count": 40,
   "id": "64896175",
   "metadata": {},
   "outputs": [
    {
     "data": {
      "text/plain": [
       "[100.0, 62.5, 37.5]"
      ]
     },
     "execution_count": 40,
     "metadata": {},
     "output_type": "execute_result"
    }
   ],
   "source": [
    "# Test\n",
    "calculate_survival_rate(toy_df)"
   ]
  },
  {
   "cell_type": "markdown",
   "id": "aa54c61e",
   "metadata": {},
   "source": [
    "## Survival analysis for each subscription group"
   ]
  },
  {
   "cell_type": "code",
   "execution_count": 42,
   "id": "ddf17e88",
   "metadata": {},
   "outputs": [
    {
     "data": {
      "text/plain": [
       "[100.0,\n",
       " 60.75415749989751,\n",
       " 45.84728276465203,\n",
       " 37.62315355078504,\n",
       " 32.30278350938085,\n",
       " 28.541561334226095,\n",
       " 25.715691231330535,\n",
       " 23.590139517087767]"
      ]
     },
     "execution_count": 42,
     "metadata": {},
     "output_type": "execute_result"
    }
   ],
   "source": [
    "# calculate the survival rate for the $29 subscription group\n",
    "subscription_29 = subscription[subscription['subscription_monthly_cost']==29]\n",
    "subscription_29_sr = calculate_survival_rate(subscription_29)\n",
    "subscription_29_sr"
   ]
  },
  {
   "cell_type": "code",
   "execution_count": 44,
   "id": "e7527204",
   "metadata": {},
   "outputs": [
    {
     "data": {
      "text/plain": [
       "[100.0,\n",
       " 38.36656158350449,\n",
       " 20.62470663821543,\n",
       " 13.404261693692016,\n",
       " 9.64656770873211,\n",
       " 7.407197808233771,\n",
       " 5.940805001381505,\n",
       " 4.884536130520611]"
      ]
     },
     "execution_count": 44,
     "metadata": {},
     "output_type": "execute_result"
    }
   ],
   "source": [
    "# calculate the survival rate for the $49 subscription group\n",
    "subscription_49 = subscription[subscription['subscription_monthly_cost']==49]\n",
    "subscription_49_sr = calculate_survival_rate(subscription_49)\n",
    "subscription_49_sr"
   ]
  },
  {
   "cell_type": "code",
   "execution_count": 45,
   "id": "acfc9616",
   "metadata": {},
   "outputs": [
    {
     "data": {
      "text/plain": [
       "[100.0,\n",
       " 15.876861817020718,\n",
       " 7.00400067617062,\n",
       " 4.241092391202269,\n",
       " 2.9676377228076105,\n",
       " 2.218215285212524,\n",
       " 1.793730395747638,\n",
       " 1.5007231269134689]"
      ]
     },
     "execution_count": 45,
     "metadata": {},
     "output_type": "execute_result"
    }
   ],
   "source": [
    "# calculate the survival rate for the $99 subscription group\n",
    "subscription_99 = subscription[subscription['subscription_monthly_cost']==99]\n",
    "subscription_99_sr = calculate_survival_rate(subscription_99)\n",
    "subscription_99_sr"
   ]
  },
  {
   "cell_type": "code",
   "execution_count": 58,
   "id": "f787a90a",
   "metadata": {},
   "outputs": [
    {
     "data": {
      "image/png": "[encoded data removed]",
      "text/plain": [
       "<Figure size 432x432 with 1 Axes>"
      ]
     },
     "metadata": {
      "needs_background": "light"
     },
     "output_type": "display_data"
    }
   ],
   "source": [
    "# plot\n",
    "_ = plt.figure(figsize=(6, 6))\n",
    "_ = plt.plot(subscription_29_sr)\n",
    "_ = plt.plot(subscription_49_sr)\n",
    "_ = plt.plot(subscription_99_sr)\n",
    "\n",
    "_ = plt.title('Monthly survival rate for each subscription price point')\n",
    "_ = plt.xlabel('Month')\n",
    "_ = plt.ylabel('Survival rate')\n",
    "#_ = plt.legend(['subscription_29', 'subscription_49', 'subscription_99'])\n",
    "# _ = plt.legend(bbox_to_anchor=(1.05, 1), loc=2, borderaxespad=0.) # this doesn't work. need to ask StackOverflow\n",
    "\n",
    "_ = plt.legend( ['subscription_29', 'subscription_49', 'subscription_99'], \n",
    "               bbox_to_anchor=(1.05, 1), loc=2, borderaxespad=0.) # this works. I don't know why\n",
    "\n",
    "plt.tight_layout\n",
    "plt.show()"
   ]
  },
  {
   "cell_type": "markdown",
   "id": "a12a73f5",
   "metadata": {},
   "source": [
    "Thoughts:\n",
    "* Users with highest subscription retention rate are the ones in the 29-dollar subscription plan, followed by 49-dollar and then 99-dollar.\n",
    "    * This makes sense.\n",
    "    * However, what's interesting is that the 49-dollar plan group had the most users subscribed to\n",
    "* For prediction, maybe a regression is good enough."
   ]
  },
  {
   "cell_type": "code",
   "execution_count": null,
   "id": "f59ed90f",
   "metadata": {},
   "outputs": [],
   "source": []
  }
 ],
 "metadata": {
  "kernelspec": {
   "display_name": "Python 3",
   "language": "python",
   "name": "python3"
  },
  "language_info": {
   "codemirror_mode": {
    "name": "ipython",
    "version": 3
   },
   "file_extension": ".py",
   "mimetype": "text/x-python",
   "name": "python",
   "nbconvert_exporter": "python",
   "pygments_lexer": "ipython3",
   "version": "3.8.8"
  }
 },
 "nbformat": 4,
 "nbformat_minor": 5
}
