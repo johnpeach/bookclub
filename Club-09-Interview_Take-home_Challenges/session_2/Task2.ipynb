{
 "cells": [
  {
   "cell_type": "code",
   "execution_count": 1,
   "id": "57a0d1ea-ee55-420f-857b-762a24d76a9d",
   "metadata": {},
   "outputs": [],
   "source": [
    "import numpy as np\n",
    "import pandas as pd\n",
    "%matplotlib inline\n",
    "import matplotlib as plt\n",
    "import datetime"
   ]
  },
  {
   "cell_type": "markdown",
   "id": "6282b344-1339-42dd-b5b4-d946ee59a4ae",
   "metadata": {},
   "source": [
    "## Load Data"
   ]
  },
  {
   "cell_type": "markdown",
   "id": "7ac0ec9e-5c3d-4e24-9807-39fdab9959f6",
   "metadata": {},
   "source": [
    "more than half of the ads_channel column from test_table are null"
   ]
  },
  {
   "cell_type": "code",
   "execution_count": 10,
   "id": "efcf7ba6-a949-46f4-8146-55749221c41f",
   "metadata": {},
   "outputs": [
    {
     "name": "stdout",
     "output_type": "stream",
     "text": [
      "user table dimension: (452867, 4)\n",
      "test table dimension: (453321, 9)\n",
      "<class 'pandas.core.frame.DataFrame'>\n",
      "RangeIndex: 453321 entries, 0 to 453320\n",
      "Data columns (total 9 columns):\n",
      " #   Column            Non-Null Count   Dtype \n",
      "---  ------            --------------   ----- \n",
      " 0   user_id           453321 non-null  int64 \n",
      " 1   date              453321 non-null  object\n",
      " 2   source            453321 non-null  object\n",
      " 3   device            453321 non-null  object\n",
      " 4   browser_language  453321 non-null  object\n",
      " 5   ads_channel       181877 non-null  object\n",
      " 6   browser           453321 non-null  object\n",
      " 7   conversion        453321 non-null  int64 \n",
      " 8   test              453321 non-null  int64 \n",
      "dtypes: int64(3), object(6)\n",
      "memory usage: 31.1+ MB\n"
     ]
    }
   ],
   "source": [
    "test = pd.read_csv('data/test_table.csv')\n",
    "user = pd.read_csv('data/user_table.csv')\n",
    "print(f'user table dimension: {user.shape}')\n",
    "print(f'test table dimension: {test.shape}')\n",
    "test.info()"
   ]
  },
  {
   "cell_type": "markdown",
   "id": "72570494-1ea4-40a7-97ba-da60463fadd5",
   "metadata": {},
   "source": [
    "user_table is a complete table"
   ]
  },
  {
   "cell_type": "code",
   "execution_count": 11,
   "id": "11e52a54-6c5d-4b68-9301-68a46ee169c2",
   "metadata": {},
   "outputs": [
    {
     "name": "stdout",
     "output_type": "stream",
     "text": [
      "<class 'pandas.core.frame.DataFrame'>\n",
      "RangeIndex: 452867 entries, 0 to 452866\n",
      "Data columns (total 4 columns):\n",
      " #   Column   Non-Null Count   Dtype \n",
      "---  ------   --------------   ----- \n",
      " 0   user_id  452867 non-null  int64 \n",
      " 1   sex      452867 non-null  object\n",
      " 2   age      452867 non-null  int64 \n",
      " 3   country  452867 non-null  object\n",
      "dtypes: int64(2), object(2)\n",
      "memory usage: 13.8+ MB\n"
     ]
    }
   ],
   "source": [
    "user.info()"
   ]
  },
  {
   "cell_type": "code",
   "execution_count": 29,
   "id": "b33c065b-c4a7-4166-bbdb-6f74a10ea1bd",
   "metadata": {},
   "outputs": [
    {
     "name": "stdout",
     "output_type": "stream",
     "text": [
      "test table looks like \n",
      "   user_id        date  source  device browser_language ads_channel  \\\n",
      "0   315281  2015-12-03  Direct     Web               ES         NaN   \n",
      "1   497851  2015-12-04     Ads     Web               ES      Google   \n",
      "2   848402  2015-12-04     Ads     Web               ES    Facebook   \n",
      "3   290051  2015-12-03     Ads  Mobile            Other    Facebook   \n",
      "4   548435  2015-11-30     Ads     Web               ES      Google   \n",
      "\n",
      "       browser  conversion  test  \n",
      "0           IE           1     0  \n",
      "1           IE           0     1  \n",
      "2       Chrome           0     0  \n",
      "3  Android_App           0     1  \n",
      "4      FireFox           0     1  \n",
      "user table looks like \n",
      "   user_id sex  age    country\n",
      "0   765821   M   20     Mexico\n",
      "1   343561   F   27  Nicaragua\n",
      "2   118744   M   23   Colombia\n",
      "3   987753   F   27  Venezuela\n",
      "4   554597   F   20      Spain\n",
      "\n",
      "looks like user table contains demographics for users one row per user\n"
     ]
    },
    {
     "data": {
      "text/plain": [
       "user_id  user_id\n",
       "1        1          1\n",
       "666601   666601     1\n",
       "666628   666628     1\n",
       "666626   666626     1\n",
       "666625   666625     1\n",
       "                   ..\n",
       "333083   333083     1\n",
       "333082   333082     1\n",
       "333081   333081     1\n",
       "333078   333078     1\n",
       "1000000  1000000    1\n",
       "Name: user_id, Length: 452867, dtype: int64"
      ]
     },
     "execution_count": 29,
     "metadata": {},
     "output_type": "execute_result"
    }
   ],
   "source": [
    "print(f'test table looks like \\n{test.head()}')\n",
    "print(f'user table looks like \\n{user.head()}')\n",
    "print(f'\\nlooks like user table contains demographics for users one row per user')\n",
    "user['user_id'].groupby(user.user_id).value_counts().sort_values(ascending=False)"
   ]
  },
  {
   "cell_type": "markdown",
   "id": "0deef137-2da9-42e1-9548-ece501c463c5",
   "metadata": {},
   "source": [
    "## Data Quality"
   ]
  },
  {
   "cell_type": "code",
   "execution_count": 28,
   "id": "d30a1da7-3f76-4665-863e-7701775ca979",
   "metadata": {},
   "outputs": [
    {
     "name": "stdout",
     "output_type": "stream",
     "text": [
      "unique user count in test table: 453321\n",
      "unique user count in user table: 452867\n",
      "we are missing 454 users demographic information in the user table\n"
     ]
    }
   ],
   "source": [
    "print(f'unique user count in test table: {test.user_id.nunique()}')\n",
    "print(f'unique user count in user table: {user.user_id.nunique()}')\n",
    "print(f'we are missing {test.user_id.nunique() - user.user_id.nunique()} users demographic information in the user table')"
   ]
  },
  {
   "cell_type": "markdown",
   "id": "150f7bfb-1ff0-4dd7-8a69-cfabddb5a714",
   "metadata": {},
   "source": [
    "since we don't have these 454 people's demographics, we need to remove their test results from the test table"
   ]
  },
  {
   "cell_type": "code",
   "execution_count": 36,
   "id": "a508d693-9886-4350-96ac-9f805c54d34b",
   "metadata": {},
   "outputs": [
    {
     "name": "stdout",
     "output_type": "stream",
     "text": [
      "<class 'pandas.core.frame.DataFrame'>\n",
      "Int64Index: 452867 entries, 0 to 452866\n",
      "Data columns (total 12 columns):\n",
      " #   Column            Non-Null Count   Dtype         \n",
      "---  ------            --------------   -----         \n",
      " 0   user_id           452867 non-null  int64         \n",
      " 1   date              452867 non-null  datetime64[ns]\n",
      " 2   source            452867 non-null  object        \n",
      " 3   device            452867 non-null  object        \n",
      " 4   browser_language  452867 non-null  object        \n",
      " 5   ads_channel       181693 non-null  object        \n",
      " 6   browser           452867 non-null  object        \n",
      " 7   conversion        452867 non-null  int64         \n",
      " 8   test              452867 non-null  int64         \n",
      " 9   sex               452867 non-null  object        \n",
      " 10  age               452867 non-null  int64         \n",
      " 11  country           452867 non-null  object        \n",
      "dtypes: datetime64[ns](1), int64(4), object(7)\n",
      "memory usage: 44.9+ MB\n",
      "None\n",
      "              user_id     conversion           test            age\n",
      "count   452867.000000  452867.000000  452867.000000  452867.000000\n",
      "mean    499944.805166       0.049560       0.476462      27.130740\n",
      "std     288676.264784       0.217034       0.499446       6.776678\n",
      "min          1.000000       0.000000       0.000000      18.000000\n",
      "25%     249819.000000       0.000000       0.000000      22.000000\n",
      "50%     500019.000000       0.000000       0.000000      26.000000\n",
      "75%     749543.000000       0.000000       1.000000      31.000000\n",
      "max    1000000.000000       1.000000       1.000000      70.000000\n",
      "        source  device browser_language ads_channel      browser     sex  \\\n",
      "count   452867  452867           452867      181693       452867  452867   \n",
      "unique       3       2                3           5            7       2   \n",
      "top        Ads     Web               ES    Facebook  Android_App       M   \n",
      "freq    181693  251316           377160       68358       154977  264485   \n",
      "\n",
      "       country  \n",
      "count   452867  \n",
      "unique      17  \n",
      "top     Mexico  \n",
      "freq    128484  \n"
     ]
    }
   ],
   "source": [
    "data = test.merge(user, on = ['user_id'])\n",
    "data['date'] = pd.to_datetime(data['date'])\n",
    "print(data.info())\n",
    "print(data.describe())\n",
    "print(data.describe(include = object))"
   ]
  },
  {
   "cell_type": "markdown",
   "id": "640797ae-525c-4344-ac5e-00ac50f17933",
   "metadata": {},
   "source": [
    "## Q1: is test result truely negative?"
   ]
  },
  {
   "cell_type": "code",
   "execution_count": 41,
   "id": "914c51a6-4729-403c-93f4-6ee9a8fac447",
   "metadata": {},
   "outputs": [
    {
     "name": "stdout",
     "output_type": "stream",
     "text": [
      " control group\n",
      " country\n",
      "Spain          0.079719\n",
      "El Salvador    0.053554\n",
      "Nicaragua      0.052647\n",
      "Costa Rica     0.052256\n",
      "Colombia       0.052089\n",
      "Honduras       0.050906\n",
      "Guatemala      0.050643\n",
      "Venezuela      0.050344\n",
      "Peru           0.049914\n",
      "Mexico         0.049495\n",
      "Bolivia        0.049369\n",
      "Ecuador        0.049154\n",
      "Paraguay       0.048493\n",
      "Chile          0.048107\n",
      "Panama         0.046796\n",
      "Argentina      0.015071\n",
      "Uruguay        0.012048\n",
      "Name: conversion, dtype: float64\n",
      " test group\n",
      " country\n",
      "Costa Rica     0.054738\n",
      "Nicaragua      0.054177\n",
      "Chile          0.051295\n",
      "Mexico         0.051186\n",
      "Peru           0.050604\n",
      "Colombia       0.050571\n",
      "Panama         0.049370\n",
      "Paraguay       0.049229\n",
      "Ecuador        0.048988\n",
      "Venezuela      0.048978\n",
      "Guatemala      0.048647\n",
      "El Salvador    0.047947\n",
      "Bolivia        0.047901\n",
      "Honduras       0.047540\n",
      "Argentina      0.013725\n",
      "Uruguay        0.012907\n",
      "Name: conversion, dtype: float64\n"
     ]
    }
   ],
   "source": [
    "# control group\n",
    "control_result = data.query('test == 0').groupby('country')['conversion'].mean().sort_values(ascending = False)\n",
    "print(f' control group\\n {control_result}')\n",
    "# test group\n",
    "test_result = data.query('test == 1').groupby('country')['conversion'].mean().sort_values(ascending = False)\n",
    "print(f' test group\\n {test_result}')"
   ]
  },
  {
   "cell_type": "markdown",
   "id": "61cf9b22-b833-4003-8670-a8f5375a0323",
   "metadata": {},
   "source": [
    "## t-test "
   ]
  },
  {
   "cell_type": "markdown",
   "id": "0e083d15-0dbb-4841-83d3-c80b54e4ea89",
   "metadata": {},
   "source": [
    "The indepentent T-test is a parametric test used to test for a statistically significant difference in the means between 2 groups. As with all parametric tests, there are certain conditions that need to be met in order for the test results to be considered reliable.\n",
    "1. Population distributions are normal\n",
    "2. Samples have equal variances\n",
    "3. The two samples are independent\n",
    "\n",
    "nothing changed for Spanish users, so we will remove Spain from data"
   ]
  },
  {
   "cell_type": "code",
   "execution_count": 70,
   "id": "b1ee0c85-f07b-493e-8e32-6cd7dda31154",
   "metadata": {},
   "outputs": [
    {
     "name": "stdout",
     "output_type": "stream",
     "text": [
      "there is 0 pair user in both test and control group.\n",
      "test group variance: 0.04152682517533804\n",
      "control group variance: 0.045959941537429036\n",
      "test group size: 215774\n",
      "control group size: 185311\n"
     ]
    }
   ],
   "source": [
    "# pair or independent?\n",
    "import statistics\n",
    "data = test.merge(user, on = ['user_id'])\n",
    "data['date'] = pd.to_datetime(data['date'])\n",
    "# remove Spain from data \n",
    "data = data.query('country != \"Spain\"')\n",
    "group_test = data[data['test'] == 1]\n",
    "group_control = data[data['test'] == 0]\n",
    "pair = group_test.merge(group_control, on = ['user_id'])\n",
    "print(f'there is {pair.shape[0]} pair user in both test and control group.')\n",
    "var_test = statistics.variance(group_test['conversion'])\n",
    "var_control = statistics.variance(group_control['conversion'])\n",
    "print(f'test group variance: {var_test}')\n",
    "print(f'control group variance: {var_control}')\n",
    "print(f'test group size: {group_test.shape[0]}')\n",
    "print(f'control group size: {group_control.shape[0]}')"
   ]
  },
  {
   "cell_type": "code",
   "execution_count": 76,
   "id": "b9a5f05b-ba19-4ea6-87fc-6590c6483427",
   "metadata": {
    "tags": []
   },
   "outputs": [
    {
     "name": "stdout",
     "output_type": "stream",
     "text": [
      "levene test statistics: 54.497646998915, p-value: 1.5593292774404536e-13\n",
      "\n",
      "it seems like the two groups do not have equal variance\n",
      "\n",
      "however, Two sample t-test is relatively robust to the assumption of normality and homogeneity of variances when sample size is large (n ≥ 30) and there are equal number of samples (n1 = n2) in both groups \n"
     ]
    }
   ],
   "source": [
    "import researchpy as rp\n",
    "import scipy.stats as stats\n",
    "\n",
    "# test t-test assumption: samples have equal variance\n",
    "stats, pvalue = stats.levene(data['conversion'][data['test'] == 0],\n",
    "             data['conversion'][data['test'] == 1])\n",
    "print(f'levene test statistics: {stats}, p-value: {pvalue}\\n')\n",
    "print(f'it seems like the two groups do not have equal variance\\n')\n",
    "print(f'however, Two sample t-test is relatively robust to the assumption of normality and homogeneity of variances when sample size is large (n ≥ 30) and there are equal number of samples (n1 = n2) in both groups ')"
   ]
  },
  {
   "cell_type": "code",
   "execution_count": 108,
   "id": "ce0faeea-6de7-41bd-8eb8-e47201d88e44",
   "metadata": {},
   "outputs": [
    {
     "name": "stdout",
     "output_type": "stream",
     "text": [
      "   Variable         N      Mean        SD        SE  95% Conf.  Interval\n",
      "0   control  185311.0  0.048292  0.214383  0.000498   0.047316  0.049268\n",
      "1      test  215774.0  0.043411  0.203781  0.000439   0.042551  0.044271\n",
      "2  combined  401085.0  0.045666  0.208760  0.000330   0.045020  0.046312\n",
      "               Independent t-test      results\n",
      "0  Difference (control - test) =        0.0049\n",
      "1           Degrees of freedom =   401083.0000\n",
      "2                            t =        7.3823\n",
      "3        Two side test p value =        0.0000\n",
      "4       Difference < 0 p value =        1.0000\n",
      "5       Difference > 0 p value =        0.0000\n",
      "6                    Cohen's d =        0.0234\n",
      "7                    Hedge's g =        0.0234\n",
      "8                Glass's delta =        0.0228\n",
      "9                  Pearson's r =        0.0117\n",
      "\n",
      "\n",
      "p value: 0.0\n",
      "control group is converting 4.8% on average, while test group 4.3%.\n",
      "the difference (control - test) < 0 p value obtained from the t-test is significant, and therefore, we conclude that the conversion rate of test group is significantly different than control group\n",
      "\n"
     ]
    }
   ],
   "source": [
    "summary, results = rp.ttest(group1 = data['conversion'][data['test']==0], group1_name = 'control',\n",
    "         group2 = data['conversion'][data['test']==1], group2_name = 'test')\n",
    "print(summary)\n",
    "print(results) \n",
    "print('\\n')\n",
    "p_value = results['results'][5]\n",
    "print(f'p value: {p_value}')\n",
    "print(f'control group is converting {summary.Mean[0]*100:.1f}% on average, while test group {summary.Mean[1]*100:.1f}%.')\n",
    "print(f'the difference (control - test) < 0 p value obtained from the t-test is significant, and therefore, we conclude that the conversion rate of test group is significantly different than control group\\n')"
   ]
  },
  {
   "cell_type": "markdown",
   "id": "0d5ea873-5bce-4e2c-8bcb-c7d55647ccbf",
   "metadata": {},
   "source": [
    "## Q2. What can go wrong in a A/B test"
   ]
  },
  {
   "cell_type": "markdown",
   "id": "368eb93c-e7df-4c7b-be36-d70802e28927",
   "metadata": {},
   "source": [
    "maybe there has been bias in the experiment so that the test/control group are not really random.\n",
    "We can check every single variable to see if it has same distribution across test and control group"
   ]
  },
  {
   "cell_type": "code",
   "execution_count": 123,
   "id": "b18e0dab-9d3e-41cc-829e-02099c119af0",
   "metadata": {},
   "outputs": [
    {
     "data": {
      "text/plain": [
       "(401085, 12)"
      ]
     },
     "execution_count": 123,
     "metadata": {},
     "output_type": "execute_result"
    }
   ],
   "source": [
    "data.shape"
   ]
  },
  {
   "cell_type": "code",
   "execution_count": 140,
   "id": "0e7ff726-a264-48b9-86d2-8301700e0259",
   "metadata": {},
   "outputs": [
    {
     "name": "stdout",
     "output_type": "stream",
     "text": [
      "Ads in test group: 86448\n",
      "Direct in test group: 43047\n",
      "SEO in test group: 86279\n",
      "\n",
      "\n",
      "                 freq\n",
      "source test          \n",
      "Ads    0     0.401228\n",
      "       1     0.400641\n",
      "Direct 0     0.200949\n",
      "       1     0.199500\n",
      "SEO    0     0.397823\n",
      "       1     0.399858\n"
     ]
    }
   ],
   "source": [
    "Ads_test = data.loc[ (data['source'] == 'Ads') & (data['test'] == 1)].shape[0]\n",
    "Direct_test = data.loc[ (data['source'] == 'Direct') & (data['test'] == 1)].shape[0]\n",
    "SEO_test = data.loc[ (data['source'] == 'SEO') & (data['test'] == 1)].shape[0]\n",
    "print(f'Ads in test group: {Ads_test}')\n",
    "print(f'Direct in test group: {Direct_test}')\n",
    "print(f'SEO in test group: {SEO_test}')\n",
    "print('\\n')\n",
    "freq_source = data.groupby(['source', 'test'])['test'].agg(\n",
    "    freq = 'count'\n",
    ") \n",
    "print(freq_source / freq_source.groupby('test').sum())"
   ]
  },
  {
   "cell_type": "code",
   "execution_count": 141,
   "id": "19acbc45-0ae7-4bb7-a046-9ddc2c9b1c92",
   "metadata": {},
   "outputs": [
    {
     "data": {
      "text/html": [
       "<div>\n",
       "<style scoped>\n",
       "    .dataframe tbody tr th:only-of-type {\n",
       "        vertical-align: middle;\n",
       "    }\n",
       "\n",
       "    .dataframe tbody tr th {\n",
       "        vertical-align: top;\n",
       "    }\n",
       "\n",
       "    .dataframe thead th {\n",
       "        text-align: right;\n",
       "    }\n",
       "</style>\n",
       "<table border=\"1\" class=\"dataframe\">\n",
       "  <thead>\n",
       "    <tr style=\"text-align: right;\">\n",
       "      <th></th>\n",
       "      <th>source</th>\n",
       "      <th>device</th>\n",
       "      <th>browser_language</th>\n",
       "      <th>ads_channel</th>\n",
       "      <th>browser</th>\n",
       "      <th>sex</th>\n",
       "      <th>country</th>\n",
       "    </tr>\n",
       "  </thead>\n",
       "  <tbody>\n",
       "    <tr>\n",
       "      <th>count</th>\n",
       "      <td>401085</td>\n",
       "      <td>401085</td>\n",
       "      <td>401085</td>\n",
       "      <td>160800</td>\n",
       "      <td>401085</td>\n",
       "      <td>401085</td>\n",
       "      <td>401085</td>\n",
       "    </tr>\n",
       "    <tr>\n",
       "      <th>unique</th>\n",
       "      <td>3</td>\n",
       "      <td>2</td>\n",
       "      <td>3</td>\n",
       "      <td>5</td>\n",
       "      <td>7</td>\n",
       "      <td>2</td>\n",
       "      <td>16</td>\n",
       "    </tr>\n",
       "    <tr>\n",
       "      <th>top</th>\n",
       "      <td>Ads</td>\n",
       "      <td>Web</td>\n",
       "      <td>ES</td>\n",
       "      <td>Facebook</td>\n",
       "      <td>Android_App</td>\n",
       "      <td>M</td>\n",
       "      <td>Mexico</td>\n",
       "    </tr>\n",
       "    <tr>\n",
       "      <th>freq</th>\n",
       "      <td>160800</td>\n",
       "      <td>222479</td>\n",
       "      <td>334014</td>\n",
       "      <td>60453</td>\n",
       "      <td>137355</td>\n",
       "      <td>234080</td>\n",
       "      <td>128484</td>\n",
       "    </tr>\n",
       "  </tbody>\n",
       "</table>\n",
       "</div>"
      ],
      "text/plain": [
       "        source  device browser_language ads_channel      browser     sex  \\\n",
       "count   401085  401085           401085      160800       401085  401085   \n",
       "unique       3       2                3           5            7       2   \n",
       "top        Ads     Web               ES    Facebook  Android_App       M   \n",
       "freq    160800  222479           334014       60453       137355  234080   \n",
       "\n",
       "       country  \n",
       "count   401085  \n",
       "unique      16  \n",
       "top     Mexico  \n",
       "freq    128484  "
      ]
     },
     "execution_count": 141,
     "metadata": {},
     "output_type": "execute_result"
    }
   ],
   "source": [
    "data.describe(include = object)"
   ]
  },
  {
   "cell_type": "code",
   "execution_count": 142,
   "id": "f22db5fd-2518-4867-8c57-6407cbbb15c7",
   "metadata": {},
   "outputs": [
    {
     "name": "stdout",
     "output_type": "stream",
     "text": [
      "                 freq\n",
      "device test          \n",
      "Mobile 0     0.444388\n",
      "       1     0.446096\n",
      "Web    0     0.555612\n",
      "       1     0.553904\n",
      "                           freq\n",
      "browser_language test          \n",
      "EN               0     0.139101\n",
      "                 1     0.139526\n",
      "ES               0     0.833280\n",
      "                 1     0.832343\n",
      "Other            0     0.027618\n",
      "                 1     0.028131\n",
      "                      freq\n",
      "ads_channel test          \n",
      "Bing        0     0.074847\n",
      "            1     0.075282\n",
      "Facebook    0     0.374516\n",
      "            1     0.377186\n",
      "Google      0     0.375551\n",
      "            1     0.374537\n",
      "Other       0     0.023079\n",
      "            1     0.022326\n",
      "Yahoo       0     0.152007\n",
      "            1     0.150669\n",
      "                      freq\n",
      "browser     test          \n",
      "Android_App 0     0.341307\n",
      "            1     0.343447\n",
      "Chrome      0     0.223273\n",
      "            1     0.225954\n",
      "FireFox     0     0.089719\n",
      "            1     0.089719\n",
      "IE          0     0.136964\n",
      "            1     0.135410\n",
      "Iphone_App  0     0.103081\n",
      "            1     0.102649\n",
      "Opera       0     0.013458\n",
      "            1     0.013361\n",
      "Safari      0     0.092196\n",
      "            1     0.089459\n",
      "              freq\n",
      "sex test          \n",
      "F   0     0.416036\n",
      "    1     0.416681\n",
      "M   0     0.583964\n",
      "    1     0.583319\n",
      "                      freq\n",
      "country     test          \n",
      "Argentina   0     0.050488\n",
      "            1     0.173223\n",
      "Bolivia     0     0.029950\n",
      "            1     0.025833\n",
      "Chile       0     0.053170\n",
      "            1     0.045807\n",
      "Colombia    0     0.146176\n",
      "            1     0.125001\n",
      "Costa Rica  0     0.014354\n",
      "            1     0.012277\n",
      "Ecuador     0     0.043365\n",
      "            1     0.036422\n",
      "El Salvador 0     0.022168\n",
      "            1     0.018848\n",
      "Guatemala   0     0.041131\n",
      "            1     0.034772\n",
      "Honduras    0     0.023533\n",
      "            1     0.019497\n",
      "Mexico      0     0.346493\n",
      "            1     0.297881\n",
      "Nicaragua   0     0.018450\n",
      "            1     0.015312\n",
      "Panama      0     0.010609\n",
      "            1     0.009199\n",
      "Paraguay    0     0.019697\n",
      "            1     0.017134\n",
      "Peru        0     0.091031\n",
      "            1     0.077845\n",
      "Uruguay     0     0.002239\n",
      "            1     0.017236\n",
      "Venezuela   0     0.087145\n",
      "            1     0.073711\n"
     ]
    }
   ],
   "source": [
    "freq_device = data.groupby(['device', 'test'])['test'].agg(\n",
    "    freq = 'count'\n",
    ") \n",
    "print(freq_device / freq_device.groupby('test').sum())\n",
    "\n",
    "freq_browser_language = data.groupby(['browser_language', 'test'])['test'].agg(\n",
    "    freq = 'count'\n",
    ") \n",
    "print(freq_browser_language / freq_browser_language.groupby('test').sum())\n",
    "\n",
    "freq_ads_channel = data.groupby(['ads_channel', 'test'])['test'].agg(\n",
    "    freq = 'count'\n",
    ") \n",
    "print(freq_ads_channel / freq_ads_channel.groupby('test').sum())\n",
    "\n",
    "freq_browser = data.groupby(['browser', 'test'])['test'].agg(\n",
    "    freq = 'count'\n",
    ") \n",
    "print(freq_browser / freq_browser.groupby('test').sum())\n",
    "\n",
    "freq_sex = data.groupby(['sex', 'test'])['test'].agg(\n",
    "    freq = 'count'\n",
    ") \n",
    "print(freq_sex / freq_sex.groupby('test').sum())\n",
    "\n",
    "freq_country = data.groupby(['country', 'test'])['test'].agg(\n",
    "    freq = 'count'\n",
    ") \n",
    "print(freq_country / freq_country.groupby('test').sum())\n"
   ]
  },
  {
   "cell_type": "markdown",
   "id": "a8742280-00cb-4638-b039-a71f674b44ae",
   "metadata": {},
   "source": [
    "as you can see from above frequency comparison, Argentina and Uruguay are distributed unevenly across test and control group"
   ]
  },
  {
   "cell_type": "markdown",
   "id": "1eb01f98-fadd-4ed5-a39c-861084c2167e",
   "metadata": {},
   "source": [
    "## Conclusion"
   ]
  },
  {
   "cell_type": "code",
   "execution_count": 144,
   "id": "b0fa9296-f2c2-4c54-bcc4-a5438f74cbe0",
   "metadata": {},
   "outputs": [
    {
     "name": "stdout",
     "output_type": "stream",
     "text": [
      "   Variable         N      Mean        SD        SE  95% Conf.  Interval\n",
      "0   control  175540.0  0.050148  0.218251  0.000521   0.049127  0.051169\n",
      "1      test  174678.0  0.050413  0.218796  0.000524   0.049387  0.051439\n",
      "2  combined  350218.0  0.050280  0.218523  0.000369   0.049556  0.051004\n",
      "               Independent t-test      results\n",
      "0  Difference (control - test) =       -0.0003\n",
      "1           Degrees of freedom =   350216.0000\n",
      "2                            t =       -0.3583\n",
      "3        Two side test p value =        0.7201\n",
      "4       Difference < 0 p value =        0.3600\n",
      "5       Difference > 0 p value =        0.6400\n",
      "6                    Cohen's d =       -0.0012\n",
      "7                    Hedge's g =       -0.0012\n",
      "8                Glass's delta =       -0.0012\n",
      "9                  Pearson's r =        0.0006\n",
      "\n",
      "\n",
      "p value: 0.64\n"
     ]
    }
   ],
   "source": [
    "no_Argentina_Uruguay_summary, no_Argentina_Uruguay_results = rp.ttest(\n",
    "         group1 = data['conversion'][(data['test']==0) & (data['country'] != 'Argentina') & (data['country'] != 'Uruguay')], \n",
    "         group1_name = 'control',\n",
    "         group2 = data['conversion'][(data['test']==1) & (data['country'] != 'Argentina') & (data['country'] != 'Uruguay')], \n",
    "         group2_name = 'test')\n",
    "print(no_Argentina_Uruguay_summary)\n",
    "print(no_Argentina_Uruguay_results) \n",
    "print('\\n')\n",
    "new_p_value = no_Argentina_Uruguay_results['results'][5]\n",
    "print(f'p value: {new_p_value}')\n",
    "#print(f'control group is converting {no_Argentina_Uruguay_summary.Mean[0]*100:.1f}% on average, while test group {no_Argentina_Uruguay_summary.Mean[1]*100:.1f}%.')\n",
    "#print(f'the difference (control - test) < 0 p value obtained from the t-test is significant, and therefore, w"
   ]
  }
 ],
 "metadata": {
  "kernelspec": {
   "display_name": "takehome_env",
   "language": "python",
   "name": "takehome_env"
  },
  "language_info": {
   "codemirror_mode": {
    "name": "ipython",
    "version": 3
   },
   "file_extension": ".py",
   "mimetype": "text/x-python",
   "name": "python",
   "nbconvert_exporter": "python",
   "pygments_lexer": "ipython3",
   "version": "3.7.9"
  }
 },
 "nbformat": 4,
 "nbformat_minor": 5
}
