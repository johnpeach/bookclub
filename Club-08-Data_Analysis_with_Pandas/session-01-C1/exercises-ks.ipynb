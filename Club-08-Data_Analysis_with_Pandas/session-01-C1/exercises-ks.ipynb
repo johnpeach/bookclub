{
 "cells": [
  {
   "cell_type": "markdown",
   "metadata": {},
   "source": [
    "# Coding exercises\n",
    "Exercises 1-3 are thought exercises that don't require coding. \n",
    "Exercise 2: Is all data normally distributed? Explain why or why not. \n",
    "No, not all data is normally distributed. Some data can be skewed to the left or right, in which case the mean may not be a good indicator of the population average. There are also other types of distributions that data can follow, like Poisson (for arrivals) or exponential distribution. \n",
    "Exercise 3: It makes more sense to usethe median instead of the mean when the data is non-parametric, or non-normally distributed. \n",
    "\n",
    "## Exercise 4: Generate the data by running this cell\n",
    "This will give you a list of numbers to work with in the remaining exercises."
   ]
  },
  {
   "cell_type": "code",
   "execution_count": 231,
   "metadata": {},
   "outputs": [],
   "source": [
    "import random\n",
    "random.seed(0)\n",
    "salaries = [round(random.random()*1000000, -3) for _ in range(100)]"
   ]
  },
  {
   "cell_type": "markdown",
   "metadata": {},
   "source": [
    "## Exercise 5: Calculating statistics and verifying\n",
    "### mean"
   ]
  },
  {
   "cell_type": "code",
   "execution_count": 232,
   "metadata": {},
   "outputs": [
    {
     "name": "stdout",
     "output_type": "stream",
     "text": [
      "The mean is 585690.0\n",
      "The verified mean is 585690\n"
     ]
    }
   ],
   "source": [
    "#print(\"The sum is\",sum(salaries))\n",
    "#print(\"The number of salaries is \",len(salaries))\n",
    "\n",
    "mean_salary = sum(salaries)/len(salaries)\n",
    "print(\"The mean is\",mean_salary)\n",
    "\n",
    "import statistics\n",
    "mean_st=statistics.mean(salaries)\n",
    "print('The verified mean is %0.f'%mean_st)"
   ]
  },
  {
   "cell_type": "markdown",
   "metadata": {},
   "source": [
    "### median"
   ]
  },
  {
   "cell_type": "code",
   "execution_count": 144,
   "metadata": {},
   "outputs": [
    {
     "name": "stdout",
     "output_type": "stream",
     "text": [
      "The median salary is 589000.0\n",
      "The verified median is 589000\n"
     ]
    }
   ],
   "source": [
    "salaries.sort() # sort the salaries in ascending order\n",
    "mid_num=int(len(salaries)/2) # calculate the middle number\n",
    "check_even=int(mid_num%2) #check if your sample size is even\n",
    "if check_even==0: #if even, take the two middle numbers:\n",
    "    median_salary= (salaries[mid_num] + salaries[mid_num-1])/2\n",
    "else: #if odd, use the middle number:\n",
    "    median_salary= salaries[mid_num]\n",
    "print(\"The median salary is\", median_salary)\n",
    "median_st=statistics.median(salaries)\n",
    "print('The verified median is %0.f'%median_st)"
   ]
  },
  {
   "cell_type": "markdown",
   "metadata": {},
   "source": [
    "### mode"
   ]
  },
  {
   "cell_type": "code",
   "execution_count": 145,
   "metadata": {},
   "outputs": [
    {
     "name": "stdout",
     "output_type": "stream",
     "text": [
      "The mode is 477000.0 It appears 3 times.\n",
      "The verified mode is 477000\n"
     ]
    }
   ],
   "source": [
    "import collections\n",
    "salary_counts=[[x,salaries.count(x)] for x in set(salaries)]\n",
    "salary_counts.sort(key = lambda x: x[1]) #sort counts based on second item in list\n",
    "#print(salary_counts)\n",
    "sal_mode_c=salary_counts[-1]\n",
    "print('The mode is',sal_mode_c[0],'It appears',sal_mode_c[1],'times.')\n",
    "mode_st=statistics.mode(salaries)\n",
    "print('The verified mode is %0.f'%mode_st)"
   ]
  },
  {
   "cell_type": "markdown",
   "metadata": {},
   "source": [
    "### sample variance\n",
    "Remember to use Bessel's correction."
   ]
  },
  {
   "cell_type": "code",
   "execution_count": 146,
   "metadata": {},
   "outputs": [
    {
     "name": "stdout",
     "output_type": "stream",
     "text": [
      "The variance is 70664054444.\n",
      "The verified variance is 70664054444\n"
     ]
    }
   ],
   "source": [
    "import math\n",
    "salary_var = sum((xi - mean_salary) ** 2 for xi in salaries) / (len(salaries)-1)\n",
    "#print(salary_var)\n",
    "print('The variance is %.0f.'%salary_var)\n",
    "var_st=statistics.variance(salaries)\n",
    "print('The verified variance is %0.f'%var_st)"
   ]
  },
  {
   "cell_type": "markdown",
   "metadata": {},
   "source": [
    "### sample standard deviation\n",
    "Remember to use Bessel's correction."
   ]
  },
  {
   "cell_type": "code",
   "execution_count": 147,
   "metadata": {},
   "outputs": [
    {
     "name": "stdout",
     "output_type": "stream",
     "text": [
      "The standard deviation is 265827.\n",
      "The verified standard deviation is 265827\n"
     ]
    }
   ],
   "source": [
    "salary_std= math.sqrt(salary_var)\n",
    "#print(salary_std)\n",
    "print('The standard deviation is %.0f.'%salary_std)\n",
    "std_st=statistics.stdev(salaries)\n",
    "print('The verified standard deviation is %0.f'%std_st)"
   ]
  },
  {
   "cell_type": "markdown",
   "metadata": {},
   "source": [
    "## Exercise 6: Calculating more statistics\n",
    "### range"
   ]
  },
  {
   "cell_type": "code",
   "execution_count": 149,
   "metadata": {},
   "outputs": [
    {
     "name": "stdout",
     "output_type": "stream",
     "text": [
      "The range is 995000.\n",
      "The verified range is 995000\n"
     ]
    }
   ],
   "source": [
    "salary_range=salaries[-1]-salaries[0]\n",
    "print('The range is %.0f.'%salary_range)\n",
    "\n",
    "range_st=max(salaries)-min(salaries)\n",
    "print('The range2 is %0.f'%range_st)"
   ]
  },
  {
   "cell_type": "markdown",
   "metadata": {},
   "source": [
    "### coefficient of variation"
   ]
  },
  {
   "cell_type": "code",
   "execution_count": 159,
   "metadata": {},
   "outputs": [
    {
     "name": "stdout",
     "output_type": "stream",
     "text": [
      "The coefficient of variation is 0.45.\n",
      "The verified CV is 0.45.\n"
     ]
    }
   ],
   "source": [
    "salary_CV=salary_std/mean_salary\n",
    "print('The coefficient of variation is %.2f.'%salary_CV)\n",
    "\n",
    "cv_st=statistics.stdev(salaries) / statistics.mean(salaries)\n",
    "print('The verified CV is %.2f.'%cv_st)"
   ]
  },
  {
   "cell_type": "markdown",
   "metadata": {},
   "source": [
    "### interquartile range"
   ]
  },
  {
   "cell_type": "code",
   "execution_count": 179,
   "metadata": {},
   "outputs": [
    {
     "name": "stdout",
     "output_type": "stream",
     "text": [
      "50\n",
      "The interquartile range is 420000.\n",
      "Inter-Quartile Range 417500.0\n",
      "The verified IQR is 413250.\n"
     ]
    }
   ],
   "source": [
    "print(mid_num) ## MY CODE WAS OFF....need to adjust\n",
    "Q3_mid=int(len(salaries)-mid_num/2)\n",
    "Q3=salaries[Q3_mid]\n",
    "Q1_mid=int(mid_num/2)\n",
    "Q1=salaries[Q1_mid]\n",
    "\n",
    "#Lower_ind=len(salaries)*0.25\n",
    "IQR=Q3-Q1\n",
    "print('The interquartile range is %.0f.'%IQR)\n",
    "\n",
    "from statistics import median\n",
    "Quartile1 = median(salaries[:len(salaries)//2])\n",
    "Quartile3 = median(salaries[(len(salaries)+1)//2:])\n",
    "print('Inter-Quartile Range', Quartile3 - Quartile1)\n",
    "\n",
    "from scipy.stats import iqr\n",
    "IQR_st=iqr(salaries)\n",
    "print('The verified IQR is %.0f.'%IQR_st)"
   ]
  },
  {
   "cell_type": "markdown",
   "metadata": {},
   "source": [
    "### quartile coefficent of dispersion"
   ]
  },
  {
   "cell_type": "code",
   "execution_count": 176,
   "metadata": {},
   "outputs": [
    {
     "name": "stdout",
     "output_type": "stream",
     "text": [
      "The quartile coefficient of dispersion is 0.34.\n"
     ]
    }
   ],
   "source": [
    "QCD=(Q3-Q1)/(Q3+Q1)\n",
    "print('The quartile coefficient of dispersion is %.2f.'%QCD)"
   ]
  },
  {
   "cell_type": "markdown",
   "metadata": {},
   "source": [
    "## Exercise 7: Scaling data\n",
    "### min-max scaling"
   ]
  },
  {
   "cell_type": "code",
   "execution_count": 216,
   "metadata": {},
   "outputs": [
    {
     "data": {
      "text/plain": [
       "Text(0.5, 1.0, 'Norm by min-max scaling')"
      ]
     },
     "execution_count": 216,
     "metadata": {},
     "output_type": "execute_result"
    },
    {
     "data": {
      "image/png": "[encoded data removed]",
      "text/plain": [
       "<Figure size 432x288 with 2 Axes>"
      ]
     },
     "metadata": {
      "needs_background": "light"
     },
     "output_type": "display_data"
    }
   ],
   "source": [
    "salary_scaled = [(number - min(salaries))/(max(salaries)-min(salaries)) for number in salaries]\n",
    "#print(salary_scaled)\n",
    "\n",
    "import matplotlib.pyplot as plt\n",
    "\n",
    "n_bins=5\n",
    "fig, axs = plt.subplots(1, 2, sharey=True, tight_layout=True)\n",
    "axs[0].hist(salaries, bins=n_bins)\n",
    "axs[0].set_title('raw')\n",
    "axs[1].hist(salary_scaled, bins=n_bins)\n",
    "axs[1].set_title('Norm by min-max scaling')"
   ]
  },
  {
   "cell_type": "markdown",
   "metadata": {},
   "source": [
    "### standardizing"
   ]
  },
  {
   "cell_type": "code",
   "execution_count": 215,
   "metadata": {},
   "outputs": [
    {
     "data": {
      "text/plain": [
       "Text(0.5, 1.0, 'z scores')"
      ]
     },
     "execution_count": 215,
     "metadata": {},
     "output_type": "execute_result"
    },
    {
     "data": {
      "image/png": "[encoded data removed]",
      "text/plain": [
       "<Figure size 432x288 with 2 Axes>"
      ]
     },
     "metadata": {
      "needs_background": "light"
     },
     "output_type": "display_data"
    }
   ],
   "source": [
    "zscored_salaries = [(number - mean_salary)/(salary_std) for number in salaries]\n",
    "#print(zscored_salaries)\n",
    "\n",
    "fig, axs = plt.subplots(1, 2, sharey=True, tight_layout=True)\n",
    "axs[0].hist(salaries, bins=n_bins)\n",
    "axs[0].set_title('raw')\n",
    "axs[1].hist(zscored_salaries, bins=n_bins)\n",
    "axs[1].set_title('z scores')"
   ]
  },
  {
   "cell_type": "markdown",
   "metadata": {},
   "source": [
    "## Exercise 8: Calculating covariance and correlation\n",
    "### covariance"
   ]
  },
  {
   "cell_type": "code",
   "execution_count": 222,
   "metadata": {},
   "outputs": [
    {
     "name": "stdout",
     "output_type": "stream",
     "text": [
      "The covariance is 0.27.\n"
     ]
    }
   ],
   "source": [
    "def covariance(x,y):\n",
    "    mean_x=sum(x)/len(x)\n",
    "    mean_y=sum(y)/len(y)\n",
    "    \n",
    "    sub_x= [xi-mean_x for xi in x]\n",
    "    sub_y= [yi-mean_y for yi in y]\n",
    "    \n",
    "    num=sum([sub_x[i]*sub_y[i] for i in range(len(x))])\n",
    "    covariance=num/(len(x)-1)\n",
    "    return covariance\n",
    "    \n",
    "cov_scaled_zscored=covariance(salary_scaled, zscored_salaries)\n",
    "print('The covariance is %0.2f.'%cov_scaled_zscored)"
   ]
  },
  {
   "cell_type": "markdown",
   "metadata": {},
   "source": [
    "### Pearson correlation coefficient ($\\rho$)"
   ]
  },
  {
   "cell_type": "code",
   "execution_count": 224,
   "metadata": {},
   "outputs": [
    {
     "name": "stdout",
     "output_type": "stream",
     "text": [
      "The correlation is 1.00.\n"
     ]
    }
   ],
   "source": [
    "def correlation(x,y):\n",
    "    mean_x=sum(x)/len(x)\n",
    "    mean_y=sum(y)/len(y)\n",
    "    \n",
    "    sub_x= [xi-mean_x for xi in x]\n",
    "    sub_y= [yi-mean_y for yi in y]\n",
    "    \n",
    "    num= sum([sub_x[i]*sub_y[i] for i in range(len(x))])\n",
    "    sub_xsq=sum([sub_x[i]**2 for i in range(len(x))])\n",
    "    sub_ysq=sum([sub_y[i]**2 for i in range(len(y))])\n",
    "    den= (sub_xsq**.5)*(sub_ysq**.5)\n",
    "    correlation= num/den\n",
    "    return correlation\n",
    "\n",
    "corr_scaled_zscored=correlation(salary_scaled, zscored_salaries)\n",
    "print('The correlation is %0.2f.'%corr_scaled_zscored)"
   ]
  },
  {
   "cell_type": "code",
   "execution_count": null,
   "metadata": {},
   "outputs": [],
   "source": []
  },
  {
   "cell_type": "code",
   "execution_count": null,
   "metadata": {},
   "outputs": [],
   "source": []
  }
 ],
 "metadata": {
  "kernelspec": {
   "display_name": "Python 3",
   "language": "python",
   "name": "python3"
  },
  "language_info": {
   "codemirror_mode": {
    "name": "ipython",
    "version": 3
   },
   "file_extension": ".py",
   "mimetype": "text/x-python",
   "name": "python",
   "nbconvert_exporter": "python",
   "pygments_lexer": "ipython3",
   "version": "3.8.5"
  }
 },
 "nbformat": 4,
 "nbformat_minor": 2
}
