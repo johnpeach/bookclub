{
 "cells": [
  {
   "cell_type": "code",
   "execution_count": 1,
   "id": "b7363e08",
   "metadata": {},
   "outputs": [],
   "source": [
    "# Import modules\n",
    "import numpy as np\n",
    "import pandas as pd\n",
    "import seaborn as sns\n",
    "import dc_stat_think as dcst"
   ]
  },
  {
   "cell_type": "code",
   "execution_count": 2,
   "id": "63276b2b",
   "metadata": {},
   "outputs": [
    {
     "data": {
      "text/html": [
       "<div>\n",
       "<style scoped>\n",
       "    .dataframe tbody tr th:only-of-type {\n",
       "        vertical-align: middle;\n",
       "    }\n",
       "\n",
       "    .dataframe tbody tr th {\n",
       "        vertical-align: top;\n",
       "    }\n",
       "\n",
       "    .dataframe thead th {\n",
       "        text-align: right;\n",
       "    }\n",
       "</style>\n",
       "<table border=\"1\" class=\"dataframe\">\n",
       "  <thead>\n",
       "    <tr style=\"text-align: right;\">\n",
       "      <th></th>\n",
       "      <th>Item_name</th>\n",
       "      <th>Item_id</th>\n",
       "    </tr>\n",
       "  </thead>\n",
       "  <tbody>\n",
       "    <tr>\n",
       "      <th>0</th>\n",
       "      <td>coffee</td>\n",
       "      <td>43</td>\n",
       "    </tr>\n",
       "    <tr>\n",
       "      <th>1</th>\n",
       "      <td>tea</td>\n",
       "      <td>23</td>\n",
       "    </tr>\n",
       "    <tr>\n",
       "      <th>2</th>\n",
       "      <td>juice</td>\n",
       "      <td>38</td>\n",
       "    </tr>\n",
       "    <tr>\n",
       "      <th>3</th>\n",
       "      <td>soda</td>\n",
       "      <td>9</td>\n",
       "    </tr>\n",
       "    <tr>\n",
       "      <th>4</th>\n",
       "      <td>sandwich loaves</td>\n",
       "      <td>39</td>\n",
       "    </tr>\n",
       "  </tbody>\n",
       "</table>\n",
       "</div>"
      ],
      "text/plain": [
       "         Item_name  Item_id\n",
       "0           coffee       43\n",
       "1              tea       23\n",
       "2            juice       38\n",
       "3             soda        9\n",
       "4  sandwich loaves       39"
      ]
     },
     "metadata": {},
     "output_type": "display_data"
    },
    {
     "data": {
      "text/html": [
       "<div>\n",
       "<style scoped>\n",
       "    .dataframe tbody tr th:only-of-type {\n",
       "        vertical-align: middle;\n",
       "    }\n",
       "\n",
       "    .dataframe tbody tr th {\n",
       "        vertical-align: top;\n",
       "    }\n",
       "\n",
       "    .dataframe thead th {\n",
       "        text-align: right;\n",
       "    }\n",
       "</style>\n",
       "<table border=\"1\" class=\"dataframe\">\n",
       "  <thead>\n",
       "    <tr style=\"text-align: right;\">\n",
       "      <th></th>\n",
       "      <th>user_id</th>\n",
       "      <th>id</th>\n",
       "    </tr>\n",
       "  </thead>\n",
       "  <tbody>\n",
       "    <tr>\n",
       "      <th>0</th>\n",
       "      <td>222087</td>\n",
       "      <td>27,26</td>\n",
       "    </tr>\n",
       "    <tr>\n",
       "      <th>1</th>\n",
       "      <td>1343649</td>\n",
       "      <td>6,47,17</td>\n",
       "    </tr>\n",
       "    <tr>\n",
       "      <th>2</th>\n",
       "      <td>404134</td>\n",
       "      <td>18,12,23,22,27,43,38,20,35,1</td>\n",
       "    </tr>\n",
       "    <tr>\n",
       "      <th>3</th>\n",
       "      <td>1110200</td>\n",
       "      <td>9,23,2,20,26,47,37</td>\n",
       "    </tr>\n",
       "    <tr>\n",
       "      <th>4</th>\n",
       "      <td>224107</td>\n",
       "      <td>31,18,5,13,1,21,48,16,26,2,44,32,20,37,42,35,4...</td>\n",
       "    </tr>\n",
       "  </tbody>\n",
       "</table>\n",
       "</div>"
      ],
      "text/plain": [
       "   user_id                                                 id\n",
       "0   222087                                              27,26\n",
       "1  1343649                                            6,47,17\n",
       "2   404134                       18,12,23,22,27,43,38,20,35,1\n",
       "3  1110200                                 9,23,2,20,26,47,37\n",
       "4   224107  31,18,5,13,1,21,48,16,26,2,44,32,20,37,42,35,4..."
      ]
     },
     "metadata": {},
     "output_type": "display_data"
    }
   ],
   "source": [
    "item = pd.read_csv('grocery/item_to_id.csv')\n",
    "display(item.head())\n",
    "purchase = pd.read_csv('grocery/purchase_history.csv')\n",
    "display(purchase.head())"
   ]
  },
  {
   "cell_type": "code",
   "execution_count": 5,
   "id": "80f5eb0e",
   "metadata": {},
   "outputs": [
    {
     "name": "stdout",
     "output_type": "stream",
     "text": [
      "Company has 48 items.\n",
      "\n",
      "['coffee' 'tea' 'juice' 'soda' 'sandwich loaves' 'dinner rolls'\n",
      " 'tortillas' 'bagels' 'canned vegetables' 'spaghetti sauce' 'ketchup'\n",
      " 'cheeses' 'eggs' 'milk' 'yogurt' 'butter' 'cereals' 'flour' 'sugar'\n",
      " 'pasta' 'waffles' 'frozen vegetables' 'ice cream' 'poultry' 'beef' 'pork'\n",
      " 'bananas' 'berries' 'cherries' 'grapefruit' 'apples' 'broccoli' 'carrots'\n",
      " 'cauliflower' 'cucumbers' 'lettuce' 'laundry detergent' 'dishwashing\\xa0'\n",
      " 'paper towels' 'toilet paper' 'aluminum foil' 'sandwich bags' 'shampoo'\n",
      " 'soap' 'hand soap' 'shaving cream' 'baby items' 'pet items']\n"
     ]
    }
   ],
   "source": [
    "# how many items do we have?\n",
    "print('Company has', len(item['Item_name'].values), 'items.')\n",
    "print()\n",
    "print(item['Item_name'].values)"
   ]
  },
  {
   "cell_type": "code",
   "execution_count": 10,
   "id": "45596a2b",
   "metadata": {},
   "outputs": [
    {
     "name": "stdout",
     "output_type": "stream",
     "text": [
      "['coffee' 'tea' 'juice' 'soda' 'sandwich loaves' 'dinner rolls'\n",
      " 'tortillas' 'bagels' 'canned vegetables' 'spaghetti sauce' 'ketchup'\n",
      " 'cheeses' 'eggs' 'milk' 'yogurt' 'butter' 'cereals' 'flour' 'sugar'\n",
      " 'pasta' 'waffles' 'frozen vegetables' 'ice cream' 'poultry' 'beef' 'pork'\n",
      " 'bananas' 'berries' 'cherries' 'grapefruit' 'apples' 'broccoli' 'carrots'\n",
      " 'cauliflower' 'cucumbers' 'lettuce' 'laundry detergent' 'dishwashing'\n",
      " 'paper towels' 'toilet paper' 'aluminum foil' 'sandwich bags' 'shampoo'\n",
      " 'soap' 'hand soap' 'shaving cream' 'baby items' 'pet items']\n"
     ]
    }
   ],
   "source": [
    "# diswashing looks weird: 'diswashing\\xa0'?\n",
    "item['Item_name'] = item['Item_name'].str.replace('\\xa0', '')\n",
    "print(item['Item_name'].values)"
   ]
  },
  {
   "cell_type": "markdown",
   "id": "29594706",
   "metadata": {},
   "source": [
    "# Merge two dataframes"
   ]
  },
  {
   "cell_type": "code",
   "execution_count": 17,
   "id": "a7ff12b0",
   "metadata": {},
   "outputs": [
    {
     "data": {
      "text/html": [
       "<div>\n",
       "<style scoped>\n",
       "    .dataframe tbody tr th:only-of-type {\n",
       "        vertical-align: middle;\n",
       "    }\n",
       "\n",
       "    .dataframe tbody tr th {\n",
       "        vertical-align: top;\n",
       "    }\n",
       "\n",
       "    .dataframe thead th {\n",
       "        text-align: right;\n",
       "    }\n",
       "</style>\n",
       "<table border=\"1\" class=\"dataframe\">\n",
       "  <thead>\n",
       "    <tr style=\"text-align: right;\">\n",
       "      <th></th>\n",
       "      <th>user_id</th>\n",
       "      <th>id</th>\n",
       "      <th>id_split</th>\n",
       "    </tr>\n",
       "  </thead>\n",
       "  <tbody>\n",
       "    <tr>\n",
       "      <th>0</th>\n",
       "      <td>222087</td>\n",
       "      <td>27,26</td>\n",
       "      <td>[27, 26]</td>\n",
       "    </tr>\n",
       "    <tr>\n",
       "      <th>1</th>\n",
       "      <td>1343649</td>\n",
       "      <td>6,47,17</td>\n",
       "      <td>[6, 47, 17]</td>\n",
       "    </tr>\n",
       "    <tr>\n",
       "      <th>2</th>\n",
       "      <td>404134</td>\n",
       "      <td>18,12,23,22,27,43,38,20,35,1</td>\n",
       "      <td>[18, 12, 23, 22, 27, 43, 38, 20, 35, 1]</td>\n",
       "    </tr>\n",
       "    <tr>\n",
       "      <th>3</th>\n",
       "      <td>1110200</td>\n",
       "      <td>9,23,2,20,26,47,37</td>\n",
       "      <td>[9, 23, 2, 20, 26, 47, 37]</td>\n",
       "    </tr>\n",
       "    <tr>\n",
       "      <th>4</th>\n",
       "      <td>224107</td>\n",
       "      <td>31,18,5,13,1,21,48,16,26,2,44,32,20,37,42,35,4...</td>\n",
       "      <td>[31, 18, 5, 13, 1, 21, 48, 16, 26, 2, 44, 32, ...</td>\n",
       "    </tr>\n",
       "  </tbody>\n",
       "</table>\n",
       "</div>"
      ],
      "text/plain": [
       "   user_id                                                 id  \\\n",
       "0   222087                                              27,26   \n",
       "1  1343649                                            6,47,17   \n",
       "2   404134                       18,12,23,22,27,43,38,20,35,1   \n",
       "3  1110200                                 9,23,2,20,26,47,37   \n",
       "4   224107  31,18,5,13,1,21,48,16,26,2,44,32,20,37,42,35,4...   \n",
       "\n",
       "                                            id_split  \n",
       "0                                           [27, 26]  \n",
       "1                                        [6, 47, 17]  \n",
       "2            [18, 12, 23, 22, 27, 43, 38, 20, 35, 1]  \n",
       "3                         [9, 23, 2, 20, 26, 47, 37]  \n",
       "4  [31, 18, 5, 13, 1, 21, 48, 16, 26, 2, 44, 32, ...  "
      ]
     },
     "execution_count": 17,
     "metadata": {},
     "output_type": "execute_result"
    }
   ],
   "source": [
    "purchase['id_split'] = purchase['id'].str.split(',')\n",
    "purchase.head()"
   ]
  },
  {
   "cell_type": "code",
   "execution_count": 21,
   "id": "45e65ac5",
   "metadata": {},
   "outputs": [
    {
     "data": {
      "text/html": [
       "<div>\n",
       "<style scoped>\n",
       "    .dataframe tbody tr th:only-of-type {\n",
       "        vertical-align: middle;\n",
       "    }\n",
       "\n",
       "    .dataframe tbody tr th {\n",
       "        vertical-align: top;\n",
       "    }\n",
       "\n",
       "    .dataframe thead th {\n",
       "        text-align: right;\n",
       "    }\n",
       "</style>\n",
       "<table border=\"1\" class=\"dataframe\">\n",
       "  <thead>\n",
       "    <tr style=\"text-align: right;\">\n",
       "      <th></th>\n",
       "      <th>user_id</th>\n",
       "      <th>id_split</th>\n",
       "    </tr>\n",
       "  </thead>\n",
       "  <tbody>\n",
       "    <tr>\n",
       "      <th>0</th>\n",
       "      <td>222087</td>\n",
       "      <td>27</td>\n",
       "    </tr>\n",
       "    <tr>\n",
       "      <th>1</th>\n",
       "      <td>222087</td>\n",
       "      <td>26</td>\n",
       "    </tr>\n",
       "    <tr>\n",
       "      <th>2</th>\n",
       "      <td>1343649</td>\n",
       "      <td>6</td>\n",
       "    </tr>\n",
       "    <tr>\n",
       "      <th>3</th>\n",
       "      <td>1343649</td>\n",
       "      <td>47</td>\n",
       "    </tr>\n",
       "    <tr>\n",
       "      <th>4</th>\n",
       "      <td>1343649</td>\n",
       "      <td>17</td>\n",
       "    </tr>\n",
       "  </tbody>\n",
       "</table>\n",
       "</div>"
      ],
      "text/plain": [
       "   user_id id_split\n",
       "0   222087       27\n",
       "1   222087       26\n",
       "2  1343649        6\n",
       "3  1343649       47\n",
       "4  1343649       17"
      ]
     },
     "execution_count": 21,
     "metadata": {},
     "output_type": "execute_result"
    }
   ],
   "source": [
    "# Explode\n",
    "purchase = purchase.explode('id_split')\n",
    "\n",
    "# Reorganize the dataframe\n",
    "purchase = purchase.drop('id', axis=1).reset_index(drop=True)\n",
    "purchase.head()"
   ]
  },
  {
   "cell_type": "code",
   "execution_count": 23,
   "id": "e84df195",
   "metadata": {},
   "outputs": [
    {
     "name": "stdout",
     "output_type": "stream",
     "text": [
      "<class 'pandas.core.frame.DataFrame'>\n",
      "RangeIndex: 48 entries, 0 to 47\n",
      "Data columns (total 2 columns):\n",
      " #   Column     Non-Null Count  Dtype \n",
      "---  ------     --------------  ----- \n",
      " 0   Item_name  48 non-null     object\n",
      " 1   Item_id    48 non-null     int64 \n",
      "dtypes: int64(1), object(1)\n",
      "memory usage: 896.0+ bytes\n"
     ]
    },
    {
     "data": {
      "text/plain": [
       "None"
      ]
     },
     "metadata": {},
     "output_type": "display_data"
    },
    {
     "name": "stdout",
     "output_type": "stream",
     "text": [
      "<class 'pandas.core.frame.DataFrame'>\n",
      "RangeIndex: 319995 entries, 0 to 319994\n",
      "Data columns (total 2 columns):\n",
      " #   Column    Non-Null Count   Dtype \n",
      "---  ------    --------------   ----- \n",
      " 0   user_id   319995 non-null  int64 \n",
      " 1   id_split  319995 non-null  object\n",
      "dtypes: int64(1), object(1)\n",
      "memory usage: 4.9+ MB\n"
     ]
    },
    {
     "data": {
      "text/plain": [
       "None"
      ]
     },
     "metadata": {},
     "output_type": "display_data"
    }
   ],
   "source": [
    "# Before merging the two dataframes on'id_split' and 'Item_id', need to make sure they have the same data type\n",
    "display(item.info())\n",
    "display(purchase.info())"
   ]
  },
  {
   "cell_type": "code",
   "execution_count": 24,
   "id": "cf14617b",
   "metadata": {},
   "outputs": [
    {
     "name": "stdout",
     "output_type": "stream",
     "text": [
      "<class 'pandas.core.frame.DataFrame'>\n",
      "RangeIndex: 319995 entries, 0 to 319994\n",
      "Data columns (total 2 columns):\n",
      " #   Column    Non-Null Count   Dtype\n",
      "---  ------    --------------   -----\n",
      " 0   user_id   319995 non-null  int64\n",
      " 1   id_split  319995 non-null  int64\n",
      "dtypes: int64(2)\n",
      "memory usage: 4.9 MB\n"
     ]
    },
    {
     "data": {
      "text/plain": [
       "None"
      ]
     },
     "metadata": {},
     "output_type": "display_data"
    }
   ],
   "source": [
    "# id_split is of type object, let's recast it to int\n",
    "purchase['id_split'] = purchase['id_split'].astype('int')\n",
    "display(purchase.info())"
   ]
  },
  {
   "cell_type": "code",
   "execution_count": 27,
   "id": "72e70cc4",
   "metadata": {},
   "outputs": [
    {
     "data": {
      "text/html": [
       "<div>\n",
       "<style scoped>\n",
       "    .dataframe tbody tr th:only-of-type {\n",
       "        vertical-align: middle;\n",
       "    }\n",
       "\n",
       "    .dataframe tbody tr th {\n",
       "        vertical-align: top;\n",
       "    }\n",
       "\n",
       "    .dataframe thead th {\n",
       "        text-align: right;\n",
       "    }\n",
       "</style>\n",
       "<table border=\"1\" class=\"dataframe\">\n",
       "  <thead>\n",
       "    <tr style=\"text-align: right;\">\n",
       "      <th></th>\n",
       "      <th>user_id</th>\n",
       "      <th>Item_name</th>\n",
       "    </tr>\n",
       "  </thead>\n",
       "  <tbody>\n",
       "    <tr>\n",
       "      <th>0</th>\n",
       "      <td>222087</td>\n",
       "      <td>dishwashing</td>\n",
       "    </tr>\n",
       "    <tr>\n",
       "      <th>1</th>\n",
       "      <td>404134</td>\n",
       "      <td>dishwashing</td>\n",
       "    </tr>\n",
       "    <tr>\n",
       "      <th>2</th>\n",
       "      <td>987613</td>\n",
       "      <td>dishwashing</td>\n",
       "    </tr>\n",
       "    <tr>\n",
       "      <th>3</th>\n",
       "      <td>60201</td>\n",
       "      <td>dishwashing</td>\n",
       "    </tr>\n",
       "    <tr>\n",
       "      <th>4</th>\n",
       "      <td>1166671</td>\n",
       "      <td>dishwashing</td>\n",
       "    </tr>\n",
       "  </tbody>\n",
       "</table>\n",
       "</div>"
      ],
      "text/plain": [
       "   user_id    Item_name\n",
       "0   222087  dishwashing\n",
       "1   404134  dishwashing\n",
       "2   987613  dishwashing\n",
       "3    60201  dishwashing\n",
       "4  1166671  dishwashing"
      ]
     },
     "metadata": {},
     "output_type": "display_data"
    }
   ],
   "source": [
    "full = purchase.merge(item, left_on='id_split', right_on='Item_id')\n",
    "full = full.drop(labels=['id_split', 'Item_id'], axis=1)\n",
    "display(full.head())"
   ]
  },
  {
   "cell_type": "markdown",
   "id": "9f244eec",
   "metadata": {},
   "source": [
    "# Answer the questions"
   ]
  },
  {
   "cell_type": "markdown",
   "id": "71c21e98",
   "metadata": {},
   "source": [
    "## Customer who bought the most items overall in her lifetime"
   ]
  },
  {
   "cell_type": "code",
   "execution_count": 45,
   "id": "62b7782b",
   "metadata": {},
   "outputs": [
    {
     "data": {
      "text/html": [
       "<div>\n",
       "<style scoped>\n",
       "    .dataframe tbody tr th:only-of-type {\n",
       "        vertical-align: middle;\n",
       "    }\n",
       "\n",
       "    .dataframe tbody tr th {\n",
       "        vertical-align: top;\n",
       "    }\n",
       "\n",
       "    .dataframe thead th {\n",
       "        text-align: right;\n",
       "    }\n",
       "</style>\n",
       "<table border=\"1\" class=\"dataframe\">\n",
       "  <thead>\n",
       "    <tr style=\"text-align: right;\">\n",
       "      <th></th>\n",
       "      <th>user_id</th>\n",
       "      <th>number_of_purchase</th>\n",
       "    </tr>\n",
       "  </thead>\n",
       "  <tbody>\n",
       "    <tr>\n",
       "      <th>4445</th>\n",
       "      <td>269335</td>\n",
       "      <td>72</td>\n",
       "    </tr>\n",
       "    <tr>\n",
       "      <th>6111</th>\n",
       "      <td>367872</td>\n",
       "      <td>70</td>\n",
       "    </tr>\n",
       "    <tr>\n",
       "      <th>6623</th>\n",
       "      <td>397623</td>\n",
       "      <td>64</td>\n",
       "    </tr>\n",
       "    <tr>\n",
       "      <th>9918</th>\n",
       "      <td>599172</td>\n",
       "      <td>64</td>\n",
       "    </tr>\n",
       "    <tr>\n",
       "      <th>6291</th>\n",
       "      <td>377284</td>\n",
       "      <td>63</td>\n",
       "    </tr>\n",
       "  </tbody>\n",
       "</table>\n",
       "</div>"
      ],
      "text/plain": [
       "      user_id  number_of_purchase\n",
       "4445   269335                  72\n",
       "6111   367872                  70\n",
       "6623   397623                  64\n",
       "9918   599172                  64\n",
       "6291   377284                  63"
      ]
     },
     "execution_count": 45,
     "metadata": {},
     "output_type": "execute_result"
    }
   ],
   "source": [
    "# Top 5 customers who bought the most items\n",
    "(full.groupby('user_id')\n",
    "     .count().\n",
    "     .rename(columns={'Item_name': 'number_of_purchase'})\n",
    "     .reset_index()                                         # make user_id a field instead of being an index\n",
    "     .sort_values(by='number_of_purchase', ascending=False) # sort customer with highest purchase items to the top\n",
    "     .head()\n",
    ")"
   ]
  },
  {
   "cell_type": "code",
   "execution_count": 52,
   "id": "1f126553",
   "metadata": {},
   "outputs": [],
   "source": [
    "# Test\n",
    "assert np.sum([full['user_id'] == 269335]) == 72"
   ]
  },
  {
   "cell_type": "markdown",
   "id": "ddf42e4d",
   "metadata": {},
   "source": [
    "## For each item, the customer who bought that product the most\n",
    "https://realpython.com/pandas-groupby/"
   ]
  },
  {
   "cell_type": "code",
   "execution_count": 110,
   "id": "e2557039",
   "metadata": {},
   "outputs": [
    {
     "data": {
      "text/html": [
       "<div>\n",
       "<style scoped>\n",
       "    .dataframe tbody tr th:only-of-type {\n",
       "        vertical-align: middle;\n",
       "    }\n",
       "\n",
       "    .dataframe tbody tr th {\n",
       "        vertical-align: top;\n",
       "    }\n",
       "\n",
       "    .dataframe thead th {\n",
       "        text-align: right;\n",
       "    }\n",
       "</style>\n",
       "<table border=\"1\" class=\"dataframe\">\n",
       "  <thead>\n",
       "    <tr style=\"text-align: right;\">\n",
       "      <th></th>\n",
       "      <th>Item_name</th>\n",
       "      <th>user_id</th>\n",
       "      <th>number_of_purchase</th>\n",
       "      <th>rank</th>\n",
       "    </tr>\n",
       "  </thead>\n",
       "  <tbody>\n",
       "    <tr>\n",
       "      <th>306</th>\n",
       "      <td>aluminum foil</td>\n",
       "      <td>143741</td>\n",
       "      <td>3</td>\n",
       "      <td>1.0</td>\n",
       "    </tr>\n",
       "    <tr>\n",
       "      <th>3</th>\n",
       "      <td>aluminum foil</td>\n",
       "      <td>553</td>\n",
       "      <td>2</td>\n",
       "      <td>2.0</td>\n",
       "    </tr>\n",
       "    <tr>\n",
       "      <th>28</th>\n",
       "      <td>aluminum foil</td>\n",
       "      <td>13321</td>\n",
       "      <td>2</td>\n",
       "      <td>2.0</td>\n",
       "    </tr>\n",
       "    <tr>\n",
       "      <th>53</th>\n",
       "      <td>aluminum foil</td>\n",
       "      <td>21779</td>\n",
       "      <td>2</td>\n",
       "      <td>2.0</td>\n",
       "    </tr>\n",
       "    <tr>\n",
       "      <th>72</th>\n",
       "      <td>aluminum foil</td>\n",
       "      <td>33011</td>\n",
       "      <td>2</td>\n",
       "      <td>2.0</td>\n",
       "    </tr>\n",
       "  </tbody>\n",
       "</table>\n",
       "</div>"
      ],
      "text/plain": [
       "         Item_name  user_id  number_of_purchase  rank\n",
       "306  aluminum foil   143741                   3   1.0\n",
       "3    aluminum foil      553                   2   2.0\n",
       "28   aluminum foil    13321                   2   2.0\n",
       "53   aluminum foil    21779                   2   2.0\n",
       "72   aluminum foil    33011                   2   2.0"
      ]
     },
     "metadata": {},
     "output_type": "display_data"
    }
   ],
   "source": [
    "# SELECT\n",
    "#     Item_name,\n",
    "#     user_id\n",
    "#     COUNT(user_id)\n",
    "# FROM full\n",
    "# GROUP BY\n",
    "#     Item_name,\n",
    "#     user_id\n",
    "# ORDER BY COUNT(user_id) DESCT\n",
    "\n",
    "purchase_amount = \\\n",
    "(\n",
    "    full.groupby(['Item_name', 'user_id'])['user_id']\n",
    "    .count()\n",
    "    .rename('dummy')\n",
    "    .reset_index()\n",
    "    .rename(columns={'dummy': 'number_of_purchase'})\n",
    "    .sort_values(by=['Item_name', 'number_of_purchase'], ascending=(True, False))\n",
    ")\n",
    "\n",
    "rk = \\\n",
    "(\n",
    "    purchase_amount\n",
    "    .groupby(['Item_name'])['number_of_purchase'].rank(ascending=False, method='dense')\n",
    "    .rename('rank')\n",
    ")\n",
    "\n",
    "purchase_amount = pd.concat([purchase_amount, rk], axis=1)\n",
    "display(purchase_amount.head())"
   ]
  },
  {
   "cell_type": "code",
   "execution_count": 116,
   "id": "cc04f193",
   "metadata": {},
   "outputs": [
    {
     "data": {
      "text/html": [
       "<div>\n",
       "<style scoped>\n",
       "    .dataframe tbody tr th:only-of-type {\n",
       "        vertical-align: middle;\n",
       "    }\n",
       "\n",
       "    .dataframe tbody tr th {\n",
       "        vertical-align: top;\n",
       "    }\n",
       "\n",
       "    .dataframe thead th {\n",
       "        text-align: right;\n",
       "    }\n",
       "</style>\n",
       "<table border=\"1\" class=\"dataframe\">\n",
       "  <thead>\n",
       "    <tr style=\"text-align: right;\">\n",
       "      <th></th>\n",
       "      <th>Item_name</th>\n",
       "      <th>user_id</th>\n",
       "      <th>number_of_purchase</th>\n",
       "    </tr>\n",
       "  </thead>\n",
       "  <tbody>\n",
       "    <tr>\n",
       "      <th>306</th>\n",
       "      <td>aluminum foil</td>\n",
       "      <td>143741</td>\n",
       "      <td>3</td>\n",
       "    </tr>\n",
       "    <tr>\n",
       "      <th>3694</th>\n",
       "      <td>apples</td>\n",
       "      <td>109578</td>\n",
       "      <td>4</td>\n",
       "    </tr>\n",
       "    <tr>\n",
       "      <th>5179</th>\n",
       "      <td>apples</td>\n",
       "      <td>384935</td>\n",
       "      <td>4</td>\n",
       "    </tr>\n",
       "    <tr>\n",
       "      <th>6071</th>\n",
       "      <td>apples</td>\n",
       "      <td>545108</td>\n",
       "      <td>4</td>\n",
       "    </tr>\n",
       "    <tr>\n",
       "      <th>10165</th>\n",
       "      <td>apples</td>\n",
       "      <td>1303742</td>\n",
       "      <td>4</td>\n",
       "    </tr>\n",
       "    <tr>\n",
       "      <th>...</th>\n",
       "      <td>...</td>\n",
       "      <td>...</td>\n",
       "      <td>...</td>\n",
       "    </tr>\n",
       "    <tr>\n",
       "      <th>289381</th>\n",
       "      <td>yogurt</td>\n",
       "      <td>1167089</td>\n",
       "      <td>3</td>\n",
       "    </tr>\n",
       "    <tr>\n",
       "      <th>289390</th>\n",
       "      <td>yogurt</td>\n",
       "      <td>1169085</td>\n",
       "      <td>3</td>\n",
       "    </tr>\n",
       "    <tr>\n",
       "      <th>289532</th>\n",
       "      <td>yogurt</td>\n",
       "      <td>1213479</td>\n",
       "      <td>3</td>\n",
       "    </tr>\n",
       "    <tr>\n",
       "      <th>289757</th>\n",
       "      <td>yogurt</td>\n",
       "      <td>1280108</td>\n",
       "      <td>3</td>\n",
       "    </tr>\n",
       "    <tr>\n",
       "      <th>289931</th>\n",
       "      <td>yogurt</td>\n",
       "      <td>1329628</td>\n",
       "      <td>3</td>\n",
       "    </tr>\n",
       "  </tbody>\n",
       "</table>\n",
       "<p>280 rows × 3 columns</p>\n",
       "</div>"
      ],
      "text/plain": [
       "            Item_name  user_id  number_of_purchase\n",
       "306     aluminum foil   143741                   3\n",
       "3694           apples   109578                   4\n",
       "5179           apples   384935                   4\n",
       "6071           apples   545108                   4\n",
       "10165          apples  1303742                   4\n",
       "...               ...      ...                 ...\n",
       "289381         yogurt  1167089                   3\n",
       "289390         yogurt  1169085                   3\n",
       "289532         yogurt  1213479                   3\n",
       "289757         yogurt  1280108                   3\n",
       "289931         yogurt  1329628                   3\n",
       "\n",
       "[280 rows x 3 columns]"
      ]
     },
     "execution_count": 116,
     "metadata": {},
     "output_type": "execute_result"
    }
   ],
   "source": [
    "most_valuable_customer = purchase_amount[purchase_amount['rank'] == 1][['Item_name', 'user_id', 'number_of_purchase']]\n",
    "most_valuable_customer"
   ]
  },
  {
   "cell_type": "code",
   "execution_count": null,
   "id": "cb2246d5",
   "metadata": {},
   "outputs": [],
   "source": []
  }
 ],
 "metadata": {
  "kernelspec": {
   "display_name": "Python 3",
   "language": "python",
   "name": "python3"
  },
  "language_info": {
   "codemirror_mode": {
    "name": "ipython",
    "version": 3
   },
   "file_extension": ".py",
   "mimetype": "text/x-python",
   "name": "python",
   "nbconvert_exporter": "python",
   "pygments_lexer": "ipython3",
   "version": "3.8.8"
  }
 },
 "nbformat": 4,
 "nbformat_minor": 5
}
