{
 "cells": [
  {
   "cell_type": "markdown",
   "id": "a04b6002",
   "metadata": {},
   "source": [
    "Chapter 3 Exercises"
   ]
  },
  {
   "cell_type": "markdown",
   "id": "1c6335b3",
   "metadata": {},
   "source": [
    "Exercise 1. We want to look at data for the Facebook, Apple, Amazon, Netflix, and Google (FAANG) stocks, but we were given each as a separate CSV file. Combine them into a single file and store the dataframe of the FAANG data as faang for the rest of the exercises."
   ]
  },
  {
   "cell_type": "markdown",
   "id": "8c76bdf1",
   "metadata": {},
   "source": [
    "1. Read each file in."
   ]
  },
  {
   "cell_type": "code",
   "execution_count": 83,
   "id": "86988705",
   "metadata": {},
   "outputs": [
    {
     "data": {
      "text/plain": [
       "'/home/carey/git/bookclub/Club-08-Data_Analysis_with_Pandas/Hands-On-Data-Analysis-with-Pandas/ch_03/exercises'"
      ]
     },
     "execution_count": 83,
     "metadata": {},
     "output_type": "execute_result"
    }
   ],
   "source": [
    "import pandas as pd\n",
    "import os\n",
    "os.getcwd() #current working directory"
   ]
  },
  {
   "cell_type": "code",
   "execution_count": 84,
   "id": "44adf440",
   "metadata": {},
   "outputs": [],
   "source": [
    "aapl = pd.read_csv('aapl.csv')\n",
    "amzn = pd.read_csv('amzn.csv')\n",
    "fb  = pd.read_csv('fb.csv')\n",
    "goog = pd.read_csv('goog.csv')\n",
    "nflx = pd.read_csv('nflx.csv')"
   ]
  },
  {
   "cell_type": "markdown",
   "id": "0bae0b3e",
   "metadata": {},
   "source": [
    "2. Add a column to each dataframe, called ticker , indicating the ticker symbol it is for (Apple's is AAPL, for example). This is how you look up a stock. Each file's name is also the ticker symbol, so be sure to capitalize it."
   ]
  },
  {
   "cell_type": "code",
   "execution_count": 85,
   "id": "09c873cf",
   "metadata": {},
   "outputs": [
    {
     "data": {
      "text/html": [
       "<div>\n",
       "<style scoped>\n",
       "    .dataframe tbody tr th:only-of-type {\n",
       "        vertical-align: middle;\n",
       "    }\n",
       "\n",
       "    .dataframe tbody tr th {\n",
       "        vertical-align: top;\n",
       "    }\n",
       "\n",
       "    .dataframe thead th {\n",
       "        text-align: right;\n",
       "    }\n",
       "</style>\n",
       "<table border=\"1\" class=\"dataframe\">\n",
       "  <thead>\n",
       "    <tr style=\"text-align: right;\">\n",
       "      <th></th>\n",
       "      <th>date</th>\n",
       "      <th>open</th>\n",
       "      <th>high</th>\n",
       "      <th>low</th>\n",
       "      <th>close</th>\n",
       "      <th>volume</th>\n",
       "      <th>ticker</th>\n",
       "    </tr>\n",
       "  </thead>\n",
       "  <tbody>\n",
       "    <tr>\n",
       "      <th>0</th>\n",
       "      <td>2018-01-02</td>\n",
       "      <td>166.9271</td>\n",
       "      <td>169.0264</td>\n",
       "      <td>166.0442</td>\n",
       "      <td>168.9872</td>\n",
       "      <td>25555934</td>\n",
       "      <td>APPL</td>\n",
       "    </tr>\n",
       "    <tr>\n",
       "      <th>1</th>\n",
       "      <td>2018-01-03</td>\n",
       "      <td>169.2521</td>\n",
       "      <td>171.2337</td>\n",
       "      <td>168.6929</td>\n",
       "      <td>168.9578</td>\n",
       "      <td>29517899</td>\n",
       "      <td>APPL</td>\n",
       "    </tr>\n",
       "    <tr>\n",
       "      <th>2</th>\n",
       "      <td>2018-01-04</td>\n",
       "      <td>169.2619</td>\n",
       "      <td>170.1742</td>\n",
       "      <td>168.8106</td>\n",
       "      <td>169.7426</td>\n",
       "      <td>22434597</td>\n",
       "      <td>APPL</td>\n",
       "    </tr>\n",
       "    <tr>\n",
       "      <th>3</th>\n",
       "      <td>2018-01-05</td>\n",
       "      <td>170.1448</td>\n",
       "      <td>172.0381</td>\n",
       "      <td>169.7622</td>\n",
       "      <td>171.6751</td>\n",
       "      <td>23660018</td>\n",
       "      <td>APPL</td>\n",
       "    </tr>\n",
       "    <tr>\n",
       "      <th>4</th>\n",
       "      <td>2018-01-08</td>\n",
       "      <td>171.0375</td>\n",
       "      <td>172.2736</td>\n",
       "      <td>170.6255</td>\n",
       "      <td>171.0375</td>\n",
       "      <td>20567766</td>\n",
       "      <td>APPL</td>\n",
       "    </tr>\n",
       "  </tbody>\n",
       "</table>\n",
       "</div>"
      ],
      "text/plain": [
       "         date      open      high       low     close    volume ticker\n",
       "0  2018-01-02  166.9271  169.0264  166.0442  168.9872  25555934   APPL\n",
       "1  2018-01-03  169.2521  171.2337  168.6929  168.9578  29517899   APPL\n",
       "2  2018-01-04  169.2619  170.1742  168.8106  169.7426  22434597   APPL\n",
       "3  2018-01-05  170.1448  172.0381  169.7622  171.6751  23660018   APPL\n",
       "4  2018-01-08  171.0375  172.2736  170.6255  171.0375  20567766   APPL"
      ]
     },
     "execution_count": 85,
     "metadata": {},
     "output_type": "execute_result"
    }
   ],
   "source": [
    "aapl = aapl.assign(ticker = 'APPL')\n",
    "amzn = amzn.assign(ticker = 'AMZN')\n",
    "fb = fb.assign(ticker = 'FB')\n",
    "goog = goog.assign(ticker = 'GOOG')\n",
    "nflx = nflx.assign(ticker = 'NFLX')\n",
    "appl.head()"
   ]
  },
  {
   "cell_type": "markdown",
   "id": "bb8e5b28",
   "metadata": {},
   "source": [
    "3. Append them together into a single dataframe."
   ]
  },
  {
   "cell_type": "code",
   "execution_count": 86,
   "id": "5a3f2271",
   "metadata": {},
   "outputs": [],
   "source": [
    "faang = pd.concat([aapl, amzn, fb, goog, nflx], ignore_index = True)"
   ]
  },
  {
   "cell_type": "code",
   "execution_count": 87,
   "id": "e8a774ab",
   "metadata": {},
   "outputs": [
    {
     "data": {
      "text/html": [
       "<div>\n",
       "<style scoped>\n",
       "    .dataframe tbody tr th:only-of-type {\n",
       "        vertical-align: middle;\n",
       "    }\n",
       "\n",
       "    .dataframe tbody tr th {\n",
       "        vertical-align: top;\n",
       "    }\n",
       "\n",
       "    .dataframe thead th {\n",
       "        text-align: right;\n",
       "    }\n",
       "</style>\n",
       "<table border=\"1\" class=\"dataframe\">\n",
       "  <thead>\n",
       "    <tr style=\"text-align: right;\">\n",
       "      <th></th>\n",
       "      <th>date</th>\n",
       "      <th>open</th>\n",
       "      <th>high</th>\n",
       "      <th>low</th>\n",
       "      <th>close</th>\n",
       "      <th>volume</th>\n",
       "      <th>ticker</th>\n",
       "    </tr>\n",
       "  </thead>\n",
       "  <tbody>\n",
       "    <tr>\n",
       "      <th>0</th>\n",
       "      <td>2018-01-02</td>\n",
       "      <td>166.9271</td>\n",
       "      <td>169.0264</td>\n",
       "      <td>166.0442</td>\n",
       "      <td>168.9872</td>\n",
       "      <td>25555934</td>\n",
       "      <td>APPL</td>\n",
       "    </tr>\n",
       "    <tr>\n",
       "      <th>1</th>\n",
       "      <td>2018-01-03</td>\n",
       "      <td>169.2521</td>\n",
       "      <td>171.2337</td>\n",
       "      <td>168.6929</td>\n",
       "      <td>168.9578</td>\n",
       "      <td>29517899</td>\n",
       "      <td>APPL</td>\n",
       "    </tr>\n",
       "    <tr>\n",
       "      <th>2</th>\n",
       "      <td>2018-01-04</td>\n",
       "      <td>169.2619</td>\n",
       "      <td>170.1742</td>\n",
       "      <td>168.8106</td>\n",
       "      <td>169.7426</td>\n",
       "      <td>22434597</td>\n",
       "      <td>APPL</td>\n",
       "    </tr>\n",
       "    <tr>\n",
       "      <th>3</th>\n",
       "      <td>2018-01-05</td>\n",
       "      <td>170.1448</td>\n",
       "      <td>172.0381</td>\n",
       "      <td>169.7622</td>\n",
       "      <td>171.6751</td>\n",
       "      <td>23660018</td>\n",
       "      <td>APPL</td>\n",
       "    </tr>\n",
       "    <tr>\n",
       "      <th>4</th>\n",
       "      <td>2018-01-08</td>\n",
       "      <td>171.0375</td>\n",
       "      <td>172.2736</td>\n",
       "      <td>170.6255</td>\n",
       "      <td>171.0375</td>\n",
       "      <td>20567766</td>\n",
       "      <td>APPL</td>\n",
       "    </tr>\n",
       "  </tbody>\n",
       "</table>\n",
       "</div>"
      ],
      "text/plain": [
       "         date      open      high       low     close    volume ticker\n",
       "0  2018-01-02  166.9271  169.0264  166.0442  168.9872  25555934   APPL\n",
       "1  2018-01-03  169.2521  171.2337  168.6929  168.9578  29517899   APPL\n",
       "2  2018-01-04  169.2619  170.1742  168.8106  169.7426  22434597   APPL\n",
       "3  2018-01-05  170.1448  172.0381  169.7622  171.6751  23660018   APPL\n",
       "4  2018-01-08  171.0375  172.2736  170.6255  171.0375  20567766   APPL"
      ]
     },
     "execution_count": 87,
     "metadata": {},
     "output_type": "execute_result"
    }
   ],
   "source": [
    "faang.head()"
   ]
  },
  {
   "cell_type": "markdown",
   "id": "031c6480",
   "metadata": {},
   "source": [
    "4. Save the result in a CSV file called faang.csv."
   ]
  },
  {
   "cell_type": "code",
   "execution_count": 88,
   "id": "554fdfef",
   "metadata": {},
   "outputs": [],
   "source": [
    "faang.to_csv('faang.csv', index = False)"
   ]
  },
  {
   "cell_type": "markdown",
   "id": "0767cb65",
   "metadata": {},
   "source": [
    "Exercise 2. With faang, use type conversion to change the date column into a datetime and the volume column into integers. Then, sort by date and ticker."
   ]
  },
  {
   "cell_type": "code",
   "execution_count": 92,
   "id": "c71bce2f",
   "metadata": {},
   "outputs": [
    {
     "data": {
      "text/plain": [
       "date      datetime64[ns]\n",
       "open             float64\n",
       "high             float64\n",
       "low              float64\n",
       "close            float64\n",
       "volume             int64\n",
       "ticker            object\n",
       "dtype: object"
      ]
     },
     "execution_count": 92,
     "metadata": {},
     "output_type": "execute_result"
    }
   ],
   "source": [
    "faang.dtypes"
   ]
  },
  {
   "cell_type": "code",
   "execution_count": 99,
   "id": "13510bdb",
   "metadata": {},
   "outputs": [],
   "source": [
    "faang.date = pd.to_datetime(faang.date)\n",
    "faang.volume = faang.volume.astype('int')"
   ]
  },
  {
   "cell_type": "code",
   "execution_count": 100,
   "id": "7f03972d",
   "metadata": {},
   "outputs": [
    {
     "name": "stdout",
     "output_type": "stream",
     "text": [
      "<class 'pandas.core.frame.DataFrame'>\n",
      "RangeIndex: 1255 entries, 0 to 1254\n",
      "Data columns (total 7 columns):\n",
      "date      1255 non-null datetime64[ns]\n",
      "open      1255 non-null float64\n",
      "high      1255 non-null float64\n",
      "low       1255 non-null float64\n",
      "close     1255 non-null float64\n",
      "volume    1255 non-null int64\n",
      "ticker    1255 non-null object\n",
      "dtypes: datetime64[ns](1), float64(4), int64(1), object(1)\n",
      "memory usage: 68.7+ KB\n"
     ]
    }
   ],
   "source": [
    "faang.info()"
   ]
  },
  {
   "cell_type": "code",
   "execution_count": 103,
   "id": "65e13e93",
   "metadata": {},
   "outputs": [],
   "source": [
    "faang = faang.sort_values(by = ['date', 'ticker'])"
   ]
  },
  {
   "cell_type": "code",
   "execution_count": 105,
   "id": "6bbc95ca",
   "metadata": {},
   "outputs": [
    {
     "data": {
      "text/html": [
       "<div>\n",
       "<style scoped>\n",
       "    .dataframe tbody tr th:only-of-type {\n",
       "        vertical-align: middle;\n",
       "    }\n",
       "\n",
       "    .dataframe tbody tr th {\n",
       "        vertical-align: top;\n",
       "    }\n",
       "\n",
       "    .dataframe thead th {\n",
       "        text-align: right;\n",
       "    }\n",
       "</style>\n",
       "<table border=\"1\" class=\"dataframe\">\n",
       "  <thead>\n",
       "    <tr style=\"text-align: right;\">\n",
       "      <th></th>\n",
       "      <th>date</th>\n",
       "      <th>open</th>\n",
       "      <th>high</th>\n",
       "      <th>low</th>\n",
       "      <th>close</th>\n",
       "      <th>volume</th>\n",
       "      <th>ticker</th>\n",
       "    </tr>\n",
       "  </thead>\n",
       "  <tbody>\n",
       "    <tr>\n",
       "      <th>251</th>\n",
       "      <td>2018-01-02</td>\n",
       "      <td>1172.0000</td>\n",
       "      <td>1190.0000</td>\n",
       "      <td>1170.5100</td>\n",
       "      <td>1189.0100</td>\n",
       "      <td>2694494</td>\n",
       "      <td>AMZN</td>\n",
       "    </tr>\n",
       "    <tr>\n",
       "      <th>0</th>\n",
       "      <td>2018-01-02</td>\n",
       "      <td>166.9271</td>\n",
       "      <td>169.0264</td>\n",
       "      <td>166.0442</td>\n",
       "      <td>168.9872</td>\n",
       "      <td>25555934</td>\n",
       "      <td>APPL</td>\n",
       "    </tr>\n",
       "    <tr>\n",
       "      <th>502</th>\n",
       "      <td>2018-01-02</td>\n",
       "      <td>177.6800</td>\n",
       "      <td>181.5800</td>\n",
       "      <td>177.5500</td>\n",
       "      <td>181.4200</td>\n",
       "      <td>18151903</td>\n",
       "      <td>FB</td>\n",
       "    </tr>\n",
       "    <tr>\n",
       "      <th>753</th>\n",
       "      <td>2018-01-02</td>\n",
       "      <td>1048.3400</td>\n",
       "      <td>1066.9400</td>\n",
       "      <td>1045.2300</td>\n",
       "      <td>1065.0000</td>\n",
       "      <td>1237564</td>\n",
       "      <td>GOOG</td>\n",
       "    </tr>\n",
       "    <tr>\n",
       "      <th>1004</th>\n",
       "      <td>2018-01-02</td>\n",
       "      <td>196.1000</td>\n",
       "      <td>201.6500</td>\n",
       "      <td>195.4200</td>\n",
       "      <td>201.0700</td>\n",
       "      <td>10966889</td>\n",
       "      <td>NFLX</td>\n",
       "    </tr>\n",
       "  </tbody>\n",
       "</table>\n",
       "</div>"
      ],
      "text/plain": [
       "           date       open       high        low      close    volume ticker\n",
       "251  2018-01-02  1172.0000  1190.0000  1170.5100  1189.0100   2694494   AMZN\n",
       "0    2018-01-02   166.9271   169.0264   166.0442   168.9872  25555934   APPL\n",
       "502  2018-01-02   177.6800   181.5800   177.5500   181.4200  18151903     FB\n",
       "753  2018-01-02  1048.3400  1066.9400  1045.2300  1065.0000   1237564   GOOG\n",
       "1004 2018-01-02   196.1000   201.6500   195.4200   201.0700  10966889   NFLX"
      ]
     },
     "execution_count": 105,
     "metadata": {},
     "output_type": "execute_result"
    }
   ],
   "source": [
    "faang.head()"
   ]
  },
  {
   "cell_type": "markdown",
   "id": "462749a2",
   "metadata": {},
   "source": [
    "3. Find the seven rows with the highest value for volume."
   ]
  },
  {
   "cell_type": "code",
   "execution_count": 110,
   "id": "bc8cd675",
   "metadata": {},
   "outputs": [
    {
     "data": {
      "text/html": [
       "<div>\n",
       "<style scoped>\n",
       "    .dataframe tbody tr th:only-of-type {\n",
       "        vertical-align: middle;\n",
       "    }\n",
       "\n",
       "    .dataframe tbody tr th {\n",
       "        vertical-align: top;\n",
       "    }\n",
       "\n",
       "    .dataframe thead th {\n",
       "        text-align: right;\n",
       "    }\n",
       "</style>\n",
       "<table border=\"1\" class=\"dataframe\">\n",
       "  <thead>\n",
       "    <tr style=\"text-align: right;\">\n",
       "      <th></th>\n",
       "      <th>date</th>\n",
       "      <th>open</th>\n",
       "      <th>high</th>\n",
       "      <th>low</th>\n",
       "      <th>close</th>\n",
       "      <th>volume</th>\n",
       "      <th>ticker</th>\n",
       "    </tr>\n",
       "  </thead>\n",
       "  <tbody>\n",
       "    <tr>\n",
       "      <th>644</th>\n",
       "      <td>2018-07-26</td>\n",
       "      <td>174.8900</td>\n",
       "      <td>180.1300</td>\n",
       "      <td>173.7500</td>\n",
       "      <td>176.2600</td>\n",
       "      <td>169803668</td>\n",
       "      <td>FB</td>\n",
       "    </tr>\n",
       "    <tr>\n",
       "      <th>555</th>\n",
       "      <td>2018-03-20</td>\n",
       "      <td>167.4700</td>\n",
       "      <td>170.2000</td>\n",
       "      <td>161.9500</td>\n",
       "      <td>168.1500</td>\n",
       "      <td>129851768</td>\n",
       "      <td>FB</td>\n",
       "    </tr>\n",
       "    <tr>\n",
       "      <th>559</th>\n",
       "      <td>2018-03-26</td>\n",
       "      <td>160.8200</td>\n",
       "      <td>161.1000</td>\n",
       "      <td>149.0200</td>\n",
       "      <td>160.0600</td>\n",
       "      <td>126116634</td>\n",
       "      <td>FB</td>\n",
       "    </tr>\n",
       "    <tr>\n",
       "      <th>556</th>\n",
       "      <td>2018-03-21</td>\n",
       "      <td>164.8000</td>\n",
       "      <td>173.4000</td>\n",
       "      <td>163.3000</td>\n",
       "      <td>169.3900</td>\n",
       "      <td>106598834</td>\n",
       "      <td>FB</td>\n",
       "    </tr>\n",
       "    <tr>\n",
       "      <th>182</th>\n",
       "      <td>2018-09-21</td>\n",
       "      <td>219.0727</td>\n",
       "      <td>219.6482</td>\n",
       "      <td>215.6097</td>\n",
       "      <td>215.9768</td>\n",
       "      <td>96246748</td>\n",
       "      <td>APPL</td>\n",
       "    </tr>\n",
       "    <tr>\n",
       "      <th>245</th>\n",
       "      <td>2018-12-21</td>\n",
       "      <td>156.1901</td>\n",
       "      <td>157.4845</td>\n",
       "      <td>148.9909</td>\n",
       "      <td>150.0862</td>\n",
       "      <td>95744384</td>\n",
       "      <td>APPL</td>\n",
       "    </tr>\n",
       "    <tr>\n",
       "      <th>212</th>\n",
       "      <td>2018-11-02</td>\n",
       "      <td>207.9295</td>\n",
       "      <td>211.9978</td>\n",
       "      <td>203.8414</td>\n",
       "      <td>205.8755</td>\n",
       "      <td>91328654</td>\n",
       "      <td>APPL</td>\n",
       "    </tr>\n",
       "  </tbody>\n",
       "</table>\n",
       "</div>"
      ],
      "text/plain": [
       "          date      open      high       low     close     volume ticker\n",
       "644 2018-07-26  174.8900  180.1300  173.7500  176.2600  169803668     FB\n",
       "555 2018-03-20  167.4700  170.2000  161.9500  168.1500  129851768     FB\n",
       "559 2018-03-26  160.8200  161.1000  149.0200  160.0600  126116634     FB\n",
       "556 2018-03-21  164.8000  173.4000  163.3000  169.3900  106598834     FB\n",
       "182 2018-09-21  219.0727  219.6482  215.6097  215.9768   96246748   APPL\n",
       "245 2018-12-21  156.1901  157.4845  148.9909  150.0862   95744384   APPL\n",
       "212 2018-11-02  207.9295  211.9978  203.8414  205.8755   91328654   APPL"
      ]
     },
     "execution_count": 110,
     "metadata": {},
     "output_type": "execute_result"
    }
   ],
   "source": [
    "faang.nlargest(n=7, columns = 'volume')"
   ]
  },
  {
   "cell_type": "markdown",
   "id": "044b0ac5",
   "metadata": {},
   "source": [
    "4. Right now, the data is somewhere between long and wide format. Use melt() to make it completely long format. Hint: date and ticker are our ID variables (they uniquely identify each row). We need to melt the rest so that we don't have separate columns for open , high , low , close , and volume."
   ]
  },
  {
   "cell_type": "code",
   "execution_count": 119,
   "id": "aa1ea7dd",
   "metadata": {},
   "outputs": [
    {
     "data": {
      "text/html": [
       "<div>\n",
       "<style scoped>\n",
       "    .dataframe tbody tr th:only-of-type {\n",
       "        vertical-align: middle;\n",
       "    }\n",
       "\n",
       "    .dataframe tbody tr th {\n",
       "        vertical-align: top;\n",
       "    }\n",
       "\n",
       "    .dataframe thead th {\n",
       "        text-align: right;\n",
       "    }\n",
       "</style>\n",
       "<table border=\"1\" class=\"dataframe\">\n",
       "  <thead>\n",
       "    <tr style=\"text-align: right;\">\n",
       "      <th></th>\n",
       "      <th>date</th>\n",
       "      <th>open</th>\n",
       "      <th>high</th>\n",
       "      <th>low</th>\n",
       "      <th>close</th>\n",
       "      <th>volume</th>\n",
       "      <th>ticker</th>\n",
       "    </tr>\n",
       "  </thead>\n",
       "  <tbody>\n",
       "    <tr>\n",
       "      <th>251</th>\n",
       "      <td>2018-01-02</td>\n",
       "      <td>1172.0000</td>\n",
       "      <td>1190.0000</td>\n",
       "      <td>1170.5100</td>\n",
       "      <td>1189.0100</td>\n",
       "      <td>2694494</td>\n",
       "      <td>AMZN</td>\n",
       "    </tr>\n",
       "    <tr>\n",
       "      <th>0</th>\n",
       "      <td>2018-01-02</td>\n",
       "      <td>166.9271</td>\n",
       "      <td>169.0264</td>\n",
       "      <td>166.0442</td>\n",
       "      <td>168.9872</td>\n",
       "      <td>25555934</td>\n",
       "      <td>APPL</td>\n",
       "    </tr>\n",
       "    <tr>\n",
       "      <th>502</th>\n",
       "      <td>2018-01-02</td>\n",
       "      <td>177.6800</td>\n",
       "      <td>181.5800</td>\n",
       "      <td>177.5500</td>\n",
       "      <td>181.4200</td>\n",
       "      <td>18151903</td>\n",
       "      <td>FB</td>\n",
       "    </tr>\n",
       "    <tr>\n",
       "      <th>753</th>\n",
       "      <td>2018-01-02</td>\n",
       "      <td>1048.3400</td>\n",
       "      <td>1066.9400</td>\n",
       "      <td>1045.2300</td>\n",
       "      <td>1065.0000</td>\n",
       "      <td>1237564</td>\n",
       "      <td>GOOG</td>\n",
       "    </tr>\n",
       "    <tr>\n",
       "      <th>1004</th>\n",
       "      <td>2018-01-02</td>\n",
       "      <td>196.1000</td>\n",
       "      <td>201.6500</td>\n",
       "      <td>195.4200</td>\n",
       "      <td>201.0700</td>\n",
       "      <td>10966889</td>\n",
       "      <td>NFLX</td>\n",
       "    </tr>\n",
       "  </tbody>\n",
       "</table>\n",
       "</div>"
      ],
      "text/plain": [
       "           date       open       high        low      close    volume ticker\n",
       "251  2018-01-02  1172.0000  1190.0000  1170.5100  1189.0100   2694494   AMZN\n",
       "0    2018-01-02   166.9271   169.0264   166.0442   168.9872  25555934   APPL\n",
       "502  2018-01-02   177.6800   181.5800   177.5500   181.4200  18151903     FB\n",
       "753  2018-01-02  1048.3400  1066.9400  1045.2300  1065.0000   1237564   GOOG\n",
       "1004 2018-01-02   196.1000   201.6500   195.4200   201.0700  10966889   NFLX"
      ]
     },
     "execution_count": 119,
     "metadata": {},
     "output_type": "execute_result"
    }
   ],
   "source": [
    "faang.head()"
   ]
  },
  {
   "cell_type": "code",
   "execution_count": 116,
   "id": "62a51778",
   "metadata": {},
   "outputs": [
    {
     "data": {
      "text/plain": [
       "(1255, 7)"
      ]
     },
     "execution_count": 116,
     "metadata": {},
     "output_type": "execute_result"
    }
   ],
   "source": [
    "faang.shape"
   ]
  },
  {
   "cell_type": "code",
   "execution_count": 121,
   "id": "1f222f8a",
   "metadata": {},
   "outputs": [
    {
     "data": {
      "text/html": [
       "<div>\n",
       "<style scoped>\n",
       "    .dataframe tbody tr th:only-of-type {\n",
       "        vertical-align: middle;\n",
       "    }\n",
       "\n",
       "    .dataframe tbody tr th {\n",
       "        vertical-align: top;\n",
       "    }\n",
       "\n",
       "    .dataframe thead th {\n",
       "        text-align: right;\n",
       "    }\n",
       "</style>\n",
       "<table border=\"1\" class=\"dataframe\">\n",
       "  <thead>\n",
       "    <tr style=\"text-align: right;\">\n",
       "      <th></th>\n",
       "      <th>date</th>\n",
       "      <th>ticker</th>\n",
       "      <th>variable</th>\n",
       "      <th>value</th>\n",
       "    </tr>\n",
       "  </thead>\n",
       "  <tbody>\n",
       "    <tr>\n",
       "      <th>0</th>\n",
       "      <td>2018-01-02</td>\n",
       "      <td>AMZN</td>\n",
       "      <td>open</td>\n",
       "      <td>1172.0000</td>\n",
       "    </tr>\n",
       "    <tr>\n",
       "      <th>1</th>\n",
       "      <td>2018-01-02</td>\n",
       "      <td>APPL</td>\n",
       "      <td>open</td>\n",
       "      <td>166.9271</td>\n",
       "    </tr>\n",
       "    <tr>\n",
       "      <th>2</th>\n",
       "      <td>2018-01-02</td>\n",
       "      <td>FB</td>\n",
       "      <td>open</td>\n",
       "      <td>177.6800</td>\n",
       "    </tr>\n",
       "    <tr>\n",
       "      <th>3</th>\n",
       "      <td>2018-01-02</td>\n",
       "      <td>GOOG</td>\n",
       "      <td>open</td>\n",
       "      <td>1048.3400</td>\n",
       "    </tr>\n",
       "    <tr>\n",
       "      <th>4</th>\n",
       "      <td>2018-01-02</td>\n",
       "      <td>NFLX</td>\n",
       "      <td>open</td>\n",
       "      <td>196.1000</td>\n",
       "    </tr>\n",
       "  </tbody>\n",
       "</table>\n",
       "</div>"
      ],
      "text/plain": [
       "        date ticker variable      value\n",
       "0 2018-01-02   AMZN     open  1172.0000\n",
       "1 2018-01-02   APPL     open   166.9271\n",
       "2 2018-01-02     FB     open   177.6800\n",
       "3 2018-01-02   GOOG     open  1048.3400\n",
       "4 2018-01-02   NFLX     open   196.1000"
      ]
     },
     "execution_count": 121,
     "metadata": {},
     "output_type": "execute_result"
    }
   ],
   "source": [
    "faang_long = pd.melt(\n",
    "    faang,\n",
    "    id_vars = ['date', 'ticker'],\n",
    "    value_vars = ['open', 'high', 'low', 'close', 'volume'],\n",
    "    var_name = 'variable',\n",
    "    value_name = 'value'\n",
    ")\n",
    "faang_long.head()"
   ]
  },
  {
   "cell_type": "code",
   "execution_count": 122,
   "id": "4ea9e148",
   "metadata": {},
   "outputs": [
    {
     "data": {
      "text/plain": [
       "(6275, 4)"
      ]
     },
     "execution_count": 122,
     "metadata": {},
     "output_type": "execute_result"
    }
   ],
   "source": [
    "faang_long.shape"
   ]
  }
 ],
 "metadata": {
  "kernelspec": {
   "display_name": "Python 3",
   "language": "python",
   "name": "python3"
  },
  "language_info": {
   "codemirror_mode": {
    "name": "ipython",
    "version": 3
   },
   "file_extension": ".py",
   "mimetype": "text/x-python",
   "name": "python",
   "nbconvert_exporter": "python",
   "pygments_lexer": "ipython3",
   "version": "3.7.10"
  }
 },
 "nbformat": 4,
 "nbformat_minor": 5
}
