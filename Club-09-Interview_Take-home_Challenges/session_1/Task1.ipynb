{
 "cells": [
  {
   "cell_type": "code",
   "execution_count": null,
   "id": "11be728d-0d99-4809-99c0-5071adc1ab44",
   "metadata": {},
   "outputs": [],
   "source": [
    "!wc -l data/conversion_project.csv"
   ]
  },
  {
   "cell_type": "code",
   "execution_count": null,
   "id": "2e2d846d-3e09-44dc-9b01-13986c98a0d4",
   "metadata": {},
   "outputs": [],
   "source": [
    "!ls -lh data|grep conversion_project.csv"
   ]
  },
  {
   "cell_type": "code",
   "execution_count": null,
   "id": "1f5aac82-0dcf-410b-bf0f-1f7bc6913166",
   "metadata": {},
   "outputs": [],
   "source": [
    "!awk -F',' '{print NF; exit}' data/conversion_project.csv"
   ]
  },
  {
   "cell_type": "markdown",
   "id": "47997135-a67d-4a3d-a111-a88e84fcffa2",
   "metadata": {},
   "source": [
    "## Load Dataset"
   ]
  },
  {
   "cell_type": "code",
   "execution_count": 1,
   "id": "7860c159-07dc-491f-909e-b87496536a50",
   "metadata": {},
   "outputs": [],
   "source": [
    "import datetime\n",
    "import numpy as np\n",
    "import pandas as pd\n",
    "%matplotlib inline\n",
    "import matplotlib.pyplot as plt\n",
    "df = pd.read_csv('data/conversion_project.csv')"
   ]
  },
  {
   "cell_type": "code",
   "execution_count": 2,
   "id": "162f3099-a1f9-41a7-94ed-7be0d4132e01",
   "metadata": {},
   "outputs": [
    {
     "data": {
      "text/html": [
       "<div>\n",
       "<style scoped>\n",
       "    .dataframe tbody tr th:only-of-type {\n",
       "        vertical-align: middle;\n",
       "    }\n",
       "\n",
       "    .dataframe tbody tr th {\n",
       "        vertical-align: top;\n",
       "    }\n",
       "\n",
       "    .dataframe thead th {\n",
       "        text-align: right;\n",
       "    }\n",
       "</style>\n",
       "<table border=\"1\" class=\"dataframe\">\n",
       "  <thead>\n",
       "    <tr style=\"text-align: right;\">\n",
       "      <th></th>\n",
       "      <th>country</th>\n",
       "      <th>age</th>\n",
       "      <th>new_user</th>\n",
       "      <th>source</th>\n",
       "      <th>total_pages_visited</th>\n",
       "      <th>converted</th>\n",
       "    </tr>\n",
       "  </thead>\n",
       "  <tbody>\n",
       "    <tr>\n",
       "      <th>0</th>\n",
       "      <td>UK</td>\n",
       "      <td>25</td>\n",
       "      <td>1</td>\n",
       "      <td>Ads</td>\n",
       "      <td>1</td>\n",
       "      <td>0</td>\n",
       "    </tr>\n",
       "    <tr>\n",
       "      <th>1</th>\n",
       "      <td>US</td>\n",
       "      <td>23</td>\n",
       "      <td>1</td>\n",
       "      <td>Seo</td>\n",
       "      <td>5</td>\n",
       "      <td>0</td>\n",
       "    </tr>\n",
       "    <tr>\n",
       "      <th>2</th>\n",
       "      <td>US</td>\n",
       "      <td>28</td>\n",
       "      <td>1</td>\n",
       "      <td>Seo</td>\n",
       "      <td>4</td>\n",
       "      <td>0</td>\n",
       "    </tr>\n",
       "    <tr>\n",
       "      <th>3</th>\n",
       "      <td>China</td>\n",
       "      <td>39</td>\n",
       "      <td>1</td>\n",
       "      <td>Seo</td>\n",
       "      <td>5</td>\n",
       "      <td>0</td>\n",
       "    </tr>\n",
       "    <tr>\n",
       "      <th>4</th>\n",
       "      <td>US</td>\n",
       "      <td>30</td>\n",
       "      <td>1</td>\n",
       "      <td>Seo</td>\n",
       "      <td>6</td>\n",
       "      <td>0</td>\n",
       "    </tr>\n",
       "  </tbody>\n",
       "</table>\n",
       "</div>"
      ],
      "text/plain": [
       "  country  age  new_user source  total_pages_visited  converted\n",
       "0      UK   25         1    Ads                    1          0\n",
       "1      US   23         1    Seo                    5          0\n",
       "2      US   28         1    Seo                    4          0\n",
       "3   China   39         1    Seo                    5          0\n",
       "4      US   30         1    Seo                    6          0"
      ]
     },
     "execution_count": 2,
     "metadata": {},
     "output_type": "execute_result"
    }
   ],
   "source": [
    "df.head()"
   ]
  },
  {
   "cell_type": "code",
   "execution_count": 3,
   "id": "0384ecd3-b4b0-40cc-99c8-9c826c3acac3",
   "metadata": {},
   "outputs": [
    {
     "data": {
      "text/plain": [
       "(316200, 6)"
      ]
     },
     "execution_count": 3,
     "metadata": {},
     "output_type": "execute_result"
    }
   ],
   "source": [
    "df.shape"
   ]
  },
  {
   "cell_type": "markdown",
   "id": "e46548ef-9bf4-4e49-84d0-49e367a64d4c",
   "metadata": {},
   "source": [
    "## Descriptive Stats"
   ]
  },
  {
   "cell_type": "markdown",
   "id": "3867239c-0719-4451-a6ba-31f1893fb9e5",
   "metadata": {},
   "source": [
    "from below results we can tell that \n",
    "1. we don't have missing data\n",
    "2. this site is probably a US site, with a large amount of Chinese users\n",
    "3. average user is around 30 years old\n",
    "4. conversion rate is around 3%"
   ]
  },
  {
   "cell_type": "code",
   "execution_count": 4,
   "id": "54bd378b-f1b9-4d3c-885c-cbd292628ac0",
   "metadata": {},
   "outputs": [
    {
     "name": "stdout",
     "output_type": "stream",
     "text": [
      "<class 'pandas.core.frame.DataFrame'>\n",
      "RangeIndex: 316200 entries, 0 to 316199\n",
      "Data columns (total 6 columns):\n",
      " #   Column               Non-Null Count   Dtype \n",
      "---  ------               --------------   ----- \n",
      " 0   country              316200 non-null  object\n",
      " 1   age                  316200 non-null  int64 \n",
      " 2   new_user             316200 non-null  int64 \n",
      " 3   source               316200 non-null  object\n",
      " 4   total_pages_visited  316200 non-null  int64 \n",
      " 5   converted            316200 non-null  int64 \n",
      "dtypes: int64(4), object(2)\n",
      "memory usage: 14.5+ MB\n"
     ]
    }
   ],
   "source": [
    "df.info()"
   ]
  },
  {
   "cell_type": "code",
   "execution_count": 5,
   "id": "008a0a3a-da5a-4888-b759-81ab76a12812",
   "metadata": {},
   "outputs": [
    {
     "data": {
      "text/html": [
       "<div>\n",
       "<style scoped>\n",
       "    .dataframe tbody tr th:only-of-type {\n",
       "        vertical-align: middle;\n",
       "    }\n",
       "\n",
       "    .dataframe tbody tr th {\n",
       "        vertical-align: top;\n",
       "    }\n",
       "\n",
       "    .dataframe thead th {\n",
       "        text-align: right;\n",
       "    }\n",
       "</style>\n",
       "<table border=\"1\" class=\"dataframe\">\n",
       "  <thead>\n",
       "    <tr style=\"text-align: right;\">\n",
       "      <th></th>\n",
       "      <th>country</th>\n",
       "      <th>source</th>\n",
       "    </tr>\n",
       "  </thead>\n",
       "  <tbody>\n",
       "    <tr>\n",
       "      <th>count</th>\n",
       "      <td>316200</td>\n",
       "      <td>316200</td>\n",
       "    </tr>\n",
       "    <tr>\n",
       "      <th>unique</th>\n",
       "      <td>4</td>\n",
       "      <td>3</td>\n",
       "    </tr>\n",
       "    <tr>\n",
       "      <th>top</th>\n",
       "      <td>US</td>\n",
       "      <td>Seo</td>\n",
       "    </tr>\n",
       "    <tr>\n",
       "      <th>freq</th>\n",
       "      <td>178092</td>\n",
       "      <td>155040</td>\n",
       "    </tr>\n",
       "  </tbody>\n",
       "</table>\n",
       "</div>"
      ],
      "text/plain": [
       "       country  source\n",
       "count   316200  316200\n",
       "unique       4       3\n",
       "top         US     Seo\n",
       "freq    178092  155040"
      ]
     },
     "execution_count": 5,
     "metadata": {},
     "output_type": "execute_result"
    }
   ],
   "source": [
    "df.describe(include = object)"
   ]
  },
  {
   "cell_type": "code",
   "execution_count": 6,
   "id": "ec5930c7-edb7-4e2b-b3db-42a00febe357",
   "metadata": {},
   "outputs": [
    {
     "data": {
      "text/html": [
       "<div>\n",
       "<style scoped>\n",
       "    .dataframe tbody tr th:only-of-type {\n",
       "        vertical-align: middle;\n",
       "    }\n",
       "\n",
       "    .dataframe tbody tr th {\n",
       "        vertical-align: top;\n",
       "    }\n",
       "\n",
       "    .dataframe thead th {\n",
       "        text-align: right;\n",
       "    }\n",
       "</style>\n",
       "<table border=\"1\" class=\"dataframe\">\n",
       "  <thead>\n",
       "    <tr style=\"text-align: right;\">\n",
       "      <th></th>\n",
       "      <th>age</th>\n",
       "      <th>new_user</th>\n",
       "      <th>total_pages_visited</th>\n",
       "      <th>converted</th>\n",
       "    </tr>\n",
       "  </thead>\n",
       "  <tbody>\n",
       "    <tr>\n",
       "      <th>count</th>\n",
       "      <td>316200.000000</td>\n",
       "      <td>316200.000000</td>\n",
       "      <td>316200.000000</td>\n",
       "      <td>316200.000000</td>\n",
       "    </tr>\n",
       "    <tr>\n",
       "      <th>mean</th>\n",
       "      <td>30.569858</td>\n",
       "      <td>0.685465</td>\n",
       "      <td>4.872966</td>\n",
       "      <td>0.032258</td>\n",
       "    </tr>\n",
       "    <tr>\n",
       "      <th>std</th>\n",
       "      <td>8.271802</td>\n",
       "      <td>0.464331</td>\n",
       "      <td>3.341104</td>\n",
       "      <td>0.176685</td>\n",
       "    </tr>\n",
       "    <tr>\n",
       "      <th>min</th>\n",
       "      <td>17.000000</td>\n",
       "      <td>0.000000</td>\n",
       "      <td>1.000000</td>\n",
       "      <td>0.000000</td>\n",
       "    </tr>\n",
       "    <tr>\n",
       "      <th>25%</th>\n",
       "      <td>24.000000</td>\n",
       "      <td>0.000000</td>\n",
       "      <td>2.000000</td>\n",
       "      <td>0.000000</td>\n",
       "    </tr>\n",
       "    <tr>\n",
       "      <th>50%</th>\n",
       "      <td>30.000000</td>\n",
       "      <td>1.000000</td>\n",
       "      <td>4.000000</td>\n",
       "      <td>0.000000</td>\n",
       "    </tr>\n",
       "    <tr>\n",
       "      <th>75%</th>\n",
       "      <td>36.000000</td>\n",
       "      <td>1.000000</td>\n",
       "      <td>7.000000</td>\n",
       "      <td>0.000000</td>\n",
       "    </tr>\n",
       "    <tr>\n",
       "      <th>max</th>\n",
       "      <td>123.000000</td>\n",
       "      <td>1.000000</td>\n",
       "      <td>29.000000</td>\n",
       "      <td>1.000000</td>\n",
       "    </tr>\n",
       "  </tbody>\n",
       "</table>\n",
       "</div>"
      ],
      "text/plain": [
       "                 age       new_user  total_pages_visited      converted\n",
       "count  316200.000000  316200.000000        316200.000000  316200.000000\n",
       "mean       30.569858       0.685465             4.872966       0.032258\n",
       "std         8.271802       0.464331             3.341104       0.176685\n",
       "min        17.000000       0.000000             1.000000       0.000000\n",
       "25%        24.000000       0.000000             2.000000       0.000000\n",
       "50%        30.000000       1.000000             4.000000       0.000000\n",
       "75%        36.000000       1.000000             7.000000       0.000000\n",
       "max       123.000000       1.000000            29.000000       1.000000"
      ]
     },
     "execution_count": 6,
     "metadata": {},
     "output_type": "execute_result"
    }
   ],
   "source": [
    "df.describe()"
   ]
  },
  {
   "cell_type": "code",
   "execution_count": 7,
   "id": "f023c47b-c5f6-4ed9-8221-75e9ae0a6ab4",
   "metadata": {},
   "outputs": [
    {
     "data": {
      "text/plain": [
       "US         178092\n",
       "China       76602\n",
       "UK          48450\n",
       "Germany     13056\n",
       "Name: country, dtype: int64"
      ]
     },
     "execution_count": 7,
     "metadata": {},
     "output_type": "execute_result"
    }
   ],
   "source": [
    "df.country.value_counts()"
   ]
  },
  {
   "cell_type": "code",
   "execution_count": 8,
   "id": "098c162f-d61d-4f6d-ac77-225558643b73",
   "metadata": {},
   "outputs": [
    {
     "data": {
      "text/plain": [
       "Seo       155040\n",
       "Ads        88740\n",
       "Direct     72420\n",
       "Name: source, dtype: int64"
      ]
     },
     "execution_count": 8,
     "metadata": {},
     "output_type": "execute_result"
    }
   ],
   "source": [
    "df.source.value_counts()"
   ]
  },
  {
   "cell_type": "markdown",
   "id": "654a8fe8-d0d8-45e6-9324-160c2695d543",
   "metadata": {},
   "source": [
    "## Age Outliers"
   ]
  },
  {
   "cell_type": "markdown",
   "id": "8b656f18-8535-4510-a555-6fca2d06fae7",
   "metadata": {},
   "source": [
    "age 123 and 111 seem unrealistic with so many pages visited"
   ]
  },
  {
   "cell_type": "code",
   "execution_count": 9,
   "id": "f42f0122-8d62-40fd-befe-49b540ef2367",
   "metadata": {},
   "outputs": [
    {
     "name": "stdout",
     "output_type": "stream",
     "text": [
      "[123, 111, 79, 77, 73, 72, 70, 69, 68, 67, 66, 65, 64, 63, 62, 61, 60, 59, 58, 57, 56, 55, 54, 53, 52, 51, 50, 49, 48, 47, 46, 45, 44, 43, 42, 41, 40, 39, 38, 37, 36, 35, 34, 33, 32, 31, 30, 29, 28, 27, 26, 25, 24, 23, 22, 21, 20, 19, 18, 17]\n",
      "        country  age  new_user source  total_pages_visited  converted\n",
      "90928   Germany  123         0    Seo                   15          1\n",
      "295581       UK  111         0    Ads                   10          1\n"
     ]
    }
   ],
   "source": [
    "x = df.age\n",
    "print(sorted(df.age.unique(), reverse = True))\n",
    "print(df[df.age > 79])\n",
    "# remove age outliers\n",
    "df = df[df.age < 100]"
   ]
  },
  {
   "cell_type": "markdown",
   "id": "9e03bb3e-f210-47eb-bec7-182c3017f247",
   "metadata": {},
   "source": [
    "## Data Exploratory"
   ]
  },
  {
   "cell_type": "markdown",
   "id": "588a7a0b-62ee-43c6-a4b1-234023ede115",
   "metadata": {},
   "source": [
    "quickly investigate the variables and see how their distribution differs against the conversion classes.\n",
    "this will help us understand where there is a good indicator for the prediction"
   ]
  },
  {
   "cell_type": "code",
   "execution_count": 22,
   "id": "c8ad7976-25a5-4cb0-94fa-1d23447c8855",
   "metadata": {},
   "outputs": [
    {
     "data": {
      "text/plain": [
       "<AxesSubplot:xlabel='country'>"
      ]
     },
     "execution_count": 22,
     "metadata": {},
     "output_type": "execute_result"
    },
    {
     "data": {
      "image/png": "[encoded data removed]",
      "text/plain": [
       "<Figure size 432x288 with 1 Axes>"
      ]
     },
     "metadata": {
      "needs_background": "light"
     },
     "output_type": "display_data"
    }
   ],
   "source": [
    "df.groupby(['country'])['converted'].mean().plot.bar()"
   ]
  },
  {
   "cell_type": "code",
   "execution_count": 23,
   "id": "a415c863-bbc2-4c77-a2ef-bd4ba2397a66",
   "metadata": {},
   "outputs": [
    {
     "data": {
      "text/plain": [
       "(array([ 48449.,      0.,      0., 178092.,      0.,      0.,  76602.,\n",
       "             0.,      0.,  13055.]),\n",
       " array([0. , 0.3, 0.6, 0.9, 1.2, 1.5, 1.8, 2.1, 2.4, 2.7, 3. ]),\n",
       " <BarContainer object of 10 artists>)"
      ]
     },
     "execution_count": 23,
     "metadata": {},
     "output_type": "execute_result"
    },
    {
     "data": {
      "image/png": "[encoded data removed]",
      "text/plain": [
       "<Figure size 432x288 with 1 Axes>"
      ]
     },
     "metadata": {
      "needs_background": "light"
     },
     "output_type": "display_data"
    }
   ],
   "source": [
    "plt.hist(df.country)"
   ]
  },
  {
   "cell_type": "code",
   "execution_count": 24,
   "id": "41a753ca-6930-48e7-9f8a-c47fc98b0afc",
   "metadata": {},
   "outputs": [
    {
     "data": {
      "text/plain": [
       "(array([ 88739.,      0.,      0.,      0.,      0., 155039.,      0.,\n",
       "             0.,      0.,  72420.]),\n",
       " array([0. , 0.2, 0.4, 0.6, 0.8, 1. , 1.2, 1.4, 1.6, 1.8, 2. ]),\n",
       " <BarContainer object of 10 artists>)"
      ]
     },
     "execution_count": 24,
     "metadata": {},
     "output_type": "execute_result"
    },
    {
     "data": {
      "image/png": "[encoded data removed]",
      "text/plain": [
       "<Figure size 432x288 with 1 Axes>"
      ]
     },
     "metadata": {
      "needs_background": "light"
     },
     "output_type": "display_data"
    }
   ],
   "source": [
    "plt.hist(df.source)"
   ]
  },
  {
   "cell_type": "code",
   "execution_count": 25,
   "id": "3f8a5725-92fd-4942-88be-78ce1199c396",
   "metadata": {},
   "outputs": [
    {
     "data": {
      "text/plain": [
       "(array([306000.,      0.,      0.,      0.,      0.,      0.,      0.,\n",
       "             0.,      0.,  10198.]),\n",
       " array([0. , 0.1, 0.2, 0.3, 0.4, 0.5, 0.6, 0.7, 0.8, 0.9, 1. ]),\n",
       " <BarContainer object of 10 artists>)"
      ]
     },
     "execution_count": 25,
     "metadata": {},
     "output_type": "execute_result"
    },
    {
     "data": {
      "image/png": "[encoded data removed]",
      "text/plain": [
       "<Figure size 432x288 with 1 Axes>"
      ]
     },
     "metadata": {
      "needs_background": "light"
     },
     "output_type": "display_data"
    }
   ],
   "source": [
    "plt.hist(df.converted)"
   ]
  },
  {
   "cell_type": "code",
   "execution_count": 29,
   "id": "34b88d56-3f85-4444-83a9-b5192bf8b05e",
   "metadata": {},
   "outputs": [
    {
     "data": {
      "text/plain": [
       "<AxesSubplot:xlabel='total_pages_visited'>"
      ]
     },
     "execution_count": 29,
     "metadata": {},
     "output_type": "execute_result"
    },
    {
     "data": {
      "image/png": "[encoded data removed]",
      "text/plain": [
       "<Figure size 432x288 with 1 Axes>"
      ]
     },
     "metadata": {
      "needs_background": "light"
     },
     "output_type": "display_data"
    }
   ],
   "source": [
    "df.groupby(['total_pages_visited'])['converted'].mean().plot()"
   ]
  },
  {
   "cell_type": "markdown",
   "id": "1b5817c8-b0cb-4124-86c1-0dd7315c2bc2",
   "metadata": {},
   "source": [
    "## correlation matrix"
   ]
  },
  {
   "cell_type": "code",
   "execution_count": 26,
   "id": "b8586f05-58f1-473c-9025-3b87a21040f5",
   "metadata": {},
   "outputs": [
    {
     "data": {
      "image/png": "[encoded data removed]",
      "text/plain": [
       "<Figure size 1440x720 with 2 Axes>"
      ]
     },
     "metadata": {
      "needs_background": "light"
     },
     "output_type": "display_data"
    }
   ],
   "source": [
    "fig, ax = plt.subplots(figsize = (20,10))\n",
    "df_corr = df.corr()  \n",
    "im = ax.matshow(df_corr, cmap = 'seismic')\n",
    "fig.colorbar(im)\n",
    "labels = [col.lower() for col in df_corr.columns]\n",
    "plt.xticks(range(len(df_corr.columns)), df_corr.columns, rotation = 45)\n",
    "plt.yticks(range(len(df_corr.columns)), df_corr.columns) \n",
    "plt.tight_layout()"
   ]
  },
  {
   "cell_type": "code",
   "execution_count": 35,
   "id": "d6e32a9d-3ebb-4848-a93f-151e36328606",
   "metadata": {},
   "outputs": [
    {
     "data": {
      "text/html": [
       "<div>\n",
       "<style scoped>\n",
       "    .dataframe tbody tr th:only-of-type {\n",
       "        vertical-align: middle;\n",
       "    }\n",
       "\n",
       "    .dataframe tbody tr th {\n",
       "        vertical-align: top;\n",
       "    }\n",
       "\n",
       "    .dataframe thead th {\n",
       "        text-align: right;\n",
       "    }\n",
       "</style>\n",
       "<table border=\"1\" class=\"dataframe\">\n",
       "  <thead>\n",
       "    <tr style=\"text-align: right;\">\n",
       "      <th></th>\n",
       "      <th>source</th>\n",
       "      <th>converted</th>\n",
       "    </tr>\n",
       "  </thead>\n",
       "  <tbody>\n",
       "    <tr>\n",
       "      <th>0</th>\n",
       "      <td>Ads</td>\n",
       "      <td>0.034472</td>\n",
       "    </tr>\n",
       "    <tr>\n",
       "      <th>1</th>\n",
       "      <td>Direct</td>\n",
       "      <td>0.028169</td>\n",
       "    </tr>\n",
       "    <tr>\n",
       "      <th>2</th>\n",
       "      <td>Seo</td>\n",
       "      <td>0.032888</td>\n",
       "    </tr>\n",
       "  </tbody>\n",
       "</table>\n",
       "</div>"
      ],
      "text/plain": [
       "   source  converted\n",
       "0     Ads   0.034472\n",
       "1  Direct   0.028169\n",
       "2     Seo   0.032888"
      ]
     },
     "execution_count": 35,
     "metadata": {},
     "output_type": "execute_result"
    },
    {
     "data": {
      "image/png": "[encoded data removed]",
      "text/plain": [
       "<Figure size 1440x720 with 2 Axes>"
      ]
     },
     "metadata": {
      "needs_background": "light"
     },
     "output_type": "display_data"
    }
   ],
   "source": [
    "import seaborn as sns\n",
    "grouped = df[['source', 'converted']].groupby('source').mean().reset_index()\n",
    "fig, ax = plt.subplots(nrows=1, ncols=2, figsize=(20,10))\n",
    "sns.countplot(x='source', hue='converted', data=df, ax=ax[0])\n",
    "ax[0].set_title('Count Plot of Different Sources', fontsize=18)\n",
    "ax[0].set_yscale('log')\n",
    "# a barplot shows only the mean\n",
    "sns.barplot(x='source', y='converted', data=grouped, ax=ax[1]);\n",
    "ax[1].set_title('Mean Conversion Rate per Source', fontsize=18)\n",
    "plt.tight_layout() \n",
    "grouped"
   ]
  },
  {
   "cell_type": "code",
   "execution_count": 36,
   "id": "d5bafb04-af99-4372-8a65-66c40cfaf50e",
   "metadata": {},
   "outputs": [
    {
     "data": {
      "image/png": "[encoded data removed]",
      "text/plain": [
       "<Figure size 1296x432 with 2 Axes>"
      ]
     },
     "metadata": {
      "needs_background": "light"
     },
     "output_type": "display_data"
    }
   ],
   "source": [
    "grouped = df[['new_user', 'converted']].groupby('new_user').mean().reset_index()\n",
    "\n",
    "fig, ax = plt.subplots(nrows=1, ncols=2, figsize=(18, 6))\n",
    "sns.countplot(x='new_user', hue='converted', data=df, ax=ax[0])\n",
    "ax[0].set_title('Count Plot of User Types', fontsize=16)\n",
    "ax[0].set_yscale('log')\n",
    "sns.barplot(x='new_user', y='converted', data=df, ax=ax[1]);\n",
    "ax[1].set_title('Mean Conversion Rate per User Type', fontsize=16)\n",
    "plt.tight_layout()\n",
    "plt.show()"
   ]
  },
  {
   "cell_type": "code",
   "execution_count": 37,
   "id": "33c0dc8a-0791-410b-a6f9-db42bea016ad",
   "metadata": {},
   "outputs": [
    {
     "data": {
      "image/png": "[encoded data removed]",
      "text/plain": [
       "<Figure size 1296x432 with 2 Axes>"
      ]
     },
     "metadata": {
      "needs_background": "light"
     },
     "output_type": "display_data"
    }
   ],
   "source": [
    "# Visualization of different countries\n",
    "\n",
    "grouped = df[['country', 'converted']].groupby('country').mean().reset_index()\n",
    "\n",
    "fig, ax = plt.subplots(nrows=1, ncols=2, figsize=(18, 6))\n",
    "sns.countplot(x='country', hue='converted', data=df, ax=ax[0])\n",
    "ax[0].set_title('Count Plot of Country', fontsize=16)\n",
    "ax[0].set_yscale('log')\n",
    "sns.barplot(x='country', y='converted', data=df, ax=ax[1]);\n",
    "ax[1].set_title('Mean Conversion Rate per Country', fontsize=16)\n",
    "plt.tight_layout()\n",
    "plt.show()"
   ]
  },
  {
   "cell_type": "code",
   "execution_count": 56,
   "id": "4d371d6c-68ae-4584-a392-2f752d0f6a6a",
   "metadata": {},
   "outputs": [
    {
     "data": {
      "image/png": "[encoded data removed]",
      "text/plain": [
       "<Figure size 1296x432 with 2 Axes>"
      ]
     },
     "metadata": {
      "needs_background": "light"
     },
     "output_type": "display_data"
    }
   ],
   "source": [
    "grouped = df[['age', 'converted']].groupby('age').mean().reset_index() \n",
    "hist_kws={'histtype':'bar', 'edgecolor':'black', 'alpha':0.2}\n",
    "fig,ax = plt.subplots(nrows=1, ncols=2,figsize=(18,6))\n",
    "sns.histplot(data = df, x = 'age', hue = 'converted',ax=ax[0],stat='probability', kde = True)\n",
    "ax[0].set_title('Count Plot of Age', fontsize=18)\n",
    "ax[1].plot(grouped['age'], grouped['converted'], '.-')\n",
    "ax[1].set_title('Mean Conversion Rate vs. Age', fontsize=18)\n",
    "ax[1].set_xlabel('age')\n",
    "ax[1].set_ylabel('Mean convertion rate')\n",
    "ax[1].grid(True) "
   ]
  },
  {
   "cell_type": "code",
   "execution_count": null,
   "id": "0e14f0e0-daf5-4b41-8048-cfe17222da44",
   "metadata": {},
   "outputs": [],
   "source": [
    "grouped = df[['total_pages_visited', 'converted']].groupby('total_pages_visited').mean().reset_index() \n",
    "\n",
    "sns.displot(data = df,x = 'total_pages_visited',col = 'converted', kde = True ) \n",
    "#ax[0].set_title('Count Plot of Age', fontsize=18)\n",
    "#ax[0].legend()\n",
    "fig, ax = plt.subplots(1,1, figsize=(18,6))\n",
    "ax.plot(grouped['total_pages_visited'], grouped['converted'], '.-')\n",
    "ax.set_title('Mean Conversion Rate vs. total_pages_visited', fontsize=18)\n",
    "ax.set_xlabel('total_pages_visited')\n",
    "ax.set_ylabel('Mean convertion rate')\n",
    "ax.grid(True) "
   ]
  },
  {
   "cell_type": "code",
   "execution_count": null,
   "id": "c547075b-e938-45be-b431-cae89c4c781e",
   "metadata": {},
   "outputs": [],
   "source": [
    "sns.pairplot(df, diag_kind = 'kde')"
   ]
  },
  {
   "cell_type": "markdown",
   "id": "28721d97-29e9-47f7-b088-2a58f509838e",
   "metadata": {},
   "source": [
    "## prediction model"
   ]
  },
  {
   "cell_type": "markdown",
   "id": "fefdbe29-676b-4cdd-909a-206a70fea9a0",
   "metadata": {},
   "source": [
    "### logistic regression"
   ]
  },
  {
   "cell_type": "code",
   "execution_count": null,
   "id": "d7857075-1569-4886-ad9d-633e38ec8b72",
   "metadata": {},
   "outputs": [],
   "source": [
    "from sklearn.model_selection import train_test_split\n",
    "conversion_df = pd.get_dummies(df) \n",
    "conversion_y = conversion_df.converted\n",
    "conversion_x = conversion_df.loc[:,conversion_df.columns!='converted']"
   ]
  },
  {
   "cell_type": "code",
   "execution_count": null,
   "id": "caee9648-fa3f-4b15-89ce-7b7e2189f8f4",
   "metadata": {},
   "outputs": [],
   "source": [
    "c_x_train,c_x_test,c_y_train,c_y_test = train_test_split(conversion_x,conversion_y,test_size=0.3,random_state=0,stratify=conversion_y)"
   ]
  },
  {
   "cell_type": "code",
   "execution_count": null,
   "id": "8807802a-a28d-4639-9f74-f2aee3c1a4eb",
   "metadata": {},
   "outputs": [],
   "source": [
    "from sklearn.preprocessing import StandardScaler\n",
    "from sklearn.pipeline import Pipeline\n",
    "from sklearn.linear_model import LogisticRegression\n",
    "converted_rate_lr = Pipeline([\n",
    "    ('scale', StandardScaler()),\n",
    "    ('lr', LogisticRegression(\n",
    "        solver = 'lbfgs', class_weight = 'balanced', random_state = 0))\n",
    "])\n",
    "converted_or_not = converted_rate_lr.fit(c_x_train,c_y_train)\n",
    "converted_pred = converted_or_not.predict(c_x_test)"
   ]
  },
  {
   "cell_type": "code",
   "execution_count": null,
   "id": "b4bb3e69-330e-493c-b859-96449025b9ca",
   "metadata": {},
   "outputs": [],
   "source": [
    "import matplotlib.pyplot as plt\n",
    "import numpy as np\n",
    "import seaborn as sns\n",
    "from sklearn.metrics import confusion_matrix\n",
    "def confusion_matrix_visual(y_true, y_pred, class_labels, ax=None,title=None, **kwargs):\n",
    "    \"\"\"\n",
    "    Create a confusion matrix heatmap to evaluate classification.\n",
    "    Parameters:\n",
    "    - y_test: The true values for y\n",
    "    - preds: The predicted values for y\n",
    "    - class_labels: What to label the classes.\n",
    "    - ax: The matplotlib Axes object to plot on.\n",
    "    - title: The title for the confusion matrix\n",
    "    - kwargs: Additional keyword arguments for `seaborn.heatmap()`\n",
    "    Returns: A confusion matrix heatmap.\n",
    "    \"\"\"\n",
    "    mat = confusion_matrix(y_true, y_pred)\n",
    "    axes = sns.heatmap(\n",
    "    mat.T, square=True, annot=True, fmt='d',\n",
    "    cbar=True, cmap=plt.cm.Blues, ax=ax, **kwargs\n",
    "    )\n",
    "    axes.set_xlabel('Actual')\n",
    "    axes.set_ylabel('Model Prediction')\n",
    "    tick_marks = np.arange(len(class_labels)) + 0.5\n",
    "    axes.set_xticks(tick_marks)\n",
    "    axes.set_xticklabels(class_labels)\n",
    "    axes.set_yticks(tick_marks)\n",
    "    axes.set_yticklabels(class_labels, rotation=0)\n",
    "    axes.set_title(title or 'Confusion Matrix')\n",
    "    return axes"
   ]
  },
  {
   "cell_type": "code",
   "execution_count": null,
   "id": "61b99523-b89a-42ba-8e50-ba591904fb2a",
   "metadata": {},
   "outputs": [],
   "source": [
    "confusion_matrix_visual(c_y_test,converted_pred,[0,1])"
   ]
  },
  {
   "cell_type": "markdown",
   "id": "f56979e4-5de7-46c4-93c3-fef1115bfb86",
   "metadata": {},
   "source": [
    "### random forest"
   ]
  },
  {
   "cell_type": "code",
   "execution_count": null,
   "id": "7faaa485-1fa7-4794-bf9e-c7ab976d7b18",
   "metadata": {},
   "outputs": [],
   "source": [
    "from sklearn.ensemble import RandomForestClassifier\n",
    "from sklearn.model_selection import GridSearchCV\n",
    "rf = RandomForestClassifier(n_estimators = 100, random_state = 0)\n",
    "search_space = {\n",
    "    'max_depth':[4,8],\n",
    "    'min_samples_leaf':[4,6]\n",
    "}\n",
    "rf_grid = GridSearchCV(\n",
    "    rf,search_space,cv = 5, scoring = 'precision'\n",
    ").fit(c_x_train,c_y_train)\n",
    "rf_grid.score(c_x_test,c_y_test)"
   ]
  },
  {
   "cell_type": "markdown",
   "id": "e7c89483-b860-4069-937d-2e028026896d",
   "metadata": {},
   "source": [
    "### gradient boosting"
   ]
  },
  {
   "cell_type": "code",
   "execution_count": null,
   "id": "a2b0a0f5-b398-4a48-ba9c-5a2fd5deeec9",
   "metadata": {},
   "outputs": [],
   "source": [
    "from sklearn.ensemble import GradientBoostingClassifier\n",
    "gb = GradientBoostingClassifier(n_estimators = 100,random_state = 0)\n",
    "search_space = {\n",
    "    'max_depth':[4,8],\n",
    "    'min_samples_leaf':[4,6],\n",
    "    'learning_rate':[0.1,0.5,1]\n",
    "}\n",
    "gb_grid = GridSearchCV(\n",
    "    gb,search_space,cv = 5,scoring = 'f1_macro'\n",
    ").fit(c_x_train,c_y_train)\n",
    "gb_grid.score(c_x_test,c_y_test)"
   ]
  },
  {
   "cell_type": "code",
   "execution_count": null,
   "id": "317821e8-3e67-4bd0-a094-b21cf018b524",
   "metadata": {},
   "outputs": [],
   "source": [
    "import graphviz\n",
    "from sklearn.tree import DecisionTreeClassifier\n",
    "from sklearn.tree import export_graphviz\n",
    "from graphviz import Source\n",
    "\n",
    "tree = DecisionTreeClassifier(max_depth = 2, class_weight = {0:1, 1:10}, min_impurity_decrease = 0.001)\n",
    "tree.fit(c_x_train , c_y_train)\n",
    "  \n",
    "#visualize it\n",
    "export_graphviz(tree, out_file=\"tree_conversion.dot\", feature_names=c_x_train.columns, proportion=True, rotate=True)\n",
    "with open(\"tree_conversion.dot\") as f:\n",
    "    dot_graph = f.read()\n",
    "  \n",
    "s = Source.from_file(\"tree_conversion.dot\")\n",
    "s.view()\n"
   ]
  }
 ],
 "metadata": {
  "kernelspec": {
   "display_name": "takehome_env",
   "language": "python",
   "name": "takehome_env"
  },
  "language_info": {
   "codemirror_mode": {
    "name": "ipython",
    "version": 3
   },
   "file_extension": ".py",
   "mimetype": "text/x-python",
   "name": "python",
   "nbconvert_exporter": "python",
   "pygments_lexer": "ipython3",
   "version": "3.7.9"
  }
 },
 "nbformat": 4,
 "nbformat_minor": 5
}
