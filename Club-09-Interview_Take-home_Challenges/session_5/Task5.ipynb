{
 "cells": [
  {
   "cell_type": "code",
   "execution_count": 1,
   "id": "2393dbc9-477e-48e0-8112-6091624a6572",
   "metadata": {},
   "outputs": [
    {
     "name": "stdout",
     "output_type": "stream",
     "text": [
      "original dataframe:    user_id                                                 id\n",
      "0   222087                                              27,26\n",
      "1  1343649                                            6,47,17\n",
      "2   404134                       18,12,23,22,27,43,38,20,35,1\n",
      "3  1110200                                 9,23,2,20,26,47,37\n",
      "4   224107  31,18,5,13,1,21,48,16,26,2,44,32,20,37,42,35,4...\n",
      "   user_id  Item_id        Item_name\n",
      "0   222087       27     dishwashing \n",
      "1   222087       26  spaghetti sauce\n",
      "2  1343649        6          poultry\n",
      "3  1343649       47             pork\n",
      "4  1343649       17             beef\n"
     ]
    }
   ],
   "source": [
    "import datetime\n",
    "import numpy as np\n",
    "import pandas as pd\n",
    "%matplotlib inline\n",
    "import matplotlib.pyplot as plt\n",
    "item = pd.read_csv('data/item_to_id.csv')\n",
    "purchase = pd.read_csv('data/purchase_history.csv')\n",
    "print(f'original dataframe: {purchase.head()}')\n",
    "purchase = purchase.assign(Item_id = purchase['id'].str.split(',')).explode('Item_id').drop(columns = 'id')\n",
    "purchase['Item_id'] = pd.to_numeric(purchase['Item_id'])\n",
    "# # join the two tables together\n",
    "df = pd.merge(left = purchase, right = item, left_on = 'Item_id', right_on = 'Item_id', how = 'left')\n",
    "print(df.head()) "
   ]
  },
  {
   "cell_type": "markdown",
   "id": "a3a32699-411b-4570-9f7c-13bbdc967615",
   "metadata": {},
   "source": [
    "## the customer who bought the most items overall in her lifetime"
   ]
  },
  {
   "cell_type": "code",
   "execution_count": 2,
   "id": "4a665394-17df-4d6d-8fe3-dd964c075ccf",
   "metadata": {},
   "outputs": [
    {
     "data": {
      "text/plain": [
       "269335"
      ]
     },
     "execution_count": 2,
     "metadata": {},
     "output_type": "execute_result"
    }
   ],
   "source": [
    "result = df.groupby('user_id')['Item_id'].agg(['sum','count']).\\\n",
    "            drop(columns = 'sum').sort_values('count', ascending = False).\\\n",
    "                reset_index()\n",
    "\n",
    "result.loc[\n",
    "    result['count'].idxmax(),\n",
    "    'user_id'\n",
    "]"
   ]
  },
  {
   "cell_type": "markdown",
   "id": "b3eb997c-ccf4-4ac3-9f9e-bd4d506e91ed",
   "metadata": {},
   "source": [
    "## for each item, the customer who bought that product the most"
   ]
  },
  {
   "cell_type": "code",
   "execution_count": 3,
   "id": "1d4841ec-84d4-4ba6-9409-f8601cbeaa41",
   "metadata": {},
   "outputs": [
    {
     "data": {
      "text/html": [
       "<div>\n",
       "<style scoped>\n",
       "    .dataframe tbody tr th:only-of-type {\n",
       "        vertical-align: middle;\n",
       "    }\n",
       "\n",
       "    .dataframe tbody tr th {\n",
       "        vertical-align: top;\n",
       "    }\n",
       "\n",
       "    .dataframe thead th {\n",
       "        text-align: right;\n",
       "    }\n",
       "</style>\n",
       "<table border=\"1\" class=\"dataframe\">\n",
       "  <thead>\n",
       "    <tr style=\"text-align: right;\">\n",
       "      <th></th>\n",
       "      <th>user_id</th>\n",
       "      <th>Item_id</th>\n",
       "    </tr>\n",
       "  </thead>\n",
       "  <tbody>\n",
       "    <tr>\n",
       "      <th>2215</th>\n",
       "      <td>917199</td>\n",
       "      <td>18</td>\n",
       "    </tr>\n",
       "    <tr>\n",
       "      <th>30149</th>\n",
       "      <td>917199</td>\n",
       "      <td>18</td>\n",
       "    </tr>\n",
       "    <tr>\n",
       "      <th>31378</th>\n",
       "      <td>917199</td>\n",
       "      <td>18</td>\n",
       "    </tr>\n",
       "    <tr>\n",
       "      <th>37793</th>\n",
       "      <td>917199</td>\n",
       "      <td>18</td>\n",
       "    </tr>\n",
       "    <tr>\n",
       "      <th>38706</th>\n",
       "      <td>917199</td>\n",
       "      <td>18</td>\n",
       "    </tr>\n",
       "  </tbody>\n",
       "</table>\n",
       "</div>"
      ],
      "text/plain": [
       "       user_id  Item_id\n",
       "2215    917199       18\n",
       "30149   917199       18\n",
       "31378   917199       18\n",
       "37793   917199       18\n",
       "38706   917199       18"
      ]
     },
     "execution_count": 3,
     "metadata": {},
     "output_type": "execute_result"
    }
   ],
   "source": [
    "df.loc[\n",
    "        (df.user_id == 31625) & (df.Item_name == 'sugar'),\n",
    "]\n",
    "df.loc[\n",
    "        (df.user_id == 917199) & (df.Item_name == 'laundry detergent'),\n",
    "]\n",
    "purchase.loc[\n",
    "        (purchase.user_id == 917199) & (purchase.Item_id == 18),\n",
    "]\n"
   ]
  },
  {
   "cell_type": "code",
   "execution_count": 4,
   "id": "40bf10f7-832c-4ab4-b788-95f68e1c31bc",
   "metadata": {},
   "outputs": [
    {
     "name": "stdout",
     "output_type": "stream",
     "text": [
      "        user_id          Item_name  count\n",
      "177237   917199  laundry detergent      5\n",
      "231489  1198106        cauliflower      5\n",
      "51398    269335            lettuce      5\n",
      "5864      31625            lettuce      5\n",
      "116091   599172    sandwich loaves      5\n",
      "177978   920002                tea      5\n",
      "265420  1374100               pork      4\n",
      "248280  1286028           broccoli      4\n",
      "244305  1264573  laundry detergent      4\n",
      "8542      46757       dinner rolls      4\n",
      "3766      19126            lettuce      4\n",
      "158728   820788             bagels      4\n",
      "150170   776603          cucumbers      4\n",
      "119673   618914            carrots      4\n",
      "224932  1158937          tortillas      4\n",
      "245547  1271258               soda      4\n",
      "158744   820788            lettuce      4\n",
      "47848    250777           broccoli      4\n",
      "64644    334664            poultry      4\n",
      "122657   635240          cucumbers      4\n"
     ]
    },
    {
     "data": {
      "text/plain": [
       "Item_name    laundry detergent\n",
       "user_id                 917199\n",
       "Name: 177237, dtype: object"
      ]
     },
     "execution_count": 4,
     "metadata": {},
     "output_type": "execute_result"
    }
   ],
   "source": [
    "result = df.groupby(['user_id','Item_name'])['Item_id'].agg(['sum', 'count']).\\\n",
    "            drop(columns = 'sum').reset_index().\\\n",
    "                sort_values('count', ascending = False) \n",
    "print(result.head(20))\n",
    "result.loc[\n",
    "    result['count'].idxmax(),\n",
    "    ['Item_name', 'user_id']\n",
    "]"
   ]
  }
 ],
 "metadata": {
  "kernelspec": {
   "display_name": "takehome_env",
   "language": "python",
   "name": "takehome_env"
  },
  "language_info": {
   "codemirror_mode": {
    "name": "ipython",
    "version": 3
   },
   "file_extension": ".py",
   "mimetype": "text/x-python",
   "name": "python",
   "nbconvert_exporter": "python",
   "pygments_lexer": "ipython3",
   "version": "3.7.9"
  }
 },
 "nbformat": 4,
 "nbformat_minor": 5
}
